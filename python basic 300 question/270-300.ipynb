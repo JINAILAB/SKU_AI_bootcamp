{
 "cells": [
  {
   "cell_type": "markdown",
   "id": "d57a35e0",
   "metadata": {},
   "source": [
    "### 271 Account 클래스\n",
    "은행에 가서 계좌를 개설하면 은행이름, 예금주, 계좌번호, 잔액이 설정됩니다. Account 클래스를 생성한 후 생성자를 구현해보세요. 생성자에서는 예금주와 초기 잔액만 입력 받습니다. 은행이름은 SC은행으로 계좌번호는 3자리-2자리-6자리 형태로 랜덤하게 생성됩니다.     \n",
    "\n",
    "은행이름: SC은행     \n",
    "계좌번호: 111-11-111111      \n"
   ]
  },
  {
   "cell_type": "code",
   "execution_count": 25,
   "id": "6edd3cb0",
   "metadata": {},
   "outputs": [
    {
     "name": "stdout",
     "output_type": "stream",
     "text": [
      "김민수\n",
      "100\n",
      "SC은행\n",
      "130-03-83760\n"
     ]
    }
   ],
   "source": [
    "import random\n",
    "class Account:\n",
    "    def __init__(self, name, money):\n",
    "        self.bank = 'SC은행'\n",
    "        self.name = name\n",
    "        _acc = [[str(random.randint(0, 9)) for i in range(3)], [str(random.randint(0, 9)) for i in range(2)],\n",
    "                [str(random.randint(0, 9)) for i in range(5)]]\n",
    "        for i in range(len(_acc)):\n",
    "            _acc[i] = ''.join(_acc[i])\n",
    "        self.account = '-'.join(_acc)\n",
    "        self.money = money\n",
    "\n",
    "kim = Account(\"김민수\", 100)\n",
    "print(kim.name)\n",
    "print(kim.money)\n",
    "print(kim.bank)\n",
    "print(kim.account)"
   ]
  },
  {
   "cell_type": "code",
   "execution_count": 27,
   "id": "87a0a453",
   "metadata": {},
   "outputs": [
    {
     "name": "stdout",
     "output_type": "stream",
     "text": [
      "김민수\n",
      "100\n",
      "SC은행\n",
      "725-48-872229\n"
     ]
    }
   ],
   "source": [
    "# 답지\n",
    "import random\n",
    "\n",
    "class Account:\n",
    "    def __init__(self, name, balance):\n",
    "        self.name = name\n",
    "        self.balance = balance\n",
    "        self.bank = \"SC은행\"\n",
    "        num1 = random.randint(0, 999)\n",
    "        num2 = random.randint(0, 99)\n",
    "        num3 = random.randint(0, 999999)\n",
    "\n",
    "        num1 = str(num1).zfill(3)      # 1 -> '1' -> '001'\n",
    "        num2 = str(num2).zfill(2)      # 1 -> '1' -> '01'\n",
    "        num3 = str(num3).zfill(6)      # 1 -> '1' -> '0000001'\n",
    "        self.account_number = num1 + '-' + num2 + '-' + num3  # 001-01-000001\n",
    "\n",
    "kim = Account(\"김민수\", 100)\n",
    "print(kim.name)\n",
    "print(kim.balance)\n",
    "print(kim.bank)\n",
    "print(kim.account_number)"
   ]
  },
  {
   "cell_type": "markdown",
   "id": "dea7bb26",
   "metadata": {},
   "source": [
    "### 272 클래스 변수\n",
    "클래스 변수를 사용해서 Account 클래스로부터 생성된 계좌 객체의 개수를 저장하세요."
   ]
  },
  {
   "cell_type": "code",
   "execution_count": 30,
   "id": "eb4823b1",
   "metadata": {},
   "outputs": [
    {
     "name": "stdout",
     "output_type": "stream",
     "text": [
      "1\n",
      "2\n"
     ]
    }
   ],
   "source": [
    "import random\n",
    "class Account:\n",
    "    count = 0\n",
    "    def __init__(self, name, money):\n",
    "        self.bank = 'SC은행'\n",
    "        self.name = name\n",
    "        _acc = [[str(random.randint(0, 9)) for i in range(3)], [str(random.randint(0, 9)) for i in range(2)],\n",
    "                [str(random.randint(0, 9)) for i in range(5)]]\n",
    "        for i in range(len(_acc)):\n",
    "            _acc[i] = ''.join(_acc[i])\n",
    "        self.account = '-'.join(_acc)\n",
    "        self.money = money\n",
    "        \n",
    "        Account.count += 1\n",
    "        \n",
    "kim = Account(\"김민수\", 100)\n",
    "print(Account.count)\n",
    "lee = Account(\"이민수\", 100)\n",
    "print(Account.count)"
   ]
  },
  {
   "cell_type": "markdown",
   "id": "4e0e793a",
   "metadata": {},
   "source": [
    "### 273 클래스 변수 출력\n",
    "Account 클래스로부터 생성된 계좌의 개수를 출력하는 get_account_num() 메서드를 추가하세요."
   ]
  },
  {
   "cell_type": "code",
   "execution_count": null,
   "id": "559e8f1a",
   "metadata": {},
   "outputs": [],
   "source": [
    "import random\n",
    "class Account:\n",
    "    count = 0\n",
    "    def __init__(self, name, money):\n",
    "        self.bank = 'SC은행'\n",
    "        self.name = name\n",
    "        _acc = [[str(random.randint(0, 9)) for i in range(3)], [str(random.randint(0, 9)) for i in range(2)],\n",
    "                [str(random.randint(0, 9)) for i in range(5)]]\n",
    "        for i in range(len(_acc)):\n",
    "            _acc[i] = ''.join(_acc[i])\n",
    "        self.account = '-'.join(_acc)\n",
    "        self.money = money\n",
    "        \n",
    "        Account.count += 1\n",
    "    \n",
    "    "
   ]
  },
  {
   "cell_type": "markdown",
   "id": "30cae8ba",
   "metadata": {},
   "source": [
    "### 274 입금 메서드\n",
    "Account 클래스에 입금을 위한 deposit 메서드를 추가하세요. 입금은 최소 1원 이상만 가능합니다."
   ]
  },
  {
   "cell_type": "code",
   "execution_count": null,
   "id": "9fbd495e",
   "metadata": {},
   "outputs": [],
   "source": []
  },
  {
   "cell_type": "markdown",
   "id": "0b6118b1",
   "metadata": {},
   "source": [
    "### 275 출금 메서드\n",
    "Account 클래스에 출금을 위한 withdraw 메서드를 추가하세요. 출금은 계좌의 잔고 이상으로 출금할 수는 없습니다."
   ]
  },
  {
   "cell_type": "code",
   "execution_count": null,
   "id": "a8407b27",
   "metadata": {},
   "outputs": [],
   "source": []
  },
  {
   "cell_type": "markdown",
   "id": "de1440cd",
   "metadata": {},
   "source": [
    "### 276 정보 출력 메서드\n",
    "Account 인스턴스에 저장된 정보를 출력하는 display_info() 메서드를 추가하세요. 잔고는 세자리마다 쉼표를 출력하세요.    \n",
    "\n",
    "은행이름: SC은행   \n",
    "예금주: 파이썬    \n",
    "계좌번호: 111-11-111111    \n",
    "잔고: 10,000원     "
   ]
  },
  {
   "cell_type": "code",
   "execution_count": null,
   "id": "98364d32",
   "metadata": {},
   "outputs": [],
   "source": []
  },
  {
   "cell_type": "markdown",
   "id": "09b91569",
   "metadata": {},
   "source": [
    "### 277 이자 지급하기\n",
    "입금 횟수가 5회가 될 때 잔고를 기준으로 1%의 이자가 잔고에 추가되도록 코드를 변경해보세요."
   ]
  },
  {
   "cell_type": "code",
   "execution_count": null,
   "id": "030ae1bd",
   "metadata": {},
   "outputs": [],
   "source": []
  },
  {
   "cell_type": "markdown",
   "id": "7e48c670",
   "metadata": {},
   "source": [
    "### 278 여러 객체 생성\n",
    "Account 클래스로부터 3개 이상 인스턴스를 생성하고 생성된 인스턴스를 리스트에 저장해보세요."
   ]
  },
  {
   "cell_type": "code",
   "execution_count": null,
   "id": "f6ec8741",
   "metadata": {},
   "outputs": [],
   "source": []
  },
  {
   "cell_type": "markdown",
   "id": "0d7b1b83",
   "metadata": {},
   "source": [
    "### 279 객체 순회\n",
    "반복문을 통해 리스트에 있는 객체를 순회하면서 잔고가 100만원 이상인 고객의 정보만 출력하세요."
   ]
  },
  {
   "cell_type": "code",
   "execution_count": null,
   "id": "9b67988e",
   "metadata": {},
   "outputs": [],
   "source": []
  },
  {
   "cell_type": "markdown",
   "id": "97fb9919",
   "metadata": {},
   "source": [
    "### 280 입출금 내역\n",
    "입금과 출금 내역이 기록되도록 코드를 업데이트 하세요. 입금 내역과 출금 내역을 출력하는 deposit_history와 withdraw_history 메서드를 추가하세요."
   ]
  },
  {
   "cell_type": "code",
   "execution_count": null,
   "id": "504acfa7",
   "metadata": {},
   "outputs": [],
   "source": []
  },
  {
   "cell_type": "markdown",
   "id": "e80992a1",
   "metadata": {},
   "source": [
    "### "
   ]
  },
  {
   "cell_type": "markdown",
   "id": "0dc61315",
   "metadata": {},
   "source": [
    "### "
   ]
  },
  {
   "cell_type": "markdown",
   "id": "24b31267",
   "metadata": {},
   "source": [
    "### "
   ]
  },
  {
   "cell_type": "markdown",
   "id": "3d6ca6df",
   "metadata": {},
   "source": [
    "### "
   ]
  },
  {
   "cell_type": "markdown",
   "id": "427d5702",
   "metadata": {},
   "source": [
    "### "
   ]
  },
  {
   "cell_type": "markdown",
   "id": "0881b1a2",
   "metadata": {},
   "source": [
    "### "
   ]
  },
  {
   "cell_type": "markdown",
   "id": "0464aef5",
   "metadata": {},
   "source": [
    "### "
   ]
  },
  {
   "cell_type": "markdown",
   "id": "c1bf380d",
   "metadata": {},
   "source": [
    "### "
   ]
  },
  {
   "cell_type": "markdown",
   "id": "4b37a849",
   "metadata": {},
   "source": [
    "### "
   ]
  },
  {
   "cell_type": "markdown",
   "id": "f4a46b8b",
   "metadata": {},
   "source": [
    "### "
   ]
  },
  {
   "cell_type": "markdown",
   "id": "f0fe2991",
   "metadata": {},
   "source": [
    "### "
   ]
  },
  {
   "cell_type": "markdown",
   "id": "16c41225",
   "metadata": {},
   "source": [
    "### "
   ]
  },
  {
   "cell_type": "markdown",
   "id": "a0f0607e",
   "metadata": {},
   "source": [
    "### "
   ]
  },
  {
   "cell_type": "markdown",
   "id": "c40d2d06",
   "metadata": {},
   "source": [
    "### "
   ]
  },
  {
   "cell_type": "markdown",
   "id": "618b8032",
   "metadata": {},
   "source": [
    "### "
   ]
  },
  {
   "cell_type": "markdown",
   "id": "064438b4",
   "metadata": {},
   "source": [
    "### "
   ]
  },
  {
   "cell_type": "markdown",
   "id": "bac74b15",
   "metadata": {},
   "source": [
    "### "
   ]
  },
  {
   "cell_type": "markdown",
   "id": "4cfc1b09",
   "metadata": {},
   "source": [
    "### "
   ]
  },
  {
   "cell_type": "markdown",
   "id": "2b0241c7",
   "metadata": {},
   "source": [
    "### "
   ]
  },
  {
   "cell_type": "markdown",
   "id": "c2a20246",
   "metadata": {},
   "source": [
    "### "
   ]
  },
  {
   "cell_type": "markdown",
   "id": "5f4b8b31",
   "metadata": {},
   "source": [
    "### "
   ]
  },
  {
   "cell_type": "markdown",
   "id": "2ef3e274",
   "metadata": {},
   "source": [
    "### "
   ]
  },
  {
   "cell_type": "markdown",
   "id": "fdce6e16",
   "metadata": {},
   "source": [
    "### "
   ]
  },
  {
   "cell_type": "markdown",
   "id": "6ca96b34",
   "metadata": {},
   "source": [
    "### "
   ]
  },
  {
   "cell_type": "markdown",
   "id": "3b2e19a6",
   "metadata": {},
   "source": [
    "### "
   ]
  },
  {
   "cell_type": "code",
   "execution_count": null,
   "id": "bc00dd8b",
   "metadata": {},
   "outputs": [],
   "source": []
  }
 ],
 "metadata": {
  "kernelspec": {
   "display_name": "Python 3 (ipykernel)",
   "language": "python",
   "name": "python3"
  },
  "language_info": {
   "codemirror_mode": {
    "name": "ipython",
    "version": 3
   },
   "file_extension": ".py",
   "mimetype": "text/x-python",
   "name": "python",
   "nbconvert_exporter": "python",
   "pygments_lexer": "ipython3",
   "version": "3.8.12"
  }
 },
 "nbformat": 4,
 "nbformat_minor": 5
}
