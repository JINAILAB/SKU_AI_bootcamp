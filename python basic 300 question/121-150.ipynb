{
 "cells": [
  {
   "cell_type": "markdown",
   "id": "5261f67f",
   "metadata": {},
   "source": [
    "### 121\n",
    "사용자로부터 문자 한 개를 입력 받고, 소문자일 경우 대문자로, 대문자 일 경우, 소문자로 변경해서 출력하라.  \n",
    "\n",
    "a  &nbsp;  \n",
    "A    &nbsp;  \n",
    "힌트-1 : islower() 함수는 문자의 소문자 여부를 판별합니다. 만약 소문자일 경우 True, 대문자일 경우 False를 반환합니다. 힌트-2 : upper() 함수는 대문자로, lower() 함수는 소문자로 변경합니다."
   ]
  },
  {
   "cell_type": "code",
   "execution_count": 15,
   "id": "d6c79e4a",
   "metadata": {},
   "outputs": [
    {
     "name": "stdout",
     "output_type": "stream",
     "text": [
      "a\n",
      "A\n"
     ]
    }
   ],
   "source": [
    "s = input()\n",
    "print(s.upper() if s.islower else print(s.lower()))"
   ]
  },
  {
   "cell_type": "markdown",
   "id": "97c98c34",
   "metadata": {},
   "source": [
    "### 122\n",
    "점수 구간에 해당하는 학점이 아래와 같이 정의되어 있다. 사용자로부터 score를 입력받아 학점을 출력하라.\n",
    "\n",
    "|점수|학점|\n",
    "|---|---|\n",
    "|81~100|A|\n",
    "|61~80|B|\n",
    "|...|C|\n",
    "|...|D|\n",
    "|0~20|E|\n",
    " \n",
    "score: 83  \n",
    "grade is A"
   ]
  },
  {
   "cell_type": "code",
   "execution_count": 59,
   "id": "0dac961b",
   "metadata": {},
   "outputs": [
    {
     "name": "stdout",
     "output_type": "stream",
     "text": [
      "score: 83\n",
      "grade is A\n"
     ]
    }
   ],
   "source": [
    "score_range = list(range(1,101,20))\n",
    "score_range[0] = 0\n",
    "score_range.append(100)\n",
    "score = ['A', 'B', 'C', 'D', 'E'][::-1]\n",
    "s = input('score: ')\n",
    "for i in range(len(score_range)):\n",
    "    if score_range[i] <= int(s) <= score_range[i+1]:\n",
    "        print('grade is', score[i])"
   ]
  },
  {
   "cell_type": "markdown",
   "id": "ece3a089",
   "metadata": {},
   "source": [
    "### 123\n",
    "\n",
    "사용자로부터 달러, 엔, 유로, 또는 위안 금액을 입력받은 후 이를 원으로 변환하는 프로그램을 작성하라. 각 통화별 환율은 다음과 같다. 사용자는 100 달러, 1000 엔, 13 유로, 100 위안과 같이 금액과 통화명 사이에 공백을 넣어 입력한다고 가정한다.  \n",
    "\n",
    "|통화명|\t환율|\n",
    "|---|---|\n",
    "|달러\t|1167|\n",
    "|엔|\t1.096|\n",
    "|유로\t|1268|\n",
    "|위안\t|171|  \n",
    "\n",
    "입력: 100 달러  \n",
    "116700.00 원\n",
    "\n"
   ]
  },
  {
   "cell_type": "code",
   "execution_count": 41,
   "id": "0d95549c",
   "metadata": {},
   "outputs": [
    {
     "name": "stdout",
     "output_type": "stream",
     "text": [
      "100 달러\n",
      "116700.00 원\n"
     ]
    }
   ],
   "source": [
    "s = input()\n",
    "통화명 = ['달러', '엔','유로', '위안']\n",
    "환율 = [1167, 1.096, 1268, 171]\n",
    "환 = dict(zip(통화명, 환율))\n",
    "money, currency = s.split()\n",
    "print(f'{int(money)*환[currency]:.2f} 원')"
   ]
  },
  {
   "cell_type": "markdown",
   "id": "39251907",
   "metadata": {},
   "source": [
    "### 124\n",
    "사용자로부터 세 개의 숫자를 입력 받은 후 가장 큰 숫자를 출력하라.\n",
    "\n",
    "input number1: 10  \n",
    "input number2: 9  \n",
    "input number3: 20  \n",
    "20\n"
   ]
  },
  {
   "cell_type": "code",
   "execution_count": 44,
   "id": "a8bb6a6b",
   "metadata": {},
   "outputs": [
    {
     "name": "stdout",
     "output_type": "stream",
     "text": [
      "input number1:10\n",
      "input number2:9\n",
      "input number3:20\n",
      "20\n"
     ]
    }
   ],
   "source": [
    "a= []\n",
    "for i in range(3):\n",
    "    a.append(int(input('input number'+str(i+1)+':')))\n",
    "print(max(a))"
   ]
  },
  {
   "cell_type": "markdown",
   "id": "cd48a2d9",
   "metadata": {},
   "source": [
    "### 125\n",
    "휴대폰 번호 앞자리에 따라 통신사는 아래와 같이 구분된다. 사용자로부터 휴대전화 번호를 입력 받고, 통신사를 출력하는 프로그램을 작성하라.\n",
    "\n",
    "|번호\t|통신사|\n",
    "|---|---|\n",
    "|011\t|SKT|\n",
    "|016\t|KT||\n",
    "|019\t|LGU|\n",
    "|010\t|알수없음|\n",
    "\n",
    "휴대전화 번호 입력: 011-345-1922  \n",
    "당신은 SKT 사용자입니다."
   ]
  },
  {
   "cell_type": "code",
   "execution_count": 48,
   "id": "9954a062",
   "metadata": {},
   "outputs": [
    {
     "ename": "SyntaxError",
     "evalue": "leading zeros in decimal integer literals are not permitted; use an 0o prefix for octal integers (3189282403.py, line 1)",
     "output_type": "error",
     "traceback": [
      "\u001b[0;36m  File \u001b[0;32m\"/var/folders/__/r8r58jz17gj32tjwycl0m0hr0000gn/T/ipykernel_46751/3189282403.py\"\u001b[0;36m, line \u001b[0;32m1\u001b[0m\n\u001b[0;31m    번호 = [011, 016, 019, 010]\u001b[0m\n\u001b[0m            ^\u001b[0m\n\u001b[0;31mSyntaxError\u001b[0m\u001b[0;31m:\u001b[0m leading zeros in decimal integer literals are not permitted; use an 0o prefix for octal integers\n"
     ]
    }
   ],
   "source": [
    "번호 = [011, 016, 019, 010]\n",
    "통신사 = ['SKT', 'KT', 'LGU', '알수없음']\n",
    "number_dict = dict(zip(번호, 통신사))\n",
    "s = input('휴대전화 번호 입력: ')\n",
    "print(f'당신은 {number_dict[int(s.split('-')[0])} 사용자입니다.')"
   ]
  },
  {
   "cell_type": "markdown",
   "id": "32ab0067",
   "metadata": {},
   "source": [
    "#### 0으로 시작하는 십진수는 없다. 그냥 string으로 바꿔서 풀자."
   ]
  },
  {
   "cell_type": "code",
   "execution_count": 55,
   "id": "33729f30",
   "metadata": {},
   "outputs": [
    {
     "name": "stdout",
     "output_type": "stream",
     "text": [
      "휴대전화 번호 입력: 011-345-1922\n",
      "당신은 SKT 사용자입니다.\n"
     ]
    }
   ],
   "source": [
    "번호 = ['011', '016', '019', '010']\n",
    "통신사 = ['SKT', 'KT', 'LGU', '알수없음']\n",
    "number_dict = dict(zip(번호, 통신사))\n",
    "s = input('휴대전화 번호 입력: ')\n",
    "s = s.split('-')[0]\n",
    "print(f'당신은 {number_dict[s]} 사용자입니다.')"
   ]
  },
  {
   "cell_type": "markdown",
   "id": "1cabbc27",
   "metadata": {},
   "source": [
    "### 126\n",
    "우편번호는 5자리로 구성되는데, 앞의 세자리는 구를 나타낸다. 예를들어, 강북구의 경우 010, 011, 012 세 자리로 시작한다.\n",
    "\n",
    "|-\t|0\t|1|\t2|3\t|4|\t5\t|6\t|7\t|8\t|9|\n",
    "|---|---|---|---|---|---|---|---|---|---|---|\n",
    "|01\t|강북구|\t강북구\t|강북구|\t도봉구|\t도봉구|\t도봉구\t|노원구\t|노원구\t|노원구|\t노원구|\n",
    "\n",
    "사용자로 부터 5자리 우편번호를 입력받고 구를 판별하라  \n",
    "\n",
    "우편번호: 01400  \n",
    "도봉구"
   ]
  },
  {
   "cell_type": "code",
   "execution_count": 56,
   "id": "971fdd2c",
   "metadata": {},
   "outputs": [
    {
     "name": "stdout",
     "output_type": "stream",
     "text": [
      "우편번호: 01400\n",
      "도봉구\n"
     ]
    }
   ],
   "source": [
    "s = input('우편번호: ')\n",
    "주소 = ['강북구', '강북구', '강북구', '도봉구', '도봉구', '도봉구', '노원구', '노원구', '노원구', '노원구']\n",
    "print(주소[int(s[2])])"
   ]
  },
  {
   "cell_type": "markdown",
   "id": "a5287104",
   "metadata": {},
   "source": [
    "### 127\n",
    "주민등록번호 뒷 자리 7자리 중 첫째 자리는 성별을 나타내는데, 1, 3은 남자 2, 4는 여자를 의미한다. 사용자로부터 13자리의 주민등록번호를 입력 받은 후 성별 (남자, 여자)를 출력하는 프로그램을 작성하라.\n",
    "\n",
    "주민등록번호: 821010-1635210\n",
    "남자"
   ]
  },
  {
   "cell_type": "code",
   "execution_count": 58,
   "id": "4e6e9ed6",
   "metadata": {},
   "outputs": [
    {
     "name": "stdout",
     "output_type": "stream",
     "text": [
      "주민등록번호: 821010-1635210 남자\n",
      "남자\n"
     ]
    }
   ],
   "source": [
    "s = input('주민등록번호: ')\n",
    "print('남자') if s.split('-')[-1][0] == '1' else print('여자')"
   ]
  },
  {
   "cell_type": "markdown",
   "id": "198b416c",
   "metadata": {},
   "source": [
    "### 128\n",
    "주민등록번호의 뒷 자리 7자리 중 두번째와 세번째는 지역코드를 의미한다. 주민 등록 번호를 입력 받은 후 출생지가 서울인지 아닌지 판단하는 코드를 작성하라\n",
    "\n",
    "지역코드\t출생지  \n",
    "00 ~ 08\t서울  \n",
    "09 ~ 12\t부산  \n",
    "주민등록번호: 821010-1635210  \n",
    "서울이 아닙니다.  \n",
    "주민등록번호: 861010-1015210  \n",
    "서울 입니다.  "
   ]
  },
  {
   "cell_type": "code",
   "execution_count": 61,
   "id": "b66d625c",
   "metadata": {},
   "outputs": [
    {
     "name": "stdout",
     "output_type": "stream",
     "text": [
      "주민등록번호: 821010-1635210\n",
      "서울이 아닙니다.\n",
      "주민등록번호: 861010-1015210  \n",
      "서울입니다.\n"
     ]
    }
   ],
   "source": [
    "def identify_loc(s):\n",
    "    s = int(s.split('-')[1][1:3])\n",
    "    if 0 <= s <= 8: print('서울입니다.')\n",
    "    else: print('서울이 아닙니다.')\n",
    "for i in range(2):\n",
    "    s = input('주민등록번호: ')\n",
    "    identify_loc(s)"
   ]
  },
  {
   "cell_type": "markdown",
   "id": "4d9bcae0",
   "metadata": {},
   "source": [
    "### 129\n",
    "주민등록번호는 13자리로 구성되는데 마지막 자리수는 주민등록번호의 유효성을 체크하는데 사용된다. 먼저 앞에서부터 12자리의 숫자에 2, 3, 4, 5, 6, 7, 8, 9, 2, 3, 4, 5를 차례로 곱한 뒤 그 값을 전부 더한다. 연산 결과 값을 11로 나누면 나머지가 나오는데 11에서 나머지를 뺀 값이 주민등록번호의 마지막 번호가 된다.\n",
    "\n",
    "&nbsp;&nbsp;  8 2 1 0 1 0 - 1 6 3 5 2 1 0  \n",
    "x 2 3 4 5 6 7 &nbsp;&nbsp;  8 9 2 3 4 5   \n",
    "---------\n",
    "1차 계산: (8\\*2 + 2\\*3 + 1\\*4 + 0\\*5 + 1\\*6 + 0\\*7 + 1\\*8 + 6\\*9 + 3\\*2 + 5\\*3 + 2\\*4 + 1\\*5) = (128 % 11) = 7  \n",
    "2차 계산: 11 -7 = 4   \n",
    "\n",
    "위와 같이 821010-1635210에 대해서 계산을 해보면 마지막 자리는 4가 되어야 함을 알 수 있다. 즉, 821010-1635210은 유효하지 않은 주민등록번호임을 알 수 있다.  \n",
    "\n",
    "다음과 같이 사용자로부터 주민등록번호를 입력받은 후 주민등록번호가 유효한지를출력하는 프로그램을 작성하라.\n",
    "\n",
    "주민등록번호: 821010-1635210\n",
    "유효하지 않은 주민등록번호입니다. "
   ]
  },
  {
   "cell_type": "code",
   "execution_count": 66,
   "id": "7ed670cb",
   "metadata": {},
   "outputs": [
    {
     "name": "stdout",
     "output_type": "stream",
     "text": [
      "주민등록번호: 821010-1635210\n",
      "유효하지 않은 주민등록번호입니다.\n"
     ]
    }
   ],
   "source": [
    "s = input('주민등록번호: ')\n",
    "id_former, id_latter = s.split('-')\n",
    "mul_former = '234567'\n",
    "mul_latter = '892345'\n",
    "\n",
    "sum = 0\n",
    "for i in range(len(mul_former)):\n",
    "    sum += int(mul_former[i])*int(id_former)\n",
    "    sum += int(mul_latter[i])*int(id_latter)\n",
    "if (11 - sum % 11) == int(id_latter[-1]):\n",
    "    print('유효한 주민등록번호입니다.')\n",
    "else: print('유효하지 않은 주민등록번호입니다.')"
   ]
  },
  {
   "cell_type": "markdown",
   "id": "478e604a",
   "metadata": {},
   "source": [
    "### 130\n",
    "아래 코드는 비트코인의 가격 정보를 딕셔너리로 가져오는 코드이다.\n",
    "\n",
    "import requests  \n",
    "btc = requests.get(\"https://api.bithumb.com/public/ticker/\").json()['data']  \n",
    "\n",
    "\n",
    "btc 딕셔너리 안에는 시가, 종가, 최고가, 최저가 등이 저장되어 있다. 최고가와 최저가의 차이를 변동폭으로 정의할 때 (시가 + 변동폭)이 최고가 보다 높을 경우 \"상승장\", 그렇지 않은 경우 \"하락장\" 문자열을 출력하라.\n",
    "\n",
    "|Key Name  |\tDescription|\n",
    "|---|---|\n",
    "|opening_price\t|최근 24시간 내 시작 거래금액|\n",
    "|closing_price|최근 24시간 내 마지막 거래금액|\n",
    "|min_price\t|최근 24시간 내 최저 거래금액|\n",
    "|max_price|\t최근 24시간 내 최고 거래금액|"
   ]
  },
  {
   "cell_type": "code",
   "execution_count": 71,
   "id": "c117c05c",
   "metadata": {},
   "outputs": [
    {
     "name": "stdout",
     "output_type": "stream",
     "text": [
      "상승장\n"
     ]
    }
   ],
   "source": [
    "import requests\n",
    "btc = requests.get(\"https://api.bithumb.com/public/ticker/\").json()['data']\n",
    "\n",
    "if (float(btc['opening_price'])-float(btc['min_price'])) <= 0:\n",
    "    print('하락장')\n",
    "else: print('상승장')\n"
   ]
  },
  {
   "cell_type": "markdown",
   "id": "ffdb0740",
   "metadata": {},
   "source": [
    "### 131\n",
    "for문의 실행결과를 예측하라.  \n",
    "\n",
    "과일 = [\"사과\", \"귤\", \"수박\"]  \n",
    "for 변수 in 과일:  \n",
    "    print(변수)  "
   ]
  },
  {
   "cell_type": "markdown",
   "id": "8a306173",
   "metadata": {},
   "source": [
    "사과  \n",
    "귤  &nbsp;  \n",
    "수박  "
   ]
  },
  {
   "cell_type": "markdown",
   "id": "44bfcfc6",
   "metadata": {},
   "source": [
    "### 132\n",
    "for문의 실행결과를 예측하라.  \n",
    "\n",
    "과일 = [\"사과\", \"귤\", \"수박\"]  \n",
    "for 변수 in 과일:  \n",
    "&nbsp;&nbsp;&nbsp;&nbsp;print(\"#####\")  "
   ]
  },
  {
   "cell_type": "markdown",
   "id": "9f6b4098",
   "metadata": {},
   "source": [
    "#####&nbsp;&nbsp;&nbsp;&nbsp;   \n",
    "#####&nbsp;&nbsp;&nbsp;&nbsp;         \n",
    "#####&nbsp;&nbsp;&nbsp;&nbsp;        "
   ]
  },
  {
   "cell_type": "markdown",
   "id": "0c3da72c",
   "metadata": {},
   "source": [
    "### 133\n",
    "다음 for 문과 동일한 기능을 수행하는 코드를 작성하세요.\n",
    "\n",
    "for 변수 in [\"A\", \"B\", \"C\"]:    \n",
    "&nbsp;&nbsp;&nbsp;&nbsp;  print(변수)  "
   ]
  },
  {
   "cell_type": "code",
   "execution_count": 74,
   "id": "3a194bda",
   "metadata": {},
   "outputs": [
    {
     "name": "stdout",
     "output_type": "stream",
     "text": [
      "A\n",
      "B\n",
      "C\n"
     ]
    }
   ],
   "source": [
    "print('A')\n",
    "print('B')\n",
    "print('C')"
   ]
  },
  {
   "cell_type": "markdown",
   "id": "f7e1dc67",
   "metadata": {},
   "source": [
    "### 134\n",
    "for문을 풀어서 동일한 동작을하는 코드를 작성하라.\n",
    "\n",
    "for 변수 in [\"A\", \"B\", \"C\"]:  \n",
    "&nbsp;&nbsp;&nbsp;&nbsp;  print(\"출력:\", 변수)"
   ]
  },
  {
   "cell_type": "code",
   "execution_count": 76,
   "id": "18548ab8",
   "metadata": {},
   "outputs": [
    {
     "name": "stdout",
     "output_type": "stream",
     "text": [
      "출력: A\n",
      "출력: B\n",
      "출력: C\n"
     ]
    }
   ],
   "source": [
    "print('출력:', 'A')\n",
    "print('출력:', 'B')\n",
    "print('출력:', 'C')"
   ]
  },
  {
   "cell_type": "markdown",
   "id": "acd6d0d5",
   "metadata": {},
   "source": [
    "### 135\n",
    "for문을 풀어서 동일한 동작을 하는 코드를 작성하라.\n",
    " \n",
    "for 변수 in [\"A\", \"B\", \"C\"]:  \n",
    "&nbsp;&nbsp;&nbsp;&nbsp;  b = 변수.lower()  \n",
    "&nbsp;&nbsp;&nbsp;&nbsp;  print(\"변환:\", b)  "
   ]
  },
  {
   "cell_type": "code",
   "execution_count": 77,
   "id": "63a3e956",
   "metadata": {},
   "outputs": [
    {
     "name": "stdout",
     "output_type": "stream",
     "text": [
      "변환: a\n",
      "변환: b\n",
      "변환: c\n"
     ]
    }
   ],
   "source": [
    "print(\"변환:\", 'a')\n",
    "print(\"변환:\", 'b')\n",
    "print(\"변환:\", 'c')"
   ]
  },
  {
   "cell_type": "markdown",
   "id": "33a73e3c",
   "metadata": {},
   "source": [
    "### 136\n",
    "다음 코드를 for문으로 작성하라.\n",
    "\n",
    "변수 = 10  \n",
    "print(변수)  \n",
    "변수 = 20  \n",
    "print(변수)  \n",
    "변수 = 30  \n",
    "print(변수)  "
   ]
  },
  {
   "cell_type": "code",
   "execution_count": 79,
   "id": "6634aae7",
   "metadata": {},
   "outputs": [
    {
     "name": "stdout",
     "output_type": "stream",
     "text": [
      "10\n",
      "20\n",
      "30\n"
     ]
    }
   ],
   "source": [
    "변수 = [10, 20, 30]\n",
    "for i in 변수:\n",
    "    print(i)"
   ]
  },
  {
   "cell_type": "markdown",
   "id": "45b907cf",
   "metadata": {},
   "source": [
    "### 137\n",
    "다음 코드를 for문으로 작성하라.\n",
    "\n",
    "print(10)  \n",
    "print(20)  \n",
    "print(30)  "
   ]
  },
  {
   "cell_type": "code",
   "execution_count": 80,
   "id": "c855ec85",
   "metadata": {},
   "outputs": [
    {
     "name": "stdout",
     "output_type": "stream",
     "text": [
      "10\n",
      "20\n",
      "30\n"
     ]
    }
   ],
   "source": [
    "for i in range(10,40,10):\n",
    "    print(i)"
   ]
  },
  {
   "cell_type": "markdown",
   "id": "10928410",
   "metadata": {},
   "source": [
    "### 138\n",
    "다음 코드를 for문으로 작성하라.\n",
    "  \n",
    "print(10)  \n",
    "print(\"-------\")  \n",
    "print(20)  \n",
    "print(\"-------\")  \n",
    "print(30)  \n",
    "print(\"-------\")   "
   ]
  },
  {
   "cell_type": "code",
   "execution_count": 81,
   "id": "d12b2fff",
   "metadata": {},
   "outputs": [
    {
     "name": "stdout",
     "output_type": "stream",
     "text": [
      "10\n",
      "-------\n",
      "20\n",
      "-------\n",
      "30\n",
      "-------\n"
     ]
    }
   ],
   "source": [
    "for i in range(10,40,10):\n",
    "    print(i)\n",
    "    print(\"-------\")"
   ]
  },
  {
   "cell_type": "markdown",
   "id": "19725e41",
   "metadata": {},
   "source": [
    "### 139\n",
    "다음 코드를 for문으로 작성하라.\n",
    " \n",
    "print(\"++++\")  \n",
    "print(10)   \n",
    "print(20)  \n",
    "print(30)"
   ]
  },
  {
   "cell_type": "code",
   "execution_count": 83,
   "id": "0bda0d34",
   "metadata": {},
   "outputs": [
    {
     "name": "stdout",
     "output_type": "stream",
     "text": [
      "++++\n",
      "10\n",
      "20\n",
      "30\n"
     ]
    }
   ],
   "source": [
    "for i in range(0,40,10):\n",
    "    if i >= 10:\n",
    "        print(i)\n",
    "    else: print('++++')"
   ]
  },
  {
   "cell_type": "markdown",
   "id": "9b4e234d",
   "metadata": {},
   "source": [
    "### 140\n",
    "다음 코드를 for문으로 작성하라.\n",
    "\n",
    "print(\"-------\")  \n",
    "print(\"-------\")  \n",
    "print(\"-------\")  \n",
    "print(\"-------\")  "
   ]
  },
  {
   "cell_type": "code",
   "execution_count": 84,
   "id": "eb747e37",
   "metadata": {},
   "outputs": [
    {
     "name": "stdout",
     "output_type": "stream",
     "text": [
      "-------\n",
      "-------\n",
      "-------\n",
      "-------\n"
     ]
    }
   ],
   "source": [
    "for i in range(4):\n",
    "    print(\"-------\")"
   ]
  },
  {
   "cell_type": "markdown",
   "id": "b517710d",
   "metadata": {},
   "source": [
    "### 141\n",
    "다음과 같이 판매가가 저장된 리스트가 있을 때 부가세가 포함된 가격을 for 문을 사용해서 화면에 출력하라. 단 부가세는 10원으로 가정한다.\n",
    "\n",
    "리스트 = [100, 200, 300]  \n",
    "110  \n",
    "210  \n",
    "310  "
   ]
  },
  {
   "cell_type": "code",
   "execution_count": 85,
   "id": "adb7412f",
   "metadata": {},
   "outputs": [
    {
     "name": "stdout",
     "output_type": "stream",
     "text": [
      "110\n",
      "210\n",
      "310\n"
     ]
    }
   ],
   "source": [
    "리스트 = [100, 200, 300]\n",
    "for i in 리스트:\n",
    "    print(i + 10)"
   ]
  },
  {
   "cell_type": "markdown",
   "id": "042ffe29",
   "metadata": {},
   "source": [
    "### 142\n",
    "for 문을 사용해서 리스트에 저장된 값을 다음과 같이 출력하라.  \n",
    "\n",
    "리스트 = [\"김밥\", \"라면\", \"튀김\"]  \n",
    "오늘의 메뉴: 김밥  \n",
    "오늘의 메뉴: 라면  \n",
    "오늘의 메뉴: 튀김  \n"
   ]
  },
  {
   "cell_type": "code",
   "execution_count": 86,
   "id": "3dc46120",
   "metadata": {},
   "outputs": [
    {
     "name": "stdout",
     "output_type": "stream",
     "text": [
      "오늘의 메뉴: 김밥\n",
      "오늘의 메뉴: 라면\n",
      "오늘의 메뉴: 튀김\n"
     ]
    }
   ],
   "source": [
    "리스트 = [\"김밥\", \"라면\", \"튀김\"]\n",
    "for i in 리스트:\n",
    "    print('오늘의 메뉴:', i)"
   ]
  },
  {
   "cell_type": "markdown",
   "id": "8e3c205d",
   "metadata": {},
   "source": [
    "### 143\n",
    "리스트에 주식 종목이름이 저장돼 있다.  \n",
    "\n",
    "리스트 = [\"SK하이닉스\", \"삼성전자\", \"LG전자\"]  \n",
    "저장된 문자열의 길이를 다음과 같이 출력하라.  \n",
    "\n",
    "6 &nbsp;  \n",
    "4 &nbsp;  \n",
    "4 &nbsp;  "
   ]
  },
  {
   "cell_type": "code",
   "execution_count": 87,
   "id": "e858d4fc",
   "metadata": {},
   "outputs": [
    {
     "name": "stdout",
     "output_type": "stream",
     "text": [
      "6\n",
      "4\n",
      "4\n"
     ]
    }
   ],
   "source": [
    "리스트 = [\"SK하이닉스\", \"삼성전자\", \"LG전자\"]\n",
    "for i in 리스트:\n",
    "    print(len(i))"
   ]
  },
  {
   "cell_type": "markdown",
   "id": "90fdef26",
   "metadata": {},
   "source": [
    "### 144\n",
    "리스트에는 동물이름이 문자열로 저장돼 있다.\n",
    "\n",
    "리스트 = ['dog', 'cat', 'parrot']  \n",
    "동물 이름과 글자수를 다음과 같이 출력하라.  \n",
    "     \n",
    "dog 3  \n",
    "cat 3  \n",
    "parrot 6  "
   ]
  },
  {
   "cell_type": "code",
   "execution_count": 88,
   "id": "b4277163",
   "metadata": {},
   "outputs": [
    {
     "name": "stdout",
     "output_type": "stream",
     "text": [
      "dog 3\n",
      "cat 3\n",
      "parrot 6\n"
     ]
    }
   ],
   "source": [
    "리스트 = ['dog', 'cat', 'parrot']\n",
    "for i in 리스트:\n",
    "    print(i, len(i))"
   ]
  },
  {
   "cell_type": "markdown",
   "id": "e6b6f89d",
   "metadata": {},
   "source": [
    "### 145\n",
    "리스트에 동물 이름 저장돼 있다.\n",
    "  \n",
    "리스트 = ['dog', 'cat', 'parrot']   \n",
    "for문을 사용해서 동물 이름의 첫 글자만 출력하라.   \n",
    "\n",
    "d  &nbsp;    \n",
    "c  &nbsp;  \n",
    "p  &nbsp;   "
   ]
  },
  {
   "cell_type": "code",
   "execution_count": 89,
   "id": "23d2af41",
   "metadata": {},
   "outputs": [
    {
     "name": "stdout",
     "output_type": "stream",
     "text": [
      "d\n",
      "c\n",
      "p\n"
     ]
    }
   ],
   "source": [
    "for i in 리스트:\n",
    "    print(i[0])"
   ]
  },
  {
   "cell_type": "markdown",
   "id": "7c04e193",
   "metadata": {},
   "source": [
    "### 146\n",
    "리스트에는 세 개의 숫자가 바인딩돼 있다.\n",
    "\n",
    "리스트 = [1, 2, 3]  \n",
    "for문을 사용해서 다음과 같이 출력하라.  \n",
    "\n",
    "3 x 1  \n",
    "3 x 2   \n",
    "3 x 3   "
   ]
  },
  {
   "cell_type": "code",
   "execution_count": 92,
   "id": "3414c490",
   "metadata": {},
   "outputs": [
    {
     "name": "stdout",
     "output_type": "stream",
     "text": [
      "3 x 1\n",
      "3 x 2\n",
      "3 x 3\n"
     ]
    }
   ],
   "source": [
    "리스트 = [1, 2, 3]\n",
    "for i in 리스트:\n",
    "    print(f'3 x {i}')\n",
    "    "
   ]
  },
  {
   "cell_type": "markdown",
   "id": "581f23e0",
   "metadata": {},
   "source": [
    "### 147\n",
    "리스트에는 세 개의 숫자가 바인딩돼 있다.  \n",
    "   \n",
    "리스트 = [1, 2, 3]  \n",
    "for문을 사용해서 다음과 같이 출력하라.   \n",
    "\n",
    "3 x 1 = 3   \n",
    "3 x 2 = 6  \n",
    "3 x 3 = 9 "
   ]
  },
  {
   "cell_type": "code",
   "execution_count": 94,
   "id": "b739e9eb",
   "metadata": {},
   "outputs": [
    {
     "name": "stdout",
     "output_type": "stream",
     "text": [
      "3 x 1 = 3\n",
      "3 x 2 = 6\n",
      "3 x 3 = 9\n"
     ]
    }
   ],
   "source": [
    "리스트 = [1, 2, 3]\n",
    "for i in 리스트:\n",
    "    print(f'3 x {i} = {i*3}')"
   ]
  },
  {
   "cell_type": "markdown",
   "id": "7b4a0b40",
   "metadata": {},
   "source": [
    "### 148\n",
    "리스트에는 네 개의 문자열이 바인딩돼 있다.\n",
    "\n",
    "리스트 = [\"가\", \"나\", \"다\", \"라\"]  \n",
    "for문을 사용해서 다음과 같이 출력하라.  \n",
    "\n",
    "나 &nbsp;  \n",
    "다 &nbsp;  \n",
    "라 &nbsp;  "
   ]
  },
  {
   "cell_type": "code",
   "execution_count": 95,
   "id": "cd121bab",
   "metadata": {},
   "outputs": [
    {
     "name": "stdout",
     "output_type": "stream",
     "text": [
      "나\n",
      "다\n",
      "라\n"
     ]
    }
   ],
   "source": [
    "리스트 = [\"가\", \"나\", \"다\", \"라\"]\n",
    "for i in range(1, len(리스트)):\n",
    "    print(리스트[i])"
   ]
  },
  {
   "cell_type": "markdown",
   "id": "179b3492",
   "metadata": {},
   "source": [
    "### 149  \n",
    "리스트에는 네 개의 문자열이 바인딩돼 있다.\n",
    "\n",
    "리스트 = [\"가\", \"나\", \"다\", \"라\"]  \n",
    "for문을 사용해서 다음과 같이 출력하라.  \n",
    " \n",
    "가&nbsp;  \n",
    "다&nbsp;  "
   ]
  },
  {
   "cell_type": "code",
   "execution_count": 97,
   "id": "3e10c785",
   "metadata": {},
   "outputs": [
    {
     "name": "stdout",
     "output_type": "stream",
     "text": [
      "가\n",
      "다\n"
     ]
    }
   ],
   "source": [
    "리스트 = [\"가\", \"나\", \"다\", \"라\"]\n",
    "for i,j in enumerate(리스트):\n",
    "    if i % 2 == 0: print(j)"
   ]
  },
  {
   "cell_type": "markdown",
   "id": "71d793ec",
   "metadata": {},
   "source": [
    "### 150\n",
    "리스트에는 네 개의 문자열이 바인딩돼 있다.  \n",
    "\n",
    "리스트 = [\"가\", \"나\", \"다\", \"라\"]  \n",
    "for문을 사용해서 다음과 같이 출력하라.  \n",
    "\n",
    "라&nbsp;  \n",
    "다&nbsp;  \n",
    "나&nbsp;  \n",
    "가 &nbsp;  "
   ]
  },
  {
   "cell_type": "code",
   "execution_count": 101,
   "id": "f56d3d42",
   "metadata": {},
   "outputs": [
    {
     "name": "stdout",
     "output_type": "stream",
     "text": [
      "라\n",
      "다\n",
      "나\n",
      "가\n"
     ]
    }
   ],
   "source": [
    "리스트 = [\"가\", \"나\", \"다\", \"라\"]\n",
    "for i in 리스트[::-1]:\n",
    "    print(i)"
   ]
  },
  {
   "cell_type": "code",
   "execution_count": null,
   "id": "6ba70348",
   "metadata": {},
   "outputs": [],
   "source": []
  }
 ],
 "metadata": {
  "kernelspec": {
   "display_name": "Python 3 (ipykernel)",
   "language": "python",
   "name": "python3"
  },
  "language_info": {
   "codemirror_mode": {
    "name": "ipython",
    "version": 3
   },
   "file_extension": ".py",
   "mimetype": "text/x-python",
   "name": "python",
   "nbconvert_exporter": "python",
   "pygments_lexer": "ipython3",
   "version": "3.8.12"
  }
 },
 "nbformat": 4,
 "nbformat_minor": 5
}
