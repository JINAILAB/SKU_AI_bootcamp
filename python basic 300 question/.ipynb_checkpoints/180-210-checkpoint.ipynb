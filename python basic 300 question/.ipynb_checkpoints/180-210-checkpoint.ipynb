{
 "cells": [
  {
   "cell_type": "markdown",
   "id": "2ca0447e",
   "metadata": {},
   "source": [
    "### 181\n",
    "아래 표에서 하나의 행을 하나의 리스트로, 총 3개의 리스트를 갖는 이차원 리스트 apart를 정의하라.    \n",
    "\n",
    "|101호 |\t102호 |\n",
    "|---|---|\n",
    "|201호\t|202호   |\n",
    "|301호\t|302호  |"
   ]
  },
  {
   "cell_type": "code",
   "execution_count": 16,
   "id": "243e65c2",
   "metadata": {},
   "outputs": [],
   "source": [
    "apart =[['101호', '102호'], ['201호', '202호'], ['301호', '302호']]"
   ]
  },
  {
   "cell_type": "markdown",
   "id": "054d346b",
   "metadata": {},
   "source": [
    "### 182\n",
    "아래 표에서 하나의 열을 하나의 리스트로, 총 2개의 리스트를 갖는 이차원 리스트 stock을 정의하라.\n",
    "\n",
    "|시가|종가  |\n",
    "|---|---|\n",
    "|100\t|80 | \n",
    "|200|\t210  | \n",
    "|300|\t330  |  "
   ]
  },
  {
   "cell_type": "code",
   "execution_count": 15,
   "id": "46ca46fa",
   "metadata": {},
   "outputs": [],
   "source": [
    "stock = [[\"시가\", 100, 200, 300], [\"종가\", 80, 210, 330]]"
   ]
  },
  {
   "cell_type": "markdown",
   "id": "6c80a3ae",
   "metadata": {},
   "source": [
    "### 183\n",
    "아래 표를 stock 이름의 딕셔너리로 표현하라.시가를 key로 저장하고, 나머지 같은 열의 데이터를 리스트로 저장해서 value로 저장한다. 종가 역시 key로 저장하고 나머지 같은 열의 데이터를 리스트로 저장해서 value로 저장한다.\n",
    "\n",
    "|시가|\t종가|\n",
    "|---|---|\n",
    "|100|\t80||\n",
    "|200|\t210|\n",
    "|300\t|330|"
   ]
  },
  {
   "cell_type": "code",
   "execution_count": 17,
   "id": "d1936575",
   "metadata": {},
   "outputs": [],
   "source": [
    "stock = {\"시가\": [100, 200, 300], \"종가\": [80, 210, 330]}"
   ]
  },
  {
   "cell_type": "markdown",
   "id": "58006c3b",
   "metadata": {},
   "source": [
    "### 184\n",
    "아래 표를 stock 이라는 이름의 딕셔너리로 표현하라. 날짜를 key로 저장하고, 나머지 같은 행의 데이터를 리스트로 저장해서 value로 저장한다. 첫 열이 날짜이다.\n",
    "\n",
    "\n",
    "|10/10\t|80|\t110|\t70\t|90|\n",
    "|---|---|---|---|---|\n",
    "|10/11|\t210|\t230|\t190|\t200|"
   ]
  },
  {
   "cell_type": "code",
   "execution_count": 19,
   "id": "19ca6830",
   "metadata": {},
   "outputs": [],
   "source": [
    "stock = {\"10/10\": [80, 110, 70, 90], \"10/11\": [210, 230, 190, 200]}"
   ]
  },
  {
   "cell_type": "markdown",
   "id": "c2b77bcb",
   "metadata": {},
   "source": [
    "### 185\n",
    "리스트에 저장된 데이터를 아래와 같이 출력하라.\n",
    "\n",
    "apart = [ [101, 102], [201, 202], [301, 302] ]     \n",
    "101 호          \n",
    "102 호     \n",
    "201 호     \n",
    "202 호       \n",
    "301 호       \n",
    "302 호      "
   ]
  },
  {
   "cell_type": "code",
   "execution_count": 21,
   "id": "611ddf7e",
   "metadata": {},
   "outputs": [
    {
     "name": "stdout",
     "output_type": "stream",
     "text": [
      "101 호\n",
      "102 호\n",
      "201 호\n",
      "202 호\n",
      "301 호\n",
      "302 호\n"
     ]
    }
   ],
   "source": [
    "apart = [[101, 102], [201, 202], [301, 302]]\n",
    "for i in apart:\n",
    "    for j in i:\n",
    "        print(j,'호')"
   ]
  },
  {
   "cell_type": "markdown",
   "id": "ff3ef5fa",
   "metadata": {},
   "source": [
    "### 186\n",
    "리스트에 저장된 데이터를 아래와 같이 출력하라.\n",
    "\n",
    "apart = [ [101, 102], [201, 202], [301, 302]  ]       \n",
    "301 호     \n",
    "302 호        \n",
    "201 호             \n",
    "202 호       \n",
    "101 호      \n",
    "102 호    "
   ]
  },
  {
   "cell_type": "code",
   "execution_count": 22,
   "id": "a7506418",
   "metadata": {},
   "outputs": [
    {
     "name": "stdout",
     "output_type": "stream",
     "text": [
      "301 호\n",
      "302 호\n",
      "201 호\n",
      "202 호\n",
      "101 호\n",
      "102 호\n"
     ]
    }
   ],
   "source": [
    "apart = [[101, 102], [201, 202], [301, 302]]\n",
    "for i in apart[::-1]:\n",
    "    for j in i:\n",
    "        print(j,'호')"
   ]
  },
  {
   "cell_type": "markdown",
   "id": "7dda7913",
   "metadata": {},
   "source": [
    "### 187\n",
    "리스트에 저장된 데이터를 아래와 같이 출력하라.\n",
    "\n",
    "apart = [ [101, 102], [201, 202], [301, 302] ]    \n",
    "302 호   \n",
    "301 호     \n",
    "202 호     \n",
    "201 호      \n",
    "102 호      \n",
    "101 호   "
   ]
  },
  {
   "cell_type": "code",
   "execution_count": 23,
   "id": "08b27451",
   "metadata": {},
   "outputs": [
    {
     "name": "stdout",
     "output_type": "stream",
     "text": [
      "302 호\n",
      "301 호\n",
      "202 호\n",
      "201 호\n",
      "102 호\n",
      "101 호\n"
     ]
    }
   ],
   "source": [
    "apart = [[101, 102], [201, 202], [301, 302]]\n",
    "for i in apart[::-1]:\n",
    "    for j in i[::-1]:\n",
    "        print(j,'호')"
   ]
  },
  {
   "cell_type": "markdown",
   "id": "343419f0",
   "metadata": {},
   "source": [
    "### 188\n",
    "리스트에 저장된 데이터를 아래와 같이 출력하라.\n",
    "\n",
    "apart = [ [101, 102], [201, 202], [301, 302] ]     \n",
    "101 호    \n",
    "\\-----      \n",
    "102 호      \n",
    "\\-----       \n",
    "201 호      \n",
    "\\-----     \n",
    "202 호     \n",
    "\\-----      \n",
    "301 호        \n",
    "\\-----      \n",
    "302 호     \n",
    "\\-----   "
   ]
  },
  {
   "cell_type": "code",
   "execution_count": 24,
   "id": "42c86ecb",
   "metadata": {},
   "outputs": [
    {
     "name": "stdout",
     "output_type": "stream",
     "text": [
      "101 호\n",
      "-----\n",
      "102 호\n",
      "-----\n",
      "201 호\n",
      "-----\n",
      "202 호\n",
      "-----\n",
      "301 호\n",
      "-----\n",
      "302 호\n",
      "-----\n"
     ]
    }
   ],
   "source": [
    "apart = [[101, 102], [201, 202], [301, 302]]\n",
    "for i in apart:\n",
    "    for j in i:\n",
    "        print(j,'호')\n",
    "        print('-----')"
   ]
  },
  {
   "cell_type": "markdown",
   "id": "375740f4",
   "metadata": {},
   "source": [
    "### 189\n",
    "리스트에 저장된 데이터를 아래와 같이 출력하라.\n",
    "\n",
    "apart = [ [101, 102], [201, 202], [301, 302] ]  \n",
    "101 호  \n",
    "102 호   \n",
    "\\-----   \n",
    "201 호   \n",
    "202 호    \n",
    "\\-----      \n",
    "301 호   \n",
    "302 호  \n",
    "\\-----    "
   ]
  },
  {
   "cell_type": "code",
   "execution_count": 26,
   "id": "925ee48d",
   "metadata": {},
   "outputs": [
    {
     "name": "stdout",
     "output_type": "stream",
     "text": [
      "101 호\n",
      "102 호\n",
      "-----\n",
      "201 호\n",
      "202 호\n",
      "-----\n",
      "301 호\n",
      "302 호\n",
      "-----\n"
     ]
    }
   ],
   "source": [
    "apart = [[101, 102], [201, 202], [301, 302]]\n",
    "for i in apart:\n",
    "    for j in i:\n",
    "        print(j,'호')\n",
    "    print('-----')    "
   ]
  },
  {
   "cell_type": "markdown",
   "id": "75f260ad",
   "metadata": {},
   "source": [
    "### 190\n",
    "리스트에 저장된 데이터를 아래와 같이 출력하라.     \n",
    "\n",
    "apart = [ [101, 102], [201, 202], [301, 302] ]       \n",
    "101 호        \n",
    "102 호      \n",
    "201 호     \n",
    "202 호    \n",
    "301 호      \n",
    "302 호       \n",
    "\\-----     "
   ]
  },
  {
   "cell_type": "code",
   "execution_count": 27,
   "id": "9418575f",
   "metadata": {
    "scrolled": true
   },
   "outputs": [
    {
     "name": "stdout",
     "output_type": "stream",
     "text": [
      "101 호\n",
      "102 호\n",
      "201 호\n",
      "202 호\n",
      "301 호\n",
      "302 호\n",
      "-----\n"
     ]
    }
   ],
   "source": [
    "apart = [[101, 102], [201, 202], [301, 302]]\n",
    "for i in apart:\n",
    "    for j in i:\n",
    "        print(j,'호')\n",
    "print('-----')"
   ]
  },
  {
   "cell_type": "markdown",
   "id": "dcdb1e6c",
   "metadata": {},
   "source": [
    "### 191\n",
    "data에는 매수한 종목들의 OHLC (open/high/low/close) 가격 정보가 바인딩 되어있다.\n",
    "\n",
    "data = [       \n",
    "    [ 2000,  3050,  2050,  1980],       \n",
    "    [ 7500,  2050,  2050,  1980],       \n",
    "    [15450, 15050, 15550, 14900]        \n",
    "]  \n",
    "       \n",
    "수수료를 0.014 %로 가정할 때, 각 가격에 수수료를 포함한 가격을 한라인에 하나씩 출력하라.        \n",
    "\n",
    "2000.28      \n",
    "3050.427     \n",
    "2050.2870000000003      \n",
    "..."
   ]
  },
  {
   "cell_type": "code",
   "execution_count": 32,
   "id": "d1271af2",
   "metadata": {},
   "outputs": [
    {
     "name": "stdout",
     "output_type": "stream",
     "text": [
      "2000.28\n",
      "3050.427\n",
      "2050.2870000000003\n",
      "1980.2772\n",
      "7501.05\n",
      "2050.2870000000003\n",
      "2050.2870000000003\n",
      "1980.2772\n",
      "15452.163\n",
      "15052.107\n",
      "15552.177\n",
      "14902.086000000001\n"
     ]
    }
   ],
   "source": [
    "data = [\n",
    "[ 2000, 3050, 2050, 1980],\n",
    "[ 7500, 2050, 2050, 1980],\n",
    "[15450, 15050, 15550, 14900]\n",
    "]\n",
    "for i in data:\n",
    "    for j in i:\n",
    "        print(j*1.00014)"
   ]
  },
  {
   "cell_type": "markdown",
   "id": "cc6bf46e",
   "metadata": {},
   "source": [
    "### 192\n",
    "191번의 출력 결과에 행단위로 \"----\" 구분자를 추가하라.\n",
    "\n",
    "2000.28          \n",
    "3050.427        \n",
    "2050.2870000000003      \n",
    "1980.2772    \n",
    "\\----          \n",
    "7501.05    \n",
    "2050.2870000000003     \n",
    "2050.2870000000003  \n",
    "1980.2772       \n",
    "\\----     \n",
    "15452.163          \n",
    "15052.107\n",
    "15552.177       \n",
    "14902.086000000001   \n",
    "\\----"
   ]
  },
  {
   "cell_type": "code",
   "execution_count": 33,
   "id": "a43e0a80",
   "metadata": {},
   "outputs": [
    {
     "name": "stdout",
     "output_type": "stream",
     "text": [
      "2000.28\n",
      "3050.427\n",
      "2050.2870000000003\n",
      "1980.2772\n",
      "----\n",
      "7501.05\n",
      "2050.2870000000003\n",
      "2050.2870000000003\n",
      "1980.2772\n",
      "----\n",
      "15452.163\n",
      "15052.107\n",
      "15552.177\n",
      "14902.086000000001\n",
      "----\n"
     ]
    }
   ],
   "source": [
    "data = [\n",
    "[ 2000, 3050, 2050, 1980],\n",
    "[ 7500, 2050, 2050, 1980],\n",
    "[15450, 15050, 15550, 14900]\n",
    "]\n",
    "for i in data:\n",
    "    for j in i:\n",
    "        print(j*1.00014)\n",
    "    print('----')"
   ]
  },
  {
   "cell_type": "markdown",
   "id": "7f26b0d8",
   "metadata": {},
   "source": [
    "### 193\n",
    "192 번 문제의 결괏값을 result 이름의 리스트에 1차원 배열로 저장하라.\n",
    " \n",
    "print(result)        \n",
    "[2000.28, 3050.427, 2050.2870000000003, 1980.2772, 7501.05, 2050.2870000000003, 2050.2870000000003, ...]     "
   ]
  },
  {
   "cell_type": "code",
   "execution_count": 37,
   "id": "16168ad2",
   "metadata": {},
   "outputs": [
    {
     "name": "stdout",
     "output_type": "stream",
     "text": [
      "[2000.28, 3050.427, 2050.2870000000003, 1980.2772, 7501.05, 2050.2870000000003, 2050.2870000000003, 1980.2772, 15452.163, 15052.107, 15552.177, 14902.086000000001]\n"
     ]
    }
   ],
   "source": [
    "data = [\n",
    "[ 2000, 3050, 2050, 1980],\n",
    "[ 7500, 2050, 2050, 1980],\n",
    "[15450, 15050, 15550, 14900]\n",
    "]\n",
    "result = [j*1.00014 for i in data for j in i ]\n",
    "print(result)"
   ]
  },
  {
   "cell_type": "markdown",
   "id": "3a5efa52",
   "metadata": {},
   "source": [
    "### 194\n",
    "191번 문제의 결괏값을 result 이름의 리스트에 2차원 배열로 저장하라. 저장 포맷은 아래와 같다. 각 행에 대한 데이터끼리 리스트에 저장되어야 한다.\n",
    "\n",
    "print(result)        \n",
    "[       \n",
    " [2000.28, 3050.427, 2050.2870000000003, 1980.2772],       \n",
    " [7501.05, 2050.2870000000003, 2050.2870000000003, 1980.2772],        \n",
    " [15452.163, 15052.107, 15552.177, 14902.086000000001]      \n",
    "]"
   ]
  },
  {
   "cell_type": "code",
   "execution_count": 39,
   "id": "1d04634e",
   "metadata": {},
   "outputs": [
    {
     "name": "stdout",
     "output_type": "stream",
     "text": [
      "[[2000.28, 3050.427, 2050.2870000000003, 1980.2772], [7501.05, 2050.2870000000003, 2050.2870000000003, 1980.2772], [15452.163, 15052.107, 15552.177, 14902.086000000001]]\n"
     ]
    }
   ],
   "source": [
    "data = [\n",
    "[ 2000, 3050, 2050, 1980],\n",
    "[ 7500, 2050, 2050, 1980],\n",
    "[15450, 15050, 15550, 14900]\n",
    "]\n",
    "result = []\n",
    "for i in data:\n",
    "    bl = []\n",
    "    for j in i:\n",
    "        bl.append(j * 1.00014)\n",
    "    result.append(bl)\n",
    "print(result)"
   ]
  },
  {
   "cell_type": "markdown",
   "id": "fc9e6f96",
   "metadata": {},
   "source": [
    "###  195\n",
    "ohlc 리스트에는 시가(open), 고가 (high), 저가 (low) , 종가(close)가 날짜별로 저장돼 있다. 화면에 종가데이터를 출력하라.\n",
    "\n",
    "ohlc = [[\"open\", \"high\", \"low\", \"close\"],      \n",
    "        [100, 110, 70, 100],     \n",
    "        [200, 210, 180, 190],    \n",
    "        [300, 310, 300, 310]]  "
   ]
  },
  {
   "cell_type": "code",
   "execution_count": 41,
   "id": "142ed505",
   "metadata": {},
   "outputs": [
    {
     "name": "stdout",
     "output_type": "stream",
     "text": [
      "100\n",
      "190\n",
      "310\n"
     ]
    }
   ],
   "source": [
    "ohlc = [[\"open\", \"high\", \"low\", \"close\"],\n",
    "[100, 110, 70, 100],\n",
    "[200, 210, 180, 190],\n",
    "[300, 310, 300, 310]]\n",
    "\n",
    "for i in ohlc[1:]:\n",
    "    print(i[3])"
   ]
  },
  {
   "cell_type": "markdown",
   "id": "d840aaab",
   "metadata": {},
   "source": [
    "### 196\n",
    "ohlc 리스트에는 시가(open), 고가 (high), 저가 (low) , 종가(close)가 날짜별로 저장돼 있다. 종가가 150원보다 큰경우에만 종가를 출력하라.\n",
    "\n",
    "ohlc = [[\"open\", \"high\", \"low\", \"close\"],      \n",
    "        [100, 110, 70, 100],       \n",
    "        [200, 210, 180, 190],    \n",
    "        [300, 310, 300, 310]]   \n",
    "190     \n",
    "310"
   ]
  },
  {
   "cell_type": "code",
   "execution_count": 42,
   "id": "f019d925",
   "metadata": {},
   "outputs": [
    {
     "name": "stdout",
     "output_type": "stream",
     "text": [
      "190\n",
      "310\n"
     ]
    }
   ],
   "source": [
    "for i in ohlc[1:]:\n",
    "    if (i[3] > 150):\n",
    "        print(i[3])"
   ]
  },
  {
   "cell_type": "markdown",
   "id": "7fc63ffa",
   "metadata": {},
   "source": [
    "### 197\n",
    "ohlc 리스트에는 시가(open), 고가 (high), 저가 (low) , 종가(close)가 날짜별로 저장돼 있다. 종가가 시가 보다 크거나 같은 경우에만 종가를 출력하라.\n",
    "\n",
    "ohlc = [[\"open\", \"high\", \"low\", \"close\"],      \n",
    "        [100, 110, 70, 100],       \n",
    "        [200, 210, 180, 190],     \n",
    "        [300, 310, 300, 310]]  "
   ]
  },
  {
   "cell_type": "code",
   "execution_count": 43,
   "id": "f3624e5b",
   "metadata": {},
   "outputs": [
    {
     "name": "stdout",
     "output_type": "stream",
     "text": [
      "190\n",
      "310\n"
     ]
    }
   ],
   "source": [
    "for i in ohlc[1:]:\n",
    "    if (i[3] >= 150):\n",
    "        print(i[3])"
   ]
  },
  {
   "cell_type": "markdown",
   "id": "c5b8a4d3",
   "metadata": {},
   "source": [
    "### 198\n",
    "ohlc 리스트에는 시가(open), 고가 (high), 저가 (low) , 종가(close)가 날짜별로 저장돼 있다. 고가와 저가의 차이를 변동폭으로 정의할 때 변동폭을 volatility 이름의 리스트에 저장하라.\n",
    "\n",
    "ohlc = [[\"open\", \"high\", \"low\", \"close\"],      \n",
    "        [100, 110, 70, 100],    \n",
    "        [200, 210, 180, 190],     \n",
    "        [300, 310, 300, 310]]   \n",
    "        \n",
    "        \n",
    "print(volatility)   \n",
    "[40, 30, 10]"
   ]
  },
  {
   "cell_type": "code",
   "execution_count": 45,
   "id": "fccde874",
   "metadata": {},
   "outputs": [
    {
     "name": "stdout",
     "output_type": "stream",
     "text": [
      "[40, 30, 10]\n"
     ]
    }
   ],
   "source": [
    "volatillity = [i[1]-i[2] for i in ohlc[1:]]\n",
    "print(volatillity)"
   ]
  },
  {
   "cell_type": "markdown",
   "id": "56822673",
   "metadata": {},
   "source": [
    "### 199\n",
    "리스트에는 3일 간의 ohlc 데이터가 저장돼 있다. 종가가 시가보다 높은 날의 변동성 (고가 - 저가)을 화면에 출력하라.\n",
    "\n",
    "ohlc = [[\"open\", \"high\", \"low\", \"close\"],     \n",
    "        [100, 110, 70, 100],    \n",
    "        [200, 210, 180, 190],    \n",
    "        [300, 310, 300, 310]]    \n",
    "종가가 시가보다 높은 거래일의 OHLC는 [300, 310, 300, 310] 이다. 따라서 이 거래일의 변동성은 10 (310 - 300)이다.\n",
    "\n",
    "10"
   ]
  },
  {
   "cell_type": "code",
   "execution_count": 46,
   "id": "5ae6ece2",
   "metadata": {},
   "outputs": [
    {
     "name": "stdout",
     "output_type": "stream",
     "text": [
      "10\n"
     ]
    }
   ],
   "source": [
    "for i in ohlc[1:]:\n",
    "    if i[3] > i[0]:\n",
    "        print(i[1]-i[2])"
   ]
  },
  {
   "cell_type": "markdown",
   "id": "c9a4abb4",
   "metadata": {},
   "source": [
    "### 200\n",
    "리스트에는 3일 간의 ohlc 데이터가 저장돼 있다. 시가에 매수해서 종가에 매도 했을 경우 총 수익금을 계산하라. \n",
    "   \n",
    "ohlc = [[\"open\", \"high\", \"low\", \"close\"],   \n",
    "        [100, 110, 70, 100],   \n",
    "        [200, 210, 180, 190],  \n",
    "        [300, 310, 300, 310]]  \n",
    "1일차 수익 0원 (100 - 100), 2일차 수익 -10원 (190 - 200), 3일차 수익 10원 (310 - 300) 이다.  \n",
    "\n",
    "0  "
   ]
  },
  {
   "cell_type": "code",
   "execution_count": 55,
   "id": "1e5b7806",
   "metadata": {},
   "outputs": [
    {
     "name": "stdout",
     "output_type": "stream",
     "text": [
      "0\n"
     ]
    }
   ],
   "source": [
    "profit = 0\n",
    "for i in ohlc[1:]:\n",
    "    profit += (i[3] - i[0])\n",
    "print(profit)"
   ]
  },
  {
   "cell_type": "markdown",
   "id": "02c56218",
   "metadata": {},
   "source": [
    "### 201\n",
    "\"비트코인\" 문자열을 화면에 출력하는 print_coin() 함수를 정의하라.\n",
    "\n"
   ]
  },
  {
   "cell_type": "code",
   "execution_count": 56,
   "id": "5908330a",
   "metadata": {},
   "outputs": [],
   "source": [
    "def print_coin():\n",
    "    print(\"비트코인\")"
   ]
  },
  {
   "cell_type": "markdown",
   "id": "3cfea589",
   "metadata": {},
   "source": [
    "### 202\n",
    "201번에서 정의한 함수를 호출하라."
   ]
  },
  {
   "cell_type": "code",
   "execution_count": 57,
   "id": "e9b9b631",
   "metadata": {},
   "outputs": [
    {
     "name": "stdout",
     "output_type": "stream",
     "text": [
      "비트코인\n"
     ]
    }
   ],
   "source": [
    "print_coin()"
   ]
  },
  {
   "cell_type": "markdown",
   "id": "11379969",
   "metadata": {},
   "source": [
    "### 203\n",
    "201번에서 정의한 print_coin 함수를 100번호출하라."
   ]
  },
  {
   "cell_type": "code",
   "execution_count": 58,
   "id": "986ee482",
   "metadata": {
    "scrolled": true
   },
   "outputs": [
    {
     "name": "stdout",
     "output_type": "stream",
     "text": [
      "비트코인\n",
      "비트코인\n",
      "비트코인\n",
      "비트코인\n",
      "비트코인\n",
      "비트코인\n",
      "비트코인\n",
      "비트코인\n",
      "비트코인\n",
      "비트코인\n",
      "비트코인\n",
      "비트코인\n",
      "비트코인\n",
      "비트코인\n",
      "비트코인\n",
      "비트코인\n",
      "비트코인\n",
      "비트코인\n",
      "비트코인\n",
      "비트코인\n",
      "비트코인\n",
      "비트코인\n",
      "비트코인\n",
      "비트코인\n",
      "비트코인\n",
      "비트코인\n",
      "비트코인\n",
      "비트코인\n",
      "비트코인\n",
      "비트코인\n",
      "비트코인\n",
      "비트코인\n",
      "비트코인\n",
      "비트코인\n",
      "비트코인\n",
      "비트코인\n",
      "비트코인\n",
      "비트코인\n",
      "비트코인\n",
      "비트코인\n",
      "비트코인\n",
      "비트코인\n",
      "비트코인\n",
      "비트코인\n",
      "비트코인\n",
      "비트코인\n",
      "비트코인\n",
      "비트코인\n",
      "비트코인\n",
      "비트코인\n",
      "비트코인\n",
      "비트코인\n",
      "비트코인\n",
      "비트코인\n",
      "비트코인\n",
      "비트코인\n",
      "비트코인\n",
      "비트코인\n",
      "비트코인\n",
      "비트코인\n",
      "비트코인\n",
      "비트코인\n",
      "비트코인\n",
      "비트코인\n",
      "비트코인\n",
      "비트코인\n",
      "비트코인\n",
      "비트코인\n",
      "비트코인\n",
      "비트코인\n",
      "비트코인\n",
      "비트코인\n",
      "비트코인\n",
      "비트코인\n",
      "비트코인\n",
      "비트코인\n",
      "비트코인\n",
      "비트코인\n",
      "비트코인\n",
      "비트코인\n",
      "비트코인\n",
      "비트코인\n",
      "비트코인\n",
      "비트코인\n",
      "비트코인\n",
      "비트코인\n",
      "비트코인\n",
      "비트코인\n",
      "비트코인\n",
      "비트코인\n",
      "비트코인\n",
      "비트코인\n",
      "비트코인\n",
      "비트코인\n",
      "비트코인\n",
      "비트코인\n",
      "비트코인\n",
      "비트코인\n",
      "비트코인\n",
      "비트코인\n"
     ]
    }
   ],
   "source": [
    "for i in range(100):\n",
    "    print_coin()"
   ]
  },
  {
   "cell_type": "markdown",
   "id": "81d4c3cf",
   "metadata": {},
   "source": [
    "### 204\n",
    "\"비트코인\" 문자열을 100번 화면에 출력하는 print_coins() 함수를 정의하라.\n",
    "\n"
   ]
  },
  {
   "cell_type": "code",
   "execution_count": 59,
   "id": "d5e6784d",
   "metadata": {},
   "outputs": [],
   "source": [
    "def print_coins():\n",
    "    for i in range(100):\n",
    "        print(\"비트코인\")"
   ]
  },
  {
   "cell_type": "markdown",
   "id": "38173062",
   "metadata": {},
   "source": [
    "### 205\n",
    "아래의 에러가 발생하는 이유에 대해 설명하라.\n",
    "\n",
    "hello()      \n",
    "def hello():       \n",
    "&nbsp; &nbsp;&nbsp;&nbsp;   print(\"Hi\")     \n",
    "실행 예    \n",
    "\n",
    "NameError: name 'hello' is not defined   "
   ]
  },
  {
   "cell_type": "markdown",
   "id": "3c815061",
   "metadata": {},
   "source": [
    "함수 정의 전에 호출함."
   ]
  },
  {
   "cell_type": "markdown",
   "id": "89a07f62",
   "metadata": {},
   "source": [
    "### 206\n",
    "아래 코드의 실행 결과를 예측하라.\n",
    "\n",
    "def message() :   \n",
    "&nbsp; &nbsp;&nbsp;&nbsp;     print(\"A\")    \n",
    "&nbsp; &nbsp;&nbsp;&nbsp;     print(\"B\")    \n",
    " \n",
    "message()   \n",
    "print(\"C\")     \n",
    "message()    "
   ]
  },
  {
   "cell_type": "markdown",
   "id": "a64d1901",
   "metadata": {},
   "source": [
    "A &nbsp;     \n",
    "B &nbsp;       \n",
    "C &nbsp;      \n",
    "A  &nbsp;    \n",
    "B &nbsp;     "
   ]
  },
  {
   "cell_type": "markdown",
   "id": "6079bc0f",
   "metadata": {},
   "source": [
    "### 207\n",
    "아래 코드의 실행 결과를 예측하라. (읽기 어려운 코드의 예입니다.)\n",
    "\n",
    "print(\"A\")       \n",
    " \n",
    "def message() :     \n",
    " &nbsp; &nbsp;&nbsp;&nbsp;    print(\"B\")\n",
    "     \n",
    "print(\"C\")     \n",
    "message()      "
   ]
  },
  {
   "cell_type": "markdown",
   "id": "8226f622",
   "metadata": {},
   "source": [
    "A &nbsp;    \n",
    "C &nbsp;       \n",
    "B "
   ]
  },
  {
   "cell_type": "markdown",
   "id": "900d634b",
   "metadata": {},
   "source": [
    "### 208\n",
    "아래 코드의 실행 결과를 예측하라. (읽기 어려운 코드의 예입니다.)\n",
    "\n",
    "print(\"A\")       \n",
    "def message1() :      \n",
    "  &nbsp; &nbsp;&nbsp;&nbsp;   print(\"B\")     \n",
    "print(\"C\")       \n",
    "def message2() :     \n",
    "&nbsp; &nbsp;&nbsp;&nbsp;     print(\"D\")       \n",
    "message1()       \n",
    "print(\"E\")    \n",
    "message2()       "
   ]
  },
  {
   "cell_type": "markdown",
   "id": "5f3eeaff",
   "metadata": {},
   "source": [
    "A &nbsp;    \n",
    "C &nbsp;    \n",
    "B&nbsp;    \n",
    "E&nbsp;    \n",
    "D&nbsp;    "
   ]
  },
  {
   "cell_type": "markdown",
   "id": "81b8ec14",
   "metadata": {},
   "source": [
    "### 209\n",
    "아래 코드의 실행 결과를 예측하라.\n",
    "\n",
    "def message1():      \n",
    "  &nbsp; &nbsp;&nbsp;&nbsp;  print(\"A\")       \n",
    "    \n",
    "def message2():       \n",
    " &nbsp; &nbsp;&nbsp;&nbsp;    print(\"B\")      \n",
    " &nbsp; &nbsp;&nbsp;&nbsp;    message1()      \n",
    "\n",
    "message2()     "
   ]
  },
  {
   "cell_type": "markdown",
   "id": "3770c0ea",
   "metadata": {},
   "source": [
    "B &nbsp;    \n",
    "A"
   ]
  },
  {
   "cell_type": "markdown",
   "id": "f2b0d6d1",
   "metadata": {},
   "source": [
    "### 210\n",
    "아래 코드의 실행 결과를 예측하라.\n",
    "\n",
    "def message1():        \n",
    "   &nbsp; &nbsp;&nbsp;&nbsp;  print(\"A\")\n",
    "\n",
    "def message2():       \n",
    " &nbsp; &nbsp;&nbsp;&nbsp;    print(\"B\")       \n",
    "\n",
    "def message3():\n",
    "   &nbsp; &nbsp;&nbsp;&nbsp;  for i in range (3) :     \n",
    "    &nbsp; &nbsp;&nbsp;&nbsp; &nbsp; &nbsp;&nbsp;&nbsp;        message2()         \n",
    " &nbsp; &nbsp;&nbsp;&nbsp; &nbsp; &nbsp;&nbsp;&nbsp;        print(\"C\")     \n",
    "   &nbsp; &nbsp;&nbsp;&nbsp;  message1()\n",
    "\n",
    "message3()"
   ]
  },
  {
   "cell_type": "markdown",
   "id": "23687573",
   "metadata": {},
   "source": [
    "B&nbsp;  \n",
    "C&nbsp;  \n",
    "B&nbsp;  \n",
    "C&nbsp;  \n",
    "B&nbsp;  \n",
    "C&nbsp;  \n",
    "A"
   ]
  },
  {
   "cell_type": "code",
   "execution_count": null,
   "id": "9d2cb35a",
   "metadata": {},
   "outputs": [],
   "source": []
  }
 ],
 "metadata": {
  "kernelspec": {
   "display_name": "Python 3 (ipykernel)",
   "language": "python",
   "name": "python3"
  },
  "language_info": {
   "codemirror_mode": {
    "name": "ipython",
    "version": 3
   },
   "file_extension": ".py",
   "mimetype": "text/x-python",
   "name": "python",
   "nbconvert_exporter": "python",
   "pygments_lexer": "ipython3",
   "version": "3.8.12"
  }
 },
 "nbformat": 4,
 "nbformat_minor": 5
}
