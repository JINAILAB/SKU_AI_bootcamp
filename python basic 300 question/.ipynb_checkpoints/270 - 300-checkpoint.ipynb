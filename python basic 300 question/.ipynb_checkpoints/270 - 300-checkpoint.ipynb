{
 "cells": [
  {
   "cell_type": "code",
   "execution_count": null,
   "id": "6f347920",
   "metadata": {},
   "outputs": [],
   "source": []
  },
  {
   "cell_type": "markdown",
   "id": "709610f6",
   "metadata": {},
   "source": [
    "### 271 Account 클래스\n",
    "은행에 가서 계좌를 개설하면 은행이름, 예금주, 계좌번호, 잔액이 설정됩니다. Account 클래스를 생성한 후 생성자를 구현해보세요. 생성자에서는 예금주와 초기 잔액만 입력 받습니다. 은행이름은 SC은행으로 계좌번호는 3자리-2자리-6자리 형태로 랜덤하게 생성됩니다.     \n",
    "\n",
    "은행이름: SC은행     \n",
    "계좌번호: 111-11-111111      \n"
   ]
  },
  {
   "cell_type": "code",
   "execution_count": 25,
   "id": "25d551d8",
   "metadata": {},
   "outputs": [
    {
     "name": "stdout",
     "output_type": "stream",
     "text": [
      "김민수\n",
      "100\n",
      "SC은행\n",
      "130-03-83760\n"
     ]
    }
   ],
   "source": [
    "import random\n",
    "class Account:\n",
    "    def __init__(self, name, money):\n",
    "        self.bank = 'SC은행'\n",
    "        self.name = name\n",
    "        _acc = [[str(random.randint(0, 9)) for i in range(3)], [str(random.randint(0, 9)) for i in range(2)],\n",
    "                [str(random.randint(0, 9)) for i in range(5)]]\n",
    "        for i in range(len(_acc)):\n",
    "            _acc[i] = ''.join(_acc[i])\n",
    "        self.account = '-'.join(_acc)\n",
    "        self.money = money\n",
    "\n",
    "kim = Account(\"김민수\", 100)\n",
    "print(kim.name)\n",
    "print(kim.money)\n",
    "print(kim.bank)\n",
    "print(kim.account)"
   ]
  },
  {
   "cell_type": "code",
   "execution_count": 27,
   "id": "6fa80b9a",
   "metadata": {},
   "outputs": [
    {
     "name": "stdout",
     "output_type": "stream",
     "text": [
      "김민수\n",
      "100\n",
      "SC은행\n",
      "725-48-872229\n"
     ]
    }
   ],
   "source": [
    "# 답지\n",
    "import random\n",
    "\n",
    "class Account:\n",
    "    def __init__(self, name, balance):\n",
    "        self.name = name\n",
    "        self.balance = balance\n",
    "        self.bank = \"SC은행\"\n",
    "        num1 = random.randint(0, 999)\n",
    "        num2 = random.randint(0, 99)\n",
    "        num3 = random.randint(0, 999999)\n",
    "\n",
    "        num1 = str(num1).zfill(3)      # 1 -> '1' -> '001'\n",
    "        num2 = str(num2).zfill(2)      # 1 -> '1' -> '01'\n",
    "        num3 = str(num3).zfill(6)      # 1 -> '1' -> '0000001'\n",
    "        self.account_number = num1 + '-' + num2 + '-' + num3  # 001-01-000001\n",
    "\n",
    "kim = Account(\"김민수\", 100)\n",
    "print(kim.name)\n",
    "print(kim.balance)\n",
    "print(kim.bank)\n",
    "print(kim.account_number)"
   ]
  },
  {
   "cell_type": "markdown",
   "id": "d06d3e5a",
   "metadata": {},
   "source": [
    "### 272 클래스 변수\n",
    "클래스 변수를 사용해서 Account 클래스로부터 생성된 계좌 객체의 개수를 저장하세요."
   ]
  },
  {
   "cell_type": "code",
   "execution_count": 30,
   "id": "84646569",
   "metadata": {},
   "outputs": [
    {
     "name": "stdout",
     "output_type": "stream",
     "text": [
      "1\n",
      "2\n"
     ]
    }
   ],
   "source": [
    "import random\n",
    "class Account:\n",
    "    count = 0\n",
    "    def __init__(self, name, money):\n",
    "        self.bank = 'SC은행'\n",
    "        self.name = name\n",
    "        _acc = [[str(random.randint(0, 9)) for i in range(3)], [str(random.randint(0, 9)) for i in range(2)],\n",
    "                [str(random.randint(0, 9)) for i in range(5)]]\n",
    "        for i in range(len(_acc)):\n",
    "            _acc[i] = ''.join(_acc[i])\n",
    "        self.account = '-'.join(_acc)\n",
    "        self.money = money\n",
    "        \n",
    "        Account.count += 1\n",
    "        \n",
    "kim = Account(\"김민수\", 100)\n",
    "print(Account.count)\n",
    "lee = Account(\"이민수\", 100)\n",
    "print(Account.count)"
   ]
  },
  {
   "cell_type": "markdown",
   "id": "4f915135",
   "metadata": {},
   "source": [
    "### 273 클래스 변수 출력\n",
    "Account 클래스로부터 생성된 계좌의 개수를 출력하는 get_account_num() 메서드를 추가하세요."
   ]
  },
  {
   "cell_type": "code",
   "execution_count": 10,
   "id": "8f6fcda5",
   "metadata": {},
   "outputs": [],
   "source": [
    "import random\n",
    "class Account:\n",
    "    count = 0\n",
    "    def __init__(self, name, money):\n",
    "        self.bank = 'SC은행'\n",
    "        self.name = name\n",
    "        _acc = [[str(random.randint(0, 9)) for i in range(3)], [str(random.randint(0, 9)) for i in range(2)],\n",
    "                [str(random.randint(0, 9)) for i in range(5)]]\n",
    "        for i in range(len(_acc)):\n",
    "            _acc[i] = ''.join(_acc[i])\n",
    "        self.account = '-'.join(_acc)\n",
    "        self.money = money\n",
    "        \n",
    "        Account.count += 1\n",
    "    \n",
    "    @classmethod\n",
    "    def get_account_num(cls):\n",
    "        print(cls.count)"
   ]
  },
  {
   "cell_type": "markdown",
   "id": "777bdbe7",
   "metadata": {},
   "source": [
    "### 274 입금 메서드\n",
    "Account 클래스에 입금을 위한 deposit 메서드를 추가하세요. 입금은 최소 1원 이상만 가능합니다."
   ]
  },
  {
   "cell_type": "code",
   "execution_count": 14,
   "id": "4d8fcc5b",
   "metadata": {},
   "outputs": [],
   "source": [
    "import random\n",
    "class Account:\n",
    "    count = 0\n",
    "    def __init__(self, name, money):\n",
    "        self.bank = 'SC은행'\n",
    "        self.name = name\n",
    "        _acc = [[str(random.randint(0, 9)) for i in range(3)], [str(random.randint(0, 9)) for i in range(2)],\n",
    "                [str(random.randint(0, 9)) for i in range(5)]]\n",
    "        for i in range(len(_acc)):\n",
    "            _acc[i] = ''.join(_acc[i])\n",
    "        self.account = '-'.join(_acc)\n",
    "        self.money = money\n",
    "        \n",
    "        Account.count += 1\n",
    "    \n",
    "    @classmethod\n",
    "    def get_account_num(cls):\n",
    "        print(cls.count)\n",
    "        \n",
    "    def deposit(self, input_money):\n",
    "        if input_money >= 1:\n",
    "            self.money += input_money"
   ]
  },
  {
   "cell_type": "markdown",
   "id": "3941da43",
   "metadata": {},
   "source": [
    "### 275 출금 메서드\n",
    "Account 클래스에 출금을 위한 withdraw 메서드를 추가하세요. 출금은 계좌의 잔고 이상으로 출금할 수는 없습니다."
   ]
  },
  {
   "cell_type": "code",
   "execution_count": 21,
   "id": "74626324",
   "metadata": {},
   "outputs": [],
   "source": [
    "import random\n",
    "class Account:\n",
    "    count = 0\n",
    "    def __init__(self, name, money):\n",
    "        self.bank = 'SC은행'\n",
    "        self.name = name\n",
    "        _acc = [[str(random.randint(0, 9)) for i in range(3)], [str(random.randint(0, 9)) for i in range(2)],\n",
    "                [str(random.randint(0, 9)) for i in range(5)]]\n",
    "        for i in range(len(_acc)):\n",
    "            _acc[i] = ''.join(_acc[i])\n",
    "        self.account = '-'.join(_acc)\n",
    "        self.money = money\n",
    "        \n",
    "        Account.count += 1\n",
    "    \n",
    "    @classmethod\n",
    "    def get_account_num(cls):\n",
    "        print(cls.count)\n",
    "        \n",
    "    def deposit(self, input_money):\n",
    "        if input_money >= 1:\n",
    "            self.money += input_money\n",
    "    \n",
    "    def withdraw(self, wd_money):\n",
    "        if wd_money <= self.money:\n",
    "            self.money -= wd_money"
   ]
  },
  {
   "cell_type": "markdown",
   "id": "03312d1d",
   "metadata": {},
   "source": [
    "### 276 정보 출력 메서드\n",
    "Account 인스턴스에 저장된 정보를 출력하는 display_info() 메서드를 추가하세요. 잔고는 세자리마다 쉼표를 출력하세요.    \n",
    "\n",
    "은행이름: SC은행   \n",
    "예금주: 파이썬    \n",
    "계좌번호: 111-11-111111    \n",
    "잔고: 10,000원     "
   ]
  },
  {
   "cell_type": "code",
   "execution_count": 22,
   "id": "454522a1",
   "metadata": {},
   "outputs": [
    {
     "name": "stdout",
     "output_type": "stream",
     "text": [
      "SC은행\n",
      "파이썬\n",
      "001-66-92489\n",
      "10,000\n"
     ]
    }
   ],
   "source": [
    "import random\n",
    "class Account:\n",
    "    count = 0\n",
    "    def __init__(self, name, money):\n",
    "        self.bank = 'SC은행'\n",
    "        self.name = name\n",
    "        _acc = [[str(random.randint(0, 9)) for i in range(3)], [str(random.randint(0, 9)) for i in range(2)],\n",
    "                [str(random.randint(0, 9)) for i in range(5)]]\n",
    "        for i in range(len(_acc)):\n",
    "            _acc[i] = ''.join(_acc[i])\n",
    "        self.account = '-'.join(_acc)\n",
    "        self.money = money\n",
    "        \n",
    "        Account.count += 1\n",
    "    \n",
    "    @classmethod\n",
    "    def get_account_num(cls):\n",
    "        print(cls.count)\n",
    "        \n",
    "    def deposit(self, input_money):\n",
    "        if input_money >= 1:\n",
    "            self.money += input_money\n",
    "    \n",
    "    def withdraw(self, wd_money):\n",
    "        if wd_money <= self.money:\n",
    "            self.money -= wd_money\n",
    "    \n",
    "    def display_info(self):\n",
    "        print(self.bank)\n",
    "        print(self.name)\n",
    "        print(self.account)\n",
    "        print(f'{self.money:,}')\n",
    "\n",
    "p = Account(\"파이썬\", 10000)\n",
    "p.display_info()"
   ]
  },
  {
   "cell_type": "markdown",
   "id": "89aba0a5",
   "metadata": {},
   "source": [
    "### 277 이자 지급하기\n",
    "입금 횟수가 5회가 될 때 잔고를 기준으로 1%의 이자가 잔고에 추가되도록 코드를 변경해보세요."
   ]
  },
  {
   "cell_type": "code",
   "execution_count": 37,
   "id": "f45a2a10",
   "metadata": {},
   "outputs": [],
   "source": [
    "import random\n",
    "class Account:\n",
    "    count = 0\n",
    "    def __init__(self, name, money):\n",
    "        self.deposit_cnt = 0\n",
    "        self.bank = 'SC은행'\n",
    "        self.name = name\n",
    "        _acc = [[str(random.randint(0, 9)) for i in range(3)], [str(random.randint(0, 9)) for i in range(2)],\n",
    "                [str(random.randint(0, 9)) for i in range(5)]]\n",
    "        for i in range(len(_acc)):\n",
    "            _acc[i] = ''.join(_acc[i])\n",
    "        self.account = '-'.join(_acc)\n",
    "        self.money = money\n",
    "        \n",
    "        Account.count += 1\n",
    "    \n",
    "    @classmethod\n",
    "    def get_account_num(cls):\n",
    "        print(cls.count)\n",
    "        \n",
    "    def deposit(self, input_money):\n",
    "        if input_money >= 1:\n",
    "            self.money += input_money\n",
    "            self.deposit_cnt +=1\n",
    "            if self.deposit_cnt % 5 == 0:\n",
    "                self.money = self.money * 1.01\n",
    "    \n",
    "    def withdraw(self, wd_money):\n",
    "        if wd_money <= self.money:\n",
    "            self.money -= wd_money\n",
    "    \n",
    "    def display_info(self):\n",
    "        print(self.bank)\n",
    "        print(self.name)\n",
    "        print(self.account)\n",
    "        print(f'{self.money:,}')\n",
    "    "
   ]
  },
  {
   "cell_type": "markdown",
   "id": "b497a5e5",
   "metadata": {},
   "source": [
    "### 278 여러 객체 생성\n",
    "Account 클래스로부터 3개 이상 인스턴스를 생성하고 생성된 인스턴스를 리스트에 저장해보세요."
   ]
  },
  {
   "cell_type": "code",
   "execution_count": 38,
   "id": "95fcee9d",
   "metadata": {},
   "outputs": [],
   "source": [
    "k = Account(\"KIM\", 10000000)\n",
    "l = Account(\"LEE\", 10000)\n",
    "p = Account(\"PARK\", 10000)\n",
    "data = [k, l, p]"
   ]
  },
  {
   "cell_type": "markdown",
   "id": "7669d13d",
   "metadata": {},
   "source": [
    "### 279 객체 순회\n",
    "반복문을 통해 리스트에 있는 객체를 순회하면서 잔고가 100만원 이상인 고객의 정보만 출력하세요."
   ]
  },
  {
   "cell_type": "code",
   "execution_count": 39,
   "id": "6f98b2cc",
   "metadata": {},
   "outputs": [
    {
     "name": "stdout",
     "output_type": "stream",
     "text": [
      "SC은행\n",
      "KIM\n",
      "960-29-45143\n",
      "10,000,000\n",
      "None\n"
     ]
    }
   ],
   "source": [
    "for i in data:\n",
    "    if i.money >= 1000000:\n",
    "        print(i.display_info())"
   ]
  },
  {
   "cell_type": "markdown",
   "id": "253d4afb",
   "metadata": {},
   "source": [
    "### 280 입출금 내역\n",
    "입금과 출금 내역이 기록되도록 코드를 업데이트 하세요. 입금 내역과 출금 내역을 출력하는 deposit_history와 withdraw_history 메서드를 추가하세요."
   ]
  },
  {
   "cell_type": "code",
   "execution_count": 72,
   "id": "2dbcedaf",
   "metadata": {},
   "outputs": [
    {
     "name": "stdout",
     "output_type": "stream",
     "text": [
      "100원 입금하였습니다. 통장 잔고는 1100입니다.\n",
      "200원 입금하였습니다. 통장 잔고는 1300입니다.\n",
      "300원 입금하였습니다. 통장 잔고는 1600입니다.\n",
      "100원 출금하였습니다. 남은 금액은 1500입니다.\n"
     ]
    }
   ],
   "source": [
    "import random\n",
    "class Account:\n",
    "    count = 0\n",
    "    def __init__(self, name, money):\n",
    "        self.deposit_cnt = 0\n",
    "        self.bank = 'SC은행'\n",
    "        self.name = name\n",
    "        _acc = [[str(random.randint(0, 9)) for i in range(3)], [str(random.randint(0, 9)) for i in range(2)],\n",
    "                [str(random.randint(0, 9)) for i in range(5)]]\n",
    "        for i in range(len(_acc)):\n",
    "            _acc[i] = ''.join(_acc[i])\n",
    "        self.account = '-'.join(_acc)\n",
    "        self.money = money\n",
    "        \n",
    "        Account.count += 1\n",
    "        self.deposit_his = []\n",
    "        self.withdraw_his = []\n",
    "    \n",
    "    @classmethod\n",
    "    def get_account_num(cls):\n",
    "        print(cls.count)\n",
    "        \n",
    "    def deposit(self, input_money):\n",
    "        if input_money >= 1:\n",
    "            self.money += input_money\n",
    "            self.deposit_cnt += 1\n",
    "            self.deposit_his.append(str(input_money)+ '원 입금하였습니다. 통장 잔고는 ' +str(self.money) +'입니다.')\n",
    "            if self.deposit_cnt % 5 == 0:\n",
    "                self.money = self.money * 1.01\n",
    "                self.deposit_his.append(str(self.money*0.01)+'원 이자가 지급되었습니다.')\n",
    "            \n",
    "        \n",
    "    \n",
    "    def withdraw(self, wd_money):\n",
    "        if wd_money <= self.money:\n",
    "            self.money -= wd_money\n",
    "            self.withdraw_his.append(str(wd_money) + '원 출금하였습니다. 남은 금액은 ' + str(self.money) +'입니다.')\n",
    "                                            \n",
    "                                            \n",
    "    \n",
    "    def display_info(self):\n",
    "        print(self.bank)\n",
    "        print(self.name)\n",
    "        print(self.account)\n",
    "        print(f'{self.money:,}')\n",
    "    \n",
    "    def deposit_history(self):\n",
    "        for i in self.deposit_his:\n",
    "            print(i)\n",
    "              \n",
    "    def withdraw_history(self):\n",
    "        for i in self.withdraw_his:\n",
    "            print(i)\n",
    "\n",
    "k = Account(\"Kim\", 1000)\n",
    "k.deposit(100)\n",
    "k.deposit(200)\n",
    "k.deposit(300)\n",
    "k.deposit_history()\n",
    "k.withdraw(100)\n",
    "k.withdraw_history()"
   ]
  },
  {
   "cell_type": "markdown",
   "id": "90fb6b58",
   "metadata": {},
   "source": [
    "### 281 클래스 정의\n",
    "다음 코드가 동작하도록 차 클래스를 정의하세요.\n",
    "\n",
    "car = 차(2, 1000)         \n",
    "car.바퀴       \n",
    "2     &nbsp;&nbsp;      \n",
    "car.가격      \n",
    "1000"
   ]
  },
  {
   "cell_type": "code",
   "execution_count": 83,
   "id": "da783e5d",
   "metadata": {},
   "outputs": [
    {
     "name": "stdout",
     "output_type": "stream",
     "text": [
      "2\n",
      "1000\n"
     ]
    }
   ],
   "source": [
    "class 차:\n",
    "    def __init__(self, 바퀴, 가격):\n",
    "        self.바퀴 = 바퀴\n",
    "        self.가격 = 가격 \n",
    "car = 차(2, 1000)\n",
    "print(car.바퀴)\n",
    "print(car.가격)"
   ]
  },
  {
   "cell_type": "markdown",
   "id": "0d84a4c9",
   "metadata": {},
   "source": [
    "### 282 클래스 상속\n",
    "차 클래스를 상속받은 자전차 클래스를 정의하세요."
   ]
  },
  {
   "cell_type": "code",
   "execution_count": 103,
   "id": "28024181",
   "metadata": {},
   "outputs": [],
   "source": [
    "class 차:\n",
    "    def __init__(self, 바퀴, 가격):\n",
    "        self.바퀴 = 바퀴\n",
    "        self.가격 = 가격 \n",
    "class 자전차(차):\n",
    "    pass"
   ]
  },
  {
   "cell_type": "markdown",
   "id": "f5cd46a4",
   "metadata": {},
   "source": [
    "### 283 클래스 상속\n",
    "다음 코드가 동작하도록 자전차 클래스를 정의하세요. 단 자전차 클래스는 차 클래스를 상속받습니다.\n",
    "\n",
    "bicycle = 자전차(2, 100)        \n",
    "bicycle.가격          \n",
    "100"
   ]
  },
  {
   "cell_type": "code",
   "execution_count": 107,
   "id": "61b514e9",
   "metadata": {},
   "outputs": [
    {
     "name": "stdout",
     "output_type": "stream",
     "text": [
      "100\n"
     ]
    }
   ],
   "source": [
    "class 차:\n",
    "    def __init__(self, 바퀴, 가격):\n",
    "        self.바퀴 = 바퀴\n",
    "        self.가격 = 가격 \n",
    "class 자전차(차):\n",
    "    pass\n",
    "\n",
    "bicycle = 자전차(2, 100)\n",
    "print(bicycle.가격)"
   ]
  },
  {
   "cell_type": "markdown",
   "id": "a92bbda2",
   "metadata": {},
   "source": [
    "### 284 클래스 상속\n",
    "다음 코드가 동작하도록 자전차 클래스를 정의하세요. 단 자전차 클래스는 차 클래스를 상속받습니다.\n",
    "\n",
    "bicycle = 자전차(2, 100, \"시마노\")       \n",
    "bicycle.구동계      \n",
    "시마노"
   ]
  },
  {
   "cell_type": "code",
   "execution_count": 136,
   "id": "9b7aeed9",
   "metadata": {},
   "outputs": [
    {
     "data": {
      "text/plain": [
       "'시마노'"
      ]
     },
     "execution_count": 136,
     "metadata": {},
     "output_type": "execute_result"
    }
   ],
   "source": [
    "class 차:\n",
    "    def __init__(self, 바퀴, 가격):\n",
    "        self.바퀴 = 바퀴\n",
    "        self.가격 = 가격\n",
    "    def sell(self):\n",
    "        return self.가격 * 0.5\n",
    "\n",
    "class 자전차(차):\n",
    "    def __init__(self, 바퀴, 가격, 구동계):\n",
    "        super().__init__(바퀴, 가격)\n",
    "        self.구동계 = 구동계\n",
    "        \n",
    "    \n",
    "bicycle = 자전차(2, 100, \"시마노\")\n",
    "bicycle.구동계"
   ]
  },
  {
   "cell_type": "markdown",
   "id": "9b075fdb",
   "metadata": {},
   "source": [
    "### 285 클래스 상속\n",
    "다음 코드가 동작하도록 차 클래스를 상속받는 자동차 클래스를 정의하세요.\n",
    "\n",
    "car = 자동차(4, 1000)      \n",
    "car.정보()      \n",
    "바퀴수 4     \n",
    "가격 1000"
   ]
  },
  {
   "cell_type": "code",
   "execution_count": 146,
   "id": "224e8e2c",
   "metadata": {},
   "outputs": [
    {
     "name": "stdout",
     "output_type": "stream",
     "text": [
      "바퀴수 4\n",
      "가격 1000\n"
     ]
    }
   ],
   "source": [
    "class 차:\n",
    "    def __init__(self, 바퀴, 가격):\n",
    "        self.바퀴 = 바퀴\n",
    "        self.가격 = 가격\n",
    "    def sell(self):\n",
    "        return self.가격 * 0.5\n",
    "    \n",
    "class 자동차(차):\n",
    "    def 정보(self):\n",
    "        print('바퀴수', self.바퀴)\n",
    "        print('가격', self.가격)\n",
    "\n",
    "car = 자동차(4, 1000)\n",
    "car.정보()"
   ]
  },
  {
   "cell_type": "markdown",
   "id": "a120489f",
   "metadata": {},
   "source": [
    "### 286 부모 클래스 생성자 호출\n",
    "다음 코드가 동작하도록 차 클래스를 수정하세요.\n",
    "\n",
    "bicycle = 자전차(2, 100, \"시마노\")      \n",
    "bicycle.정보()       \n",
    "바퀴수 2       \n",
    "가격 100"
   ]
  },
  {
   "cell_type": "code",
   "execution_count": 145,
   "id": "f294a0e6",
   "metadata": {},
   "outputs": [
    {
     "name": "stdout",
     "output_type": "stream",
     "text": [
      "바퀴수 2\n",
      "가격 100\n"
     ]
    }
   ],
   "source": [
    "class 차:\n",
    "    def __init__(self, 바퀴, 가격):\n",
    "        self.바퀴 = 바퀴\n",
    "        self.가격 = 가격\n",
    "    def sell(self):\n",
    "        return self.가격 * 0.5\n",
    "    \n",
    "class 자전차(차):\n",
    "    def __init__(self, 바퀴, 가격, 구동계):\n",
    "        super().__init__(바퀴, 가격)\n",
    "        self.구동계 = 구동계\n",
    "        \n",
    "    def 정보(self):\n",
    "        print('바퀴수', self.바퀴)\n",
    "        print('가격',  self.가격)\n",
    "\n",
    "bicycle = 자전차(2, 100, \"시마노\")\n",
    "bicycle.정보()"
   ]
  },
  {
   "cell_type": "markdown",
   "id": "78be59fa",
   "metadata": {},
   "source": [
    "### 287 부모 클래스 메서드 호출\n",
    "자전차의 정보() 메서드로 구동계 정보까지 출력하도록 수정해보세요.\n",
    "\n",
    "bicycle = 자전차(2, 100, \"시마노\")      \n",
    "bicycle.정보()      \n",
    "바퀴수 2      \n",
    "가격 100        \n",
    "구동계 시마노     "
   ]
  },
  {
   "cell_type": "code",
   "execution_count": 147,
   "id": "76c29854",
   "metadata": {},
   "outputs": [
    {
     "name": "stdout",
     "output_type": "stream",
     "text": [
      "바퀴수 2\n",
      "가격 100\n",
      "구동계 시마노\n"
     ]
    }
   ],
   "source": [
    "class 차:\n",
    "    def __init__(self, 바퀴, 가격):\n",
    "        self.바퀴 = 바퀴\n",
    "        self.가격 = 가격\n",
    "    def sell(self):\n",
    "        return self.가격 * 0.5\n",
    "    \n",
    "class 자전차(차):\n",
    "    def __init__(self, 바퀴, 가격, 구동계):\n",
    "        super().__init__(바퀴, 가격)\n",
    "        self.구동계 = 구동계\n",
    "        \n",
    "    def 정보(self):\n",
    "        print('바퀴수', self.바퀴)\n",
    "        print('가격',  self.가격)\n",
    "        print('구동계', self.구동계)\n",
    "\n",
    "bicycle = 자전차(2, 100, \"시마노\")\n",
    "bicycle.정보()"
   ]
  },
  {
   "cell_type": "markdown",
   "id": "11174610",
   "metadata": {},
   "source": [
    "### 288 메서드 오버라이딩\n",
    "다음 코드의 실행 결과를 예상해보세요.\n",
    "\n",
    "class 부모:       \n",
    "&nbsp;&nbsp;&nbsp;&nbsp;  def 호출(self):         \n",
    " &nbsp;&nbsp;&nbsp;&nbsp;&nbsp;&nbsp;&nbsp;&nbsp;   print(\"부모호출\")    \n",
    "\n",
    "class 자식(부모):      \n",
    " &nbsp;&nbsp;&nbsp;&nbsp; def 호출(self):       \n",
    "   &nbsp;&nbsp;&nbsp;&nbsp;&nbsp;&nbsp;&nbsp;&nbsp; print(\"자식호출\")   \n",
    "나 = 자식()       \n",
    "나.호출()"
   ]
  },
  {
   "cell_type": "markdown",
   "id": "a5f8f4c4",
   "metadata": {},
   "source": [
    "#### 자식호출"
   ]
  },
  {
   "cell_type": "markdown",
   "id": "3743534d",
   "metadata": {},
   "source": [
    "### 289 생성자\n",
    "다음 코드의 실행 결과를 예상해보세요.\n",
    "\n",
    "class 부모:         \n",
    " &nbsp;&nbsp;&nbsp;&nbsp; def \\_\\_init\\_\\_(self):         \n",
    "  &nbsp;&nbsp;&nbsp;&nbsp;&nbsp;&nbsp;&nbsp;&nbsp;  print(\"부모생성\")      \n",
    "    \n",
    "class 자식(부모):        \n",
    " &nbsp;&nbsp;&nbsp;&nbsp; def \\_\\_init\\_\\_(self):      \n",
    " &nbsp;&nbsp;&nbsp;&nbsp;&nbsp;&nbsp;&nbsp;&nbsp;   print(\"자식생성\")      \n",
    "나 = 자식()"
   ]
  },
  {
   "cell_type": "markdown",
   "id": "0d9affd9",
   "metadata": {},
   "source": [
    "#### 자식생성"
   ]
  },
  {
   "cell_type": "markdown",
   "id": "a24b22db",
   "metadata": {},
   "source": [
    "### 290 부모클래스 생성자 호출\n",
    "다음 코드의 실행 결과를 예상해보세요.\n",
    " \n",
    "class 부모:        \n",
    "&nbsp;&nbsp;&nbsp;&nbsp;  def \\_\\_init\\_\\_(self):      \n",
    "  &nbsp;&nbsp;&nbsp;&nbsp;&nbsp;&nbsp;&nbsp;&nbsp;  print(\"부모생성\")\n",
    "\n",
    "class 자식(부모):      \n",
    " &nbsp;&nbsp;&nbsp;&nbsp; def \\_\\_init\\_\\_(self):     \n",
    "  &nbsp;&nbsp;&nbsp;&nbsp;&nbsp;&nbsp;&nbsp;&nbsp;  print(\"자식생성\")     \n",
    "   &nbsp;&nbsp;&nbsp;&nbsp;&nbsp;&nbsp;&nbsp;&nbsp; super().\\_\\_init\\_\\_()     \n",
    "\n",
    "나 = 자식() "
   ]
  },
  {
   "cell_type": "markdown",
   "id": "c3ecdb56",
   "metadata": {},
   "source": [
    "#### 자식생성 \n",
    "#### 부모생성"
   ]
  },
  {
   "cell_type": "markdown",
   "id": "89770aa7",
   "metadata": {},
   "source": [
    "### 291 파일 쓰기\n",
    "바탕화면에 '매수종목1.txt' 파일을 생성한 후 다음과 같이 종목코드를 파일에 써보세요.\n",
    "\n",
    "005930  \n",
    "005380  \n",
    "035420"
   ]
  },
  {
   "cell_type": "code",
   "execution_count": 155,
   "id": "c227b571",
   "metadata": {},
   "outputs": [],
   "source": [
    "desk_dir = '/Users/jinyong/Desktop/'\n",
    "file_name = '매수종목1.txt'\n",
    "code = '005930', '005380', '035420'\n",
    "with open(desk_dir + file_name, 'a') as f:\n",
    "    for i in code:\n",
    "        f.write(i+'\\n')"
   ]
  },
  {
   "cell_type": "markdown",
   "id": "2b58bf23",
   "metadata": {},
   "source": [
    "### 292 파일 쓰기\n",
    "바탕화면에 '매수종목2.txt' 파일을 생성한 후 다음과 같이 종목코드와 종목명을 파일에 써보세요.\n",
    "\n",
    "005930 삼성전자  \n",
    "005380 현대차  \n",
    "035420 NAVER  "
   ]
  },
  {
   "cell_type": "code",
   "execution_count": 157,
   "id": "85d4cefa",
   "metadata": {},
   "outputs": [],
   "source": [
    "desk_dir = '/Users/jinyong/Desktop/'\n",
    "file_name = '매수종목2.txt'\n",
    "code = '005930', '005380', '035420'\n",
    "stock_n = '삼성전자', '현대차', 'NAVER'\n",
    "with open(desk_dir + file_name, 'w') as f:\n",
    "    for i,j in zip(code, stock_n):\n",
    "        f.write(i + ' ' + j +'\\n')"
   ]
  },
  {
   "cell_type": "markdown",
   "id": "22fd4c08",
   "metadata": {},
   "source": [
    "### 293 CSV 파일 쓰기\n",
    "바탕화면에 '매수종목.csv' 파일을 생성한 후 다음과 같이 종목코드와 종목명을 파일에 써보세요. 인코딩은 'cp949'를 사용해야합니다.  \n",
    "\n",
    "|A|B|C|\n",
    "|---|---|---|\n",
    "|종목명|종목코드|PER|\n",
    "|삼성전자|005930|15.79|\n",
    "|NAVER|035420|55.82|"
   ]
  },
  {
   "cell_type": "code",
   "execution_count": 177,
   "id": "dcd9b0af",
   "metadata": {},
   "outputs": [
    {
     "data": {
      "text/html": [
       "<div>\n",
       "<style scoped>\n",
       "    .dataframe tbody tr th:only-of-type {\n",
       "        vertical-align: middle;\n",
       "    }\n",
       "\n",
       "    .dataframe tbody tr th {\n",
       "        vertical-align: top;\n",
       "    }\n",
       "\n",
       "    .dataframe thead th {\n",
       "        text-align: right;\n",
       "    }\n",
       "</style>\n",
       "<table border=\"1\" class=\"dataframe\">\n",
       "  <thead>\n",
       "    <tr style=\"text-align: right;\">\n",
       "      <th></th>\n",
       "      <th>A</th>\n",
       "      <th>B</th>\n",
       "      <th>C</th>\n",
       "    </tr>\n",
       "  </thead>\n",
       "  <tbody>\n",
       "    <tr>\n",
       "      <th>0</th>\n",
       "      <td>종목명</td>\n",
       "      <td>종목코드</td>\n",
       "      <td>PER</td>\n",
       "    </tr>\n",
       "    <tr>\n",
       "      <th>1</th>\n",
       "      <td>삼성전자</td>\n",
       "      <td>005930</td>\n",
       "      <td>15.79</td>\n",
       "    </tr>\n",
       "    <tr>\n",
       "      <th>2</th>\n",
       "      <td>NAVER</td>\n",
       "      <td>035420</td>\n",
       "      <td>55.82</td>\n",
       "    </tr>\n",
       "  </tbody>\n",
       "</table>\n",
       "</div>"
      ],
      "text/plain": [
       "       A       B      C\n",
       "0    종목명    종목코드    PER\n",
       "1   삼성전자  005930  15.79\n",
       "2  NAVER  035420  55.82"
      ]
     },
     "execution_count": 177,
     "metadata": {},
     "output_type": "execute_result"
    }
   ],
   "source": [
    "import pandas as pd\n",
    "desk_dir = '/Users/jinyong/Desktop/'\n",
    "file_name = '매수종목.csv'\n",
    "file_lines = 'A', 'B', 'C', '종목명', '종목코드', 'PER', '삼성전자', '005930', '15.79', 'NAVER', '035420','55.82'\n",
    "\n",
    "with open(desk_dir + file_name, 'w', encoding = 'cp949') as f:\n",
    "    for i in range(len(file_lines)//3):\n",
    "        f.write(file_lines[i*3]+' '+file_lines[3*i+1]+' '+file_lines[3*i+2] +'\\n')\n",
    "\n",
    "pd.read_csv(desk_dir+ file_name, encoding = 'cp949', sep=' ')"
   ]
  },
  {
   "cell_type": "markdown",
   "id": "5d3dfaa0",
   "metadata": {},
   "source": [
    "### 294 파일 읽기\n",
    "바탕화면에 생성한 '매수종목1.txt' 파일을 읽은 후 종목코드를 리스트에 저장해보세요.\n",
    "\n",
    "005930  \n",
    "005380  \n",
    "035420  "
   ]
  },
  {
   "cell_type": "code",
   "execution_count": 8,
   "id": "cbd1a6b0",
   "metadata": {},
   "outputs": [
    {
     "name": "stdout",
     "output_type": "stream",
     "text": [
      "['005930', '005380', '035420']\n"
     ]
    }
   ],
   "source": [
    "desk_dir = '/Users/jinyong/Desktop/'\n",
    "file_name = '매수종목1.txt'\n",
    "code_list = []\n",
    "with open(desk_dir + file_name, 'r') as f:\n",
    "    lines = f.readlines()\n",
    "    for line in lines:\n",
    "        code_list.append(line.strip())\n",
    "print(code_list)"
   ]
  },
  {
   "cell_type": "markdown",
   "id": "f45d0545",
   "metadata": {},
   "source": [
    "### 295 파일 읽기\n",
    "바탕화면에 생성한 '매수종목2.txt' 파일을 읽은 후 종목코드와 종목명을 딕셔너리로 저장해보세요. 종목명을 key로 종목명을 value로 저장합니다.\n",
    "\n",
    "005930 삼성전자  \n",
    "005380 현대차  \n",
    "035420 NAVER  "
   ]
  },
  {
   "cell_type": "code",
   "execution_count": 18,
   "id": "5f11d4a3",
   "metadata": {},
   "outputs": [
    {
     "name": "stdout",
     "output_type": "stream",
     "text": [
      "{'삼성전자': '005930', '현대차': '005380', 'NAVER': '035420'}\n"
     ]
    }
   ],
   "source": [
    "desk_dir = '/Users/jinyong/Desktop/'\n",
    "file_name = '매수종목2.txt'\n",
    "code_dict = {}\n",
    "with open(desk_dir + file_name, 'r') as f:\n",
    "    lines = f.readlines()\n",
    "    for line in lines:\n",
    "        line = line.split()\n",
    "        code_dict.update({line[1]:line[0]})\n",
    "print(code_dict)"
   ]
  },
  {
   "cell_type": "markdown",
   "id": "1e9a5f78",
   "metadata": {},
   "source": [
    "### 296 예외처리\n",
    "문자열 PER (Price to Earning Ratio) 값을 실수로 변환할 때 에러가 발생합니다. 예외처리를 통해 에러가 발생하는 PER은 0으로 출력하세요.\n",
    "\n",
    "per = [\"10.31\", \"\", \"8.00\"]  \n",
    "\n",
    "for i in per:  \n",
    "   &nbsp;&nbsp;&nbsp;&nbsp; print(float(i))  \n"
   ]
  },
  {
   "cell_type": "code",
   "execution_count": 19,
   "id": "81806c4d",
   "metadata": {},
   "outputs": [
    {
     "name": "stdout",
     "output_type": "stream",
     "text": [
      "10.31\n",
      "0\n",
      "8.0\n"
     ]
    }
   ],
   "source": [
    "per = [\"10.31\", \"\", \"8.00\"]\n",
    "\n",
    "for i in per:\n",
    "    try:\n",
    "        print(float(i))\n",
    "    except:\n",
    "        print(0)"
   ]
  },
  {
   "cell_type": "markdown",
   "id": "dd0b0fa2",
   "metadata": {},
   "source": [
    "### 297 예외처리 및 리스트에 저장\n",
    "문자열로 표현된 PER 값을 실수로 변환한 후 이를 새로운 리스트에 저장해보세요.\n",
    "\n",
    "per = [\"10.31\", \"\", \"8.00\"]\n",
    "\n",
    "for i in per:  \n",
    " &nbsp;&nbsp;&nbsp;&nbsp;   print(float(per))\n"
   ]
  },
  {
   "cell_type": "code",
   "execution_count": 21,
   "id": "63cfa09c",
   "metadata": {},
   "outputs": [],
   "source": [
    "# 문제가 이상함.\n",
    "per = [\"10.31\", \"\", \"8.00\"] \n",
    "new_per = []\n",
    "\n",
    "for i in per:\n",
    "    try:\n",
    "        v = float(i)\n",
    "    except:\n",
    "        v = 0\n",
    "    new_per.append(v)"
   ]
  },
  {
   "cell_type": "markdown",
   "id": "0891dcf0",
   "metadata": {},
   "source": [
    "### 298 특정 예외만 처리하기\n",
    "어떤 값을 0으로 나누면 ZeroDivisionError 에러가 발생합니다. try ~ except로 모든 에러에 대해 예외처리하지 말고 ZeroDivisionError 에러만 예외처리해보세요."
   ]
  },
  {
   "cell_type": "code",
   "execution_count": 22,
   "id": "0c31a26b",
   "metadata": {},
   "outputs": [
    {
     "name": "stdout",
     "output_type": "stream",
     "text": [
      "division by zero\n"
     ]
    }
   ],
   "source": [
    "try:\n",
    "    4 / 0\n",
    "except ZeroDivisionError as e:\n",
    "    print(e)"
   ]
  },
  {
   "cell_type": "markdown",
   "id": "d62ed193",
   "metadata": {},
   "source": [
    "### 299 예외의 메시지 출력하기\n",
    "다음과 같은 코드 구조를 사용하면 예외 발생 시 에러 메시지를 변수로 바인딩할 수 있습니다.\n",
    "\n",
    "try:  \n",
    " &nbsp;&nbsp;&nbsp;&nbsp;   실행코드  \n",
    "except 예외 as 변수:   \n",
    "  &nbsp;&nbsp;&nbsp;&nbsp;  예외처리코드   \n",
    "리스트의 인덱싱에 대해 에러를 출력해보세요.\n",
    "\n",
    "data = [1, 2, 3]\n",
    "\n",
    "for i in range(5)     \n",
    " &nbsp;&nbsp;&nbsp;&nbsp;   print(data[i])"
   ]
  },
  {
   "cell_type": "code",
   "execution_count": 23,
   "id": "765179dc",
   "metadata": {},
   "outputs": [
    {
     "name": "stdout",
     "output_type": "stream",
     "text": [
      "1\n",
      "2\n",
      "3\n",
      "list index out of range\n",
      "list index out of range\n"
     ]
    }
   ],
   "source": [
    "data = [1, 2, 3]\n",
    "\n",
    "for i in range(5):\n",
    "    try:\n",
    "        print(data[i])\n",
    "    except IndexError as e:\n",
    "        print(e)"
   ]
  },
  {
   "cell_type": "markdown",
   "id": "2c4bf78a",
   "metadata": {},
   "source": [
    "### 300 try, except, else, finally 구조 사용해보기\n",
    "파이썬 예외처리는 다음과 같은 구조를 가질 수 있습니다.\n",
    "\n",
    "try:  \n",
    " &nbsp;&nbsp;&nbsp;&nbsp;   실행 코드   \n",
    "except:     \n",
    " &nbsp;&nbsp;&nbsp;&nbsp;   예외가 발생했을 때 수행할 코드     \n",
    "else:     \n",
    "  &nbsp;&nbsp;&nbsp; &nbsp; 예외가 발생하지 않았을 때 수행할 코드      \n",
    "finally:    \n",
    "  &nbsp;&nbsp;&nbsp;&nbsp;  예외 발생 여부와 상관없이 항상 수행할 코드       \n",
    "아래의 코드에 대해서 예외처리를 사용하고 try, except, else, finally에 적당한 코드를 작성해봅시다. else와 finally는 적당한 문구를 print하시면 됩니다.\n",
    "\n",
    "per = [\"10.31\", \"\", \"8.00\"]\n",
    "\n",
    "for i in per:   \n",
    " &nbsp;&nbsp;&nbsp;&nbsp;   print(float(per))"
   ]
  },
  {
   "cell_type": "code",
   "execution_count": 26,
   "id": "e6e9136a",
   "metadata": {},
   "outputs": [
    {
     "name": "stdout",
     "output_type": "stream",
     "text": [
      "10.31 is float\n",
      "end\n",
      "0\n",
      "end\n",
      "8.0 is float\n",
      "end\n"
     ]
    }
   ],
   "source": [
    "per = [\"10.31\", \"\", \"8.00\"]\n",
    "\n",
    "for i in per:\n",
    "    try:\n",
    "        print(float(i), end='')\n",
    "    except:\n",
    "        print(0)\n",
    "    else:\n",
    "        print(' is float')\n",
    "    finally:\n",
    "        print(\"end\")"
   ]
  },
  {
   "cell_type": "code",
   "execution_count": null,
   "id": "6b157cc8",
   "metadata": {},
   "outputs": [],
   "source": []
  }
 ],
 "metadata": {
  "kernelspec": {
   "display_name": "Python 3 (ipykernel)",
   "language": "python",
   "name": "python3"
  },
  "language_info": {
   "codemirror_mode": {
    "name": "ipython",
    "version": 3
   },
   "file_extension": ".py",
   "mimetype": "text/x-python",
   "name": "python",
   "nbconvert_exporter": "python",
   "pygments_lexer": "ipython3",
   "version": "3.8.12"
  }
 },
 "nbformat": 4,
 "nbformat_minor": 5
}
