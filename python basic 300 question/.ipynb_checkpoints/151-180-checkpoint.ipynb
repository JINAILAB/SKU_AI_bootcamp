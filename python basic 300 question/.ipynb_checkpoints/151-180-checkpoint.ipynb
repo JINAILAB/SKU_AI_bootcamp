{
 "cells": [
  {
   "cell_type": "markdown",
   "id": "e5dfdbbd",
   "metadata": {},
   "source": [
    "### 151\n",
    "리스트에는 네 개의 정수가 저장돼 있다.\n",
    "\n",
    "리스트 = [3, -20, -3, 44]  \n",
    "for문을 사용해서 리스트의 음수를 출력하라.  \n",
    "  \n",
    "-20  \n",
    "-3  "
   ]
  },
  {
   "cell_type": "code",
   "execution_count": 4,
   "id": "690a6529",
   "metadata": {},
   "outputs": [
    {
     "name": "stdout",
     "output_type": "stream",
     "text": [
      "-20\n",
      "-3\n"
     ]
    }
   ],
   "source": [
    "리스트 = [3, -20, -3, 44]\n",
    "for i in 리스트:\n",
    "    if i < 0:\n",
    "        print(i)"
   ]
  },
  {
   "cell_type": "markdown",
   "id": "a278e336",
   "metadata": {},
   "source": [
    "### 152\n",
    "for문을 사용해서 3의 배수만을 출력하라.  \n",
    "\n",
    "리스트 = [3, 100, 23, 44]  \n",
    "3  "
   ]
  },
  {
   "cell_type": "code",
   "execution_count": 11,
   "id": "ca1d6777",
   "metadata": {},
   "outputs": [
    {
     "name": "stdout",
     "output_type": "stream",
     "text": [
      "3\n"
     ]
    }
   ],
   "source": [
    "리스트 = [3, 100, 23, 44]\n",
    "for i in 리스트:\n",
    "    if i % 3 == 0: print(i)"
   ]
  },
  {
   "cell_type": "markdown",
   "id": "2f3da45b",
   "metadata": {},
   "source": [
    "### 153\n",
    "리스트에서 20 보다 작은 3의 배수를 출력하라\n",
    "\n",
    "리스트 = [13, 21, 12, 14, 30, 18]  \n",
    "12  \n",
    "18  "
   ]
  },
  {
   "cell_type": "code",
   "execution_count": 12,
   "id": "48ffb031",
   "metadata": {},
   "outputs": [
    {
     "name": "stdout",
     "output_type": "stream",
     "text": [
      "12\n",
      "18\n"
     ]
    }
   ],
   "source": [
    "리스트 = [13, 21, 12, 14, 30, 18]\n",
    "for i in 리스트:\n",
    "    if i %3 == 0 and i < 20:\n",
    "        print(i)"
   ]
  },
  {
   "cell_type": "markdown",
   "id": "88721d88",
   "metadata": {},
   "source": [
    "### 154\n",
    "리스트에서 세 글자 이상의 문자를 화면에 출력하라\n",
    "\n",
    "리스트 = [\"I\", \"study\", \"python\", \"language\", \"!\"]  \n",
    "study  \n",
    "python  \n",
    "language   "
   ]
  },
  {
   "cell_type": "code",
   "execution_count": 13,
   "id": "a858576d",
   "metadata": {},
   "outputs": [
    {
     "name": "stdout",
     "output_type": "stream",
     "text": [
      "study\n",
      "python\n",
      "language\n"
     ]
    }
   ],
   "source": [
    "리스트 = [\"I\", \"study\", \"python\", \"language\", \"!\"]\n",
    "for i in 리스트:\n",
    "    if len(i) >=3:\n",
    "        print(i)"
   ]
  },
  {
   "cell_type": "markdown",
   "id": "d02142ea",
   "metadata": {},
   "source": [
    "### 155\n",
    "리스트에서 대문자만 화면에 출력하라.  \n",
    "\n",
    "리스트 = [\"A\", \"b\", \"c\", \"D\"]  \n",
    "A  &nbsp;  \n",
    "D  "
   ]
  },
  {
   "cell_type": "code",
   "execution_count": 14,
   "id": "32b317d0",
   "metadata": {},
   "outputs": [
    {
     "name": "stdout",
     "output_type": "stream",
     "text": [
      "A\n",
      "D\n"
     ]
    }
   ],
   "source": [
    "리스트 = [\"A\", \"b\", \"c\", \"D\"]\n",
    "for i in 리스트:\n",
    "    if i.isupper():\n",
    "        print(i)"
   ]
  },
  {
   "cell_type": "markdown",
   "id": "e459b58d",
   "metadata": {},
   "source": [
    "### 156   \n",
    "리스트에서 소문자만 화면에 출력하라.\n",
    "\n",
    "리스트 = [\"A\", \"b\", \"c\", \"D\"]  \n",
    "b &nbsp;  \n",
    "c"
   ]
  },
  {
   "cell_type": "code",
   "execution_count": 15,
   "id": "6faa2a6d",
   "metadata": {},
   "outputs": [
    {
     "name": "stdout",
     "output_type": "stream",
     "text": [
      "b\n",
      "c\n"
     ]
    }
   ],
   "source": [
    "리스트 = [\"A\", \"b\", \"c\", \"D\"]\n",
    "for i in 리스트:\n",
    "    if i.islower():\n",
    "        print(i)"
   ]
  },
  {
   "cell_type": "markdown",
   "id": "afc2f19e",
   "metadata": {},
   "source": [
    "### 157\n",
    "이름의 첫 글자를 대문자로 변경해서 출력하라.\n",
    "\n",
    "리스트 = ['dog', 'cat', 'parrot']   \n",
    "Dog  \n",
    "Cat   \n",
    "Parrot "
   ]
  },
  {
   "cell_type": "code",
   "execution_count": 18,
   "id": "6ef976ef",
   "metadata": {},
   "outputs": [
    {
     "name": "stdout",
     "output_type": "stream",
     "text": [
      "Dog\n",
      "Cat\n",
      "Parrot\n"
     ]
    }
   ],
   "source": [
    "리스트 = ['dog', 'cat', 'parrot']\n",
    "for i in 리스트:\n",
    "    print(i.capitalize())"
   ]
  },
  {
   "cell_type": "code",
   "execution_count": 23,
   "id": "4fd38bd7",
   "metadata": {},
   "outputs": [
    {
     "name": "stdout",
     "output_type": "stream",
     "text": [
      "Dog\n",
      "Cat\n",
      "Parrot\n"
     ]
    }
   ],
   "source": [
    "리스트 = ['dog', 'cat', 'parrot']\n",
    "for i in 리스트:\n",
    "    print(i[0].upper(), i[1:], sep ='')"
   ]
  },
  {
   "cell_type": "markdown",
   "id": "52834662",
   "metadata": {},
   "source": [
    "### 158\n",
    "파일 이름이 저장된 리스트에서 확장자를 제거하고 파일 이름만 화면에 출력하라. (힌트: split() 메서드)\n",
    "\n",
    "리스트 = ['hello.py', 'ex01.py', 'intro.hwp']   \n",
    "hello    \n",
    "ex01    \n",
    "intro"
   ]
  },
  {
   "cell_type": "code",
   "execution_count": 24,
   "id": "c9fac23b",
   "metadata": {},
   "outputs": [
    {
     "name": "stdout",
     "output_type": "stream",
     "text": [
      "hello\n",
      "ex01\n",
      "intro\n"
     ]
    }
   ],
   "source": [
    "리스트 = ['hello.py', 'ex01.py', 'intro.hwp']\n",
    "for i in 리스트:\n",
    "    print(i.split('.')[0])"
   ]
  },
  {
   "cell_type": "markdown",
   "id": "6e6e0040",
   "metadata": {},
   "source": [
    "### 159\n",
    "파일 이름이 저장된 리스트에서 확장자가 .h인 파일 이름을 출력하라.\n",
    "\n",
    "리스트 = ['intra.h', 'intra.c', 'define.h', 'run.py']  \n",
    "intra.h  \n",
    "define.h  \n"
   ]
  },
  {
   "cell_type": "code",
   "execution_count": 29,
   "id": "9425251e",
   "metadata": {},
   "outputs": [
    {
     "name": "stdout",
     "output_type": "stream",
     "text": [
      "intra.h\n",
      "define.h\n"
     ]
    }
   ],
   "source": [
    "리스트 = ['intra.h', 'intra.c', 'define.h', 'run.py']  \n",
    "for i in 리스트:\n",
    "    if i.split('.')[-1] == 'h':\n",
    "        print(i)"
   ]
  },
  {
   "cell_type": "markdown",
   "id": "7425c160",
   "metadata": {},
   "source": [
    "### 160\n",
    "파일 이름이 저장된 리스트에서 확장자가 .h나 .c인 파일을 화면에 출력하라.\n",
    "\n",
    "리스트 = ['intra.h', 'intra.c', 'define.h', 'run.py']  \n",
    "intra.h  \n",
    "intra.c  \n",
    "define.h  "
   ]
  },
  {
   "cell_type": "code",
   "execution_count": 32,
   "id": "cb863469",
   "metadata": {},
   "outputs": [
    {
     "name": "stdout",
     "output_type": "stream",
     "text": [
      "intra.h\n",
      "intra.c\n",
      "define.h\n"
     ]
    }
   ],
   "source": [
    "리스트 = ['intra.h', 'intra.c', 'define.h', 'run.py']\n",
    "for i in 리스트:\n",
    "    if i.split('.')[-1] == 'h' or i.split('.')[-1]== 'c':\n",
    "        print(i)"
   ]
  },
  {
   "cell_type": "markdown",
   "id": "584f740b",
   "metadata": {},
   "source": [
    "### 161\n",
    "for문과 range 구문을 사용해서 0~99까지 한 라인에 하나씩 순차적으로 출력하는 프로그램을 작성하라."
   ]
  },
  {
   "cell_type": "code",
   "execution_count": 33,
   "id": "20a77277",
   "metadata": {
    "scrolled": true
   },
   "outputs": [
    {
     "name": "stdout",
     "output_type": "stream",
     "text": [
      "0\n",
      "1\n",
      "2\n",
      "3\n",
      "4\n",
      "5\n",
      "6\n",
      "7\n",
      "8\n",
      "9\n",
      "10\n",
      "11\n",
      "12\n",
      "13\n",
      "14\n",
      "15\n",
      "16\n",
      "17\n",
      "18\n",
      "19\n",
      "20\n",
      "21\n",
      "22\n",
      "23\n",
      "24\n",
      "25\n",
      "26\n",
      "27\n",
      "28\n",
      "29\n",
      "30\n",
      "31\n",
      "32\n",
      "33\n",
      "34\n",
      "35\n",
      "36\n",
      "37\n",
      "38\n",
      "39\n",
      "40\n",
      "41\n",
      "42\n",
      "43\n",
      "44\n",
      "45\n",
      "46\n",
      "47\n",
      "48\n",
      "49\n",
      "50\n",
      "51\n",
      "52\n",
      "53\n",
      "54\n",
      "55\n",
      "56\n",
      "57\n",
      "58\n",
      "59\n",
      "60\n",
      "61\n",
      "62\n",
      "63\n",
      "64\n",
      "65\n",
      "66\n",
      "67\n",
      "68\n",
      "69\n",
      "70\n",
      "71\n",
      "72\n",
      "73\n",
      "74\n",
      "75\n",
      "76\n",
      "77\n",
      "78\n",
      "79\n",
      "80\n",
      "81\n",
      "82\n",
      "83\n",
      "84\n",
      "85\n",
      "86\n",
      "87\n",
      "88\n",
      "89\n",
      "90\n",
      "91\n",
      "92\n",
      "93\n",
      "94\n",
      "95\n",
      "96\n",
      "97\n",
      "98\n",
      "99\n"
     ]
    }
   ],
   "source": [
    "for i in range(0,100):\n",
    "    print(i)"
   ]
  },
  {
   "cell_type": "markdown",
   "id": "2924665c",
   "metadata": {},
   "source": [
    "### 162\n",
    "월드컵은 4년에 한 번 개최된다. range()를 사용하여 2002~2050년까지 중 월드컵이 개최되는 연도를 출력하라.\n",
    "\n",
    "2002  \n",
    "2006  \n",
    "2010  \n",
    "...  \n",
    "2042  \n",
    "2046  \n",
    "2050  "
   ]
  },
  {
   "cell_type": "code",
   "execution_count": 34,
   "id": "c099ca1e",
   "metadata": {
    "scrolled": true
   },
   "outputs": [
    {
     "name": "stdout",
     "output_type": "stream",
     "text": [
      "2002\n",
      "2006\n",
      "2010\n",
      "2014\n",
      "2018\n",
      "2022\n",
      "2026\n",
      "2030\n",
      "2034\n",
      "2038\n",
      "2042\n",
      "2046\n",
      "2050\n"
     ]
    }
   ],
   "source": [
    "for i in range(2002, 2051, 4):\n",
    "    print(i, sep)"
   ]
  },
  {
   "cell_type": "markdown",
   "id": "b714968b",
   "metadata": {},
   "source": [
    "### 163\n",
    "1부터 30까지의 숫자 중 3의 배수를 출력하라.\n",
    "\n",
    "3   &nbsp;  \n",
    "6   &nbsp;  \n",
    "9   &nbsp;  \n",
    "12      \n",
    "15     \n",
    "18      \n",
    "21   \n",
    "24  \n",
    "27      \n",
    "30    "
   ]
  },
  {
   "cell_type": "code",
   "execution_count": 35,
   "id": "4096a6d3",
   "metadata": {},
   "outputs": [
    {
     "name": "stdout",
     "output_type": "stream",
     "text": [
      "3\n",
      "6\n",
      "9\n",
      "12\n",
      "15\n",
      "18\n",
      "21\n",
      "24\n",
      "27\n",
      "30\n"
     ]
    }
   ],
   "source": [
    "for i in range(3, 31, 3):\n",
    "    print(i)"
   ]
  },
  {
   "cell_type": "markdown",
   "id": "4819918d",
   "metadata": {},
   "source": [
    "### 164\n",
    "99부터 0까지 1씩 감소하는 숫자들을, 한 라인에 하나씩 출력하라.\n",
    "\n"
   ]
  },
  {
   "cell_type": "code",
   "execution_count": 36,
   "id": "21c855b4",
   "metadata": {
    "scrolled": true
   },
   "outputs": [
    {
     "name": "stdout",
     "output_type": "stream",
     "text": [
      "99\n",
      "98\n",
      "97\n",
      "96\n",
      "95\n",
      "94\n",
      "93\n",
      "92\n",
      "91\n",
      "90\n",
      "89\n",
      "88\n",
      "87\n",
      "86\n",
      "85\n",
      "84\n",
      "83\n",
      "82\n",
      "81\n",
      "80\n",
      "79\n",
      "78\n",
      "77\n",
      "76\n",
      "75\n",
      "74\n",
      "73\n",
      "72\n",
      "71\n",
      "70\n",
      "69\n",
      "68\n",
      "67\n",
      "66\n",
      "65\n",
      "64\n",
      "63\n",
      "62\n",
      "61\n",
      "60\n",
      "59\n",
      "58\n",
      "57\n",
      "56\n",
      "55\n",
      "54\n",
      "53\n",
      "52\n",
      "51\n",
      "50\n",
      "49\n",
      "48\n",
      "47\n",
      "46\n",
      "45\n",
      "44\n",
      "43\n",
      "42\n",
      "41\n",
      "40\n",
      "39\n",
      "38\n",
      "37\n",
      "36\n",
      "35\n",
      "34\n",
      "33\n",
      "32\n",
      "31\n",
      "30\n",
      "29\n",
      "28\n",
      "27\n",
      "26\n",
      "25\n",
      "24\n",
      "23\n",
      "22\n",
      "21\n",
      "20\n",
      "19\n",
      "18\n",
      "17\n",
      "16\n",
      "15\n",
      "14\n",
      "13\n",
      "12\n",
      "11\n",
      "10\n",
      "9\n",
      "8\n",
      "7\n",
      "6\n",
      "5\n",
      "4\n",
      "3\n",
      "2\n",
      "1\n",
      "0\n"
     ]
    }
   ],
   "source": [
    "for i in range(99,-1,-1):\n",
    "    print(i)"
   ]
  },
  {
   "cell_type": "markdown",
   "id": "e8766e5b",
   "metadata": {},
   "source": [
    "### 165\n",
    "for문을 사용해서 아래와 같이 출력하라.\n",
    "\n",
    "0.0  \n",
    "0.1  \n",
    "0.2  \n",
    "0.3  \n",
    "0.4   \n",
    "0.5  \n",
    "...  \n",
    "0.9  "
   ]
  },
  {
   "cell_type": "code",
   "execution_count": 37,
   "id": "5f8814e6",
   "metadata": {},
   "outputs": [
    {
     "name": "stdout",
     "output_type": "stream",
     "text": [
      "0.0\n",
      "0.1\n",
      "0.2\n",
      "0.3\n",
      "0.4\n",
      "0.5\n",
      "0.6\n",
      "0.7\n",
      "0.8\n",
      "0.9\n"
     ]
    }
   ],
   "source": [
    "for i in range(10):\n",
    "    print(i/10)"
   ]
  },
  {
   "cell_type": "markdown",
   "id": "bbeeaba0",
   "metadata": {},
   "source": [
    "### 166\n",
    "구구단 3단을 출력하라.\n",
    "\n",
    "3x1 = 3  \n",
    "3x2 = 6    \n",
    "3x3 = 9  \n",
    "3x4 = 12    \n",
    "3x5 = 15    \n",
    "3x6 = 18    \n",
    "3x7 = 21       \n",
    "3x8 = 24  \n",
    "3x9 = 27   "
   ]
  },
  {
   "cell_type": "code",
   "execution_count": 39,
   "id": "f3c92c76",
   "metadata": {},
   "outputs": [
    {
     "name": "stdout",
     "output_type": "stream",
     "text": [
      "3x1 = 3\n",
      "3x2 = 6\n",
      "3x3 = 9\n",
      "3x4 = 12\n",
      "3x5 = 15\n",
      "3x6 = 18\n",
      "3x7 = 21\n",
      "3x8 = 24\n",
      "3x9 = 27\n"
     ]
    }
   ],
   "source": [
    "for i in range(1,10):\n",
    "    print(f'3x{i} = {3*i}')"
   ]
  },
  {
   "cell_type": "markdown",
   "id": "56defaf6",
   "metadata": {},
   "source": [
    "### 167\n",
    "구구단 3단을 출력하라. 단 홀수 번째만 출력한다.\n",
    "\n",
    "3x1 = 3   \n",
    "3x3 = 9     \n",
    "3x5 = 15   \n",
    "3x7 = 21   \n",
    "3x9 = 27   "
   ]
  },
  {
   "cell_type": "code",
   "execution_count": 40,
   "id": "01934c35",
   "metadata": {},
   "outputs": [
    {
     "name": "stdout",
     "output_type": "stream",
     "text": [
      "3x1 = 3\n",
      "3x3 = 9\n",
      "3x5 = 15\n",
      "3x7 = 21\n",
      "3x9 = 27\n"
     ]
    }
   ],
   "source": [
    "for i in range(1,10,2):\n",
    "    print(f'3x{i} = {3*i}')"
   ]
  },
  {
   "cell_type": "markdown",
   "id": "a123fceb",
   "metadata": {},
   "source": [
    "### 168\n",
    "1~10까지의 숫자에 대해 모두 더한 값을 출력하는 프로그램을 for 문을 사용하여 작성하라.\n",
    "\n",
    "합 : 55"
   ]
  },
  {
   "cell_type": "code",
   "execution_count": 47,
   "id": "3694f574",
   "metadata": {},
   "outputs": [
    {
     "name": "stdout",
     "output_type": "stream",
     "text": [
      "55\n"
     ]
    }
   ],
   "source": [
    "sum = 0\n",
    "for i in range(1,11):\n",
    "    sum += i\n",
    "print(sum)"
   ]
  },
  {
   "cell_type": "markdown",
   "id": "94afb971",
   "metadata": {},
   "source": [
    "### 170\n",
    "1~10까지의 숫자를 모두 곱한 값을 출력하는 프로그램을 for 문을 사용하여 작성하라."
   ]
  },
  {
   "cell_type": "code",
   "execution_count": 49,
   "id": "3360fa67",
   "metadata": {},
   "outputs": [
    {
     "name": "stdout",
     "output_type": "stream",
     "text": [
      "3628800\n"
     ]
    }
   ],
   "source": [
    "sum = 1\n",
    "for i in range(1,11):\n",
    "    sum *= i\n",
    "print(sum)"
   ]
  },
  {
   "cell_type": "markdown",
   "id": "87bb67e2",
   "metadata": {},
   "source": [
    "### 171\n",
    "아래와 같이 리스트의 데이터를 출력하라. 단, for문과 range문을 사용하라.\n",
    "\n",
    "price_list = [32100, 32150, 32000, 32500]  \n",
    "32100  \n",
    "32150  \n",
    "32000    \n",
    "32500      "
   ]
  },
  {
   "cell_type": "code",
   "execution_count": 50,
   "id": "8860f52f",
   "metadata": {},
   "outputs": [
    {
     "name": "stdout",
     "output_type": "stream",
     "text": [
      "32100\n",
      "32150\n",
      "32000\n",
      "32500\n"
     ]
    }
   ],
   "source": [
    "price_list = [32100, 32150, 32000, 32500]\n",
    "for i in price_list:\n",
    "    print(i)"
   ]
  },
  {
   "cell_type": "markdown",
   "id": "9a4839b2",
   "metadata": {},
   "source": [
    "### 172\n",
    "아래와 같이 리스트의 데이터를 출력하라. 단, for문과 range문을 사용하라.\n",
    "\n",
    "price_list = [32100, 32150, 32000, 32500]     \n",
    "0 32100        \n",
    "1 32150      \n",
    "2 32000     \n",
    "3 32500  "
   ]
  },
  {
   "cell_type": "code",
   "execution_count": 53,
   "id": "cd4e4350",
   "metadata": {},
   "outputs": [
    {
     "name": "stdout",
     "output_type": "stream",
     "text": [
      "0 32100\n",
      "1 32150\n",
      "2 32000\n",
      "3 32500\n"
     ]
    }
   ],
   "source": [
    "price_list = [32100, 32150, 32000, 32500]\n",
    "for i in range(len(price_list)):\n",
    "    print(i, price_list[i])"
   ]
  },
  {
   "cell_type": "markdown",
   "id": "c66247c8",
   "metadata": {},
   "source": [
    "### 173\n",
    "아래와 같이 리스트의 데이터를 출력하라. 단, for문과 range문을 사용하라.\n",
    "\n",
    "price_list = [32100, 32150, 32000, 32500]     \n",
    "3 32100       \n",
    "2 32150       \n",
    "1 32000      \n",
    "0 32500    "
   ]
  },
  {
   "cell_type": "code",
   "execution_count": 55,
   "id": "cf47eaeb",
   "metadata": {},
   "outputs": [
    {
     "name": "stdout",
     "output_type": "stream",
     "text": [
      "3 32100\n",
      "2 32150\n",
      "1 32000\n",
      "0 32500\n"
     ]
    }
   ],
   "source": [
    "price_list = [32100, 32150, 32000, 32500]\n",
    "for i in range(len(price_list)):\n",
    "    print(len(price_list) - i-1, price_list[i])"
   ]
  },
  {
   "cell_type": "markdown",
   "id": "54b9cd8b",
   "metadata": {},
   "source": [
    "### 174\n",
    "아래와 같이 리스트의 데이터를 출력하라. 단, for문과 range문을 사용하라.\n",
    "\n",
    "price_list = [32100, 32150, 32000, 32500]      \n",
    "100 32150       \n",
    "110 32000       \n",
    "120 32500   "
   ]
  },
  {
   "cell_type": "code",
   "execution_count": 57,
   "id": "64a31fce",
   "metadata": {},
   "outputs": [
    {
     "name": "stdout",
     "output_type": "stream",
     "text": [
      "100 32150\n",
      "200 32000\n",
      "300 32500\n"
     ]
    }
   ],
   "source": [
    "price_list = [32100, 32150, 32000, 32500]\n",
    "for i in range(1, len(price_list)):\n",
    "    print(i*100, price_list[i])"
   ]
  },
  {
   "cell_type": "markdown",
   "id": "1e5ef028",
   "metadata": {},
   "source": [
    "### 175\n",
    "my_list를 아래와 같이 출력하라.\n",
    "\n",
    "my_list = [\"가\", \"나\", \"다\", \"라\"]   \n",
    "가 나   \n",
    "나 다   \n",
    "다 라   "
   ]
  },
  {
   "cell_type": "code",
   "execution_count": 61,
   "id": "b85ef42c",
   "metadata": {},
   "outputs": [
    {
     "name": "stdout",
     "output_type": "stream",
     "text": [
      "가 나\n",
      "나 다\n",
      "다 라\n"
     ]
    }
   ],
   "source": [
    "my_list = [\"가\", \"나\", \"다\", \"라\"]\n",
    "for i in range(len(my_list)-1):\n",
    "    print(my_list[i], my_list[i+1])"
   ]
  },
  {
   "cell_type": "markdown",
   "id": "3a69792c",
   "metadata": {},
   "source": [
    "### 176\n",
    "리스트를 아래와 같이 출력하라.\n",
    "\n",
    "my_list = [\"가\", \"나\", \"다\", \"라\", \"마\"]   \n",
    "가 나 다  \n",
    "나 다 라   \n",
    "다 라 마  "
   ]
  },
  {
   "cell_type": "code",
   "execution_count": 63,
   "id": "1ee9c96a",
   "metadata": {},
   "outputs": [
    {
     "name": "stdout",
     "output_type": "stream",
     "text": [
      "가 나 다\n",
      "나 다 라\n",
      "다 라 마\n"
     ]
    }
   ],
   "source": [
    "my_list = [\"가\", \"나\", \"다\", \"라\", \"마\"]\n",
    "for i in range(len(my_list)-2):\n",
    "    print(my_list[i], my_list[i+1], my_list[i+2])"
   ]
  },
  {
   "cell_type": "markdown",
   "id": "c1a8636b",
   "metadata": {},
   "source": [
    "### 177\n",
    "반복문과 range 함수를 사용해서 my_list를 아래와 같이 출력하라.\n",
    "\n",
    "my_list = [\"가\", \"나\", \"다\", \"라\"]    \n",
    "라 다   \n",
    "다 나  \n",
    "나 가   "
   ]
  },
  {
   "cell_type": "code",
   "execution_count": 84,
   "id": "439fe37b",
   "metadata": {},
   "outputs": [
    {
     "name": "stdout",
     "output_type": "stream",
     "text": [
      "라 다\n",
      "다 나\n",
      "나 가\n"
     ]
    }
   ],
   "source": [
    "# my_list = [\"가\", \"나\", \"다\", \"라\"]\n",
    "for i in range(len(my_list)-1, 0, -1):\n",
    "    print(my_list[i], my_list[i-1])\n"
   ]
  },
  {
   "cell_type": "markdown",
   "id": "acff1e53",
   "metadata": {},
   "source": [
    "### 178\n",
    "리스트에는 네 개의 정수가 저장되어 있다. 각각의 데이터에 대해서 자신과 우측값과의 차분값을 화면에 출력하라.  \n",
    "\n",
    "my_list = [100, 200, 400, 800]  \n",
    "예를들어 100을 기준으로 우측에 위치한 200과의 차분 값를 화면에 출력하고, 200을 기준으로 우측에 위치한 400과의 차분값을 화면에 출력한다. 이어서 400을 기준으로 우측에 위치한 800과의 차분값을 화면에 출력한다.  \n",
    "\n",
    "100   \n",
    "200  \n",
    "400  "
   ]
  },
  {
   "cell_type": "code",
   "execution_count": 89,
   "id": "7aa2b8cc",
   "metadata": {},
   "outputs": [
    {
     "name": "stdout",
     "output_type": "stream",
     "text": [
      "100\n",
      "200\n",
      "400\n"
     ]
    }
   ],
   "source": [
    "my_list = [100, 200, 400, 800]\n",
    "for i in range(len(my_list)-1):\n",
    "    print(my_list[i+1] - my_list[i])"
   ]
  },
  {
   "cell_type": "markdown",
   "id": "aaebbcb2",
   "metadata": {},
   "source": [
    "### 179\n",
    "리스트에는 6일 간의 종가 데이터가 저장되어 있다. 종가 데이터의 3일 이동 평균을 계산하고 이를 화면에 출력하라.  \n",
    "\n",
    "my_list = [100, 200, 400, 800, 1000, 1300]  \n",
    "첫 번째 줄에는 100, 200, 400의 평균값이 출력된다. 두 번째 줄에는 200, 400, 800의 평균값이 출력된다. 같은 방식으로 나머지 데이터의 평균을 출력한다.\n",
    "\n",
    "233.33333333333334  \n",
    "466.6666666666667  \n",
    "733.3333333333334  \n",
    "1033.3333333333333  "
   ]
  },
  {
   "cell_type": "code",
   "execution_count": 92,
   "id": "6ccd88b4",
   "metadata": {},
   "outputs": [
    {
     "name": "stdout",
     "output_type": "stream",
     "text": [
      "233.33333333333334\n",
      "466.6666666666667\n",
      "733.3333333333334\n",
      "1033.3333333333333\n"
     ]
    }
   ],
   "source": [
    "my_list = [100, 200, 400, 800, 1000, 1300]\n",
    "for i in range(len(my_list)-2):\n",
    "    sum = 0\n",
    "    for j in range(3):\n",
    "        sum += my_list[i+j]\n",
    "    print(sum/3)"
   ]
  },
  {
   "cell_type": "markdown",
   "id": "374e0575",
   "metadata": {},
   "source": [
    "### 180\n",
    "\n",
    "리스트에 5일간의 저가, 고가 정보가 저장돼 있다. 고가와 저가의 차를 변동폭이라고 정의할 때, low, high 두 개의 리스트를 사용해서 5일간의 변동폭을 volatility 리스트에 저장하라.\n",
    "\n",
    "low_prices  = [100, 200, 400, 800, 1000]  \n",
    "high_prices = [150, 300, 430, 880, 1000]  "
   ]
  },
  {
   "cell_type": "code",
   "execution_count": 96,
   "id": "de4f6497",
   "metadata": {},
   "outputs": [
    {
     "name": "stdout",
     "output_type": "stream",
     "text": [
      "[50, 100, 30, 80, 0]\n"
     ]
    }
   ],
   "source": [
    "low_prices = [100, 200, 400, 800, 1000]\n",
    "high_prices = [150, 300, 430, 880, 1000]\n",
    "volatillity = []\n",
    "for x,y in zip(low_prices, high_prices):\n",
    "    volatillity.append(y-x)\n",
    "print(volatillity)"
   ]
  }
 ],
 "metadata": {
  "kernelspec": {
   "display_name": "Python 3 (ipykernel)",
   "language": "python",
   "name": "python3"
  },
  "language_info": {
   "codemirror_mode": {
    "name": "ipython",
    "version": 3
   },
   "file_extension": ".py",
   "mimetype": "text/x-python",
   "name": "python",
   "nbconvert_exporter": "python",
   "pygments_lexer": "ipython3",
   "version": "3.8.12"
  }
 },
 "nbformat": 4,
 "nbformat_minor": 5
}
