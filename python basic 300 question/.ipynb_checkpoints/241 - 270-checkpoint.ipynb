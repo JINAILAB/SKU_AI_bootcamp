{
 "cells": [
  {
   "cell_type": "markdown",
   "id": "eb34d8a4",
   "metadata": {},
   "source": [
    "### 241 현재시간\n",
    "datetime 모듈을 사용해서 현재 시간을 화면에 출력해보세요."
   ]
  },
  {
   "cell_type": "code",
   "execution_count": null,
   "id": "3ba82db1",
   "metadata": {},
   "outputs": [],
   "source": []
  },
  {
   "cell_type": "markdown",
   "id": "36631ee8",
   "metadata": {},
   "source": [
    "### 242 현재시간의 타입\n",
    "datetime 모듈의 now 함수의 리턴 값의 타입을 화면에 출력해보세요."
   ]
  },
  {
   "cell_type": "code",
   "execution_count": null,
   "id": "211fdbd7",
   "metadata": {},
   "outputs": [],
   "source": []
  },
  {
   "cell_type": "markdown",
   "id": "e39cfc13",
   "metadata": {},
   "source": [
    "### 243 timedelta\n",
    "datetime 모듈의 timedelta를 사용해서 오늘로부터 5일, 4일, 3일, 2일, 1일 전의 날짜를 화면에 출력해보세요."
   ]
  },
  {
   "cell_type": "code",
   "execution_count": null,
   "id": "76400980",
   "metadata": {},
   "outputs": [],
   "source": []
  },
  {
   "cell_type": "markdown",
   "id": "c4635de1",
   "metadata": {},
   "source": [
    "### 244 strftime\n",
    "현재시간을 얻어온 후 다음과 같은 포맷으로 시간을 출력해보세요. strftime 메서드를 사용하세요.\n",
    "\n",
    "18:35:01 "
   ]
  },
  {
   "cell_type": "code",
   "execution_count": null,
   "id": "b537b31b",
   "metadata": {},
   "outputs": [],
   "source": []
  },
  {
   "cell_type": "markdown",
   "id": "fe168966",
   "metadata": {},
   "source": [
    "### 245 strptime\n",
    "datetime.datetime.strptime 메서드를 사용하면 문자열 형식의 시간을 datetime.datetime 타입의 시간 값으로 만들어줍니다. \"2020-05-04\"의 문자열을 시간 타입으로 변환해보세요."
   ]
  },
  {
   "cell_type": "code",
   "execution_count": null,
   "id": "9a1f1060",
   "metadata": {},
   "outputs": [],
   "source": []
  },
  {
   "cell_type": "markdown",
   "id": "d34c4e89",
   "metadata": {},
   "source": [
    "### 246 sleep 함수\n",
    "time 모듈, datetime 모듈을 사용해서 1초에 한 번 현재 시간을 출력하는 코드를 작성하세요."
   ]
  },
  {
   "cell_type": "code",
   "execution_count": null,
   "id": "70ba8fed",
   "metadata": {},
   "outputs": [],
   "source": []
  },
  {
   "cell_type": "markdown",
   "id": "2a19a438",
   "metadata": {},
   "source": [
    "### 247 모듈 임포트\n",
    "모듈을 임포트하는 4가지 방식에 대해 설명해보세요."
   ]
  },
  {
   "cell_type": "code",
   "execution_count": null,
   "id": "fbc4d283",
   "metadata": {},
   "outputs": [],
   "source": []
  },
  {
   "cell_type": "markdown",
   "id": "a7423cde",
   "metadata": {},
   "source": [
    "### 248 os 모듈\n",
    "os 모듈의 getcwd 함수를 호출하여 현재 디렉터리의 경로를 화면에 출력해보세요."
   ]
  },
  {
   "cell_type": "code",
   "execution_count": 1,
   "id": "ec117469",
   "metadata": {},
   "outputs": [
    {
     "data": {
      "text/plain": [
       "'/Users/jinyong/Desktop/AI boostcamp/python basic 300 question'"
      ]
     },
     "execution_count": 1,
     "metadata": {},
     "output_type": "execute_result"
    }
   ],
   "source": [
    "import os \n",
    "os.getcwd()"
   ]
  },
  {
   "cell_type": "markdown",
   "id": "5172f193",
   "metadata": {},
   "source": [
    "### 249 rename 함수\n",
    "바탕화면에 텍스트 파일을 하나 생성한 후 os 모듈의 rename 함수를 호출하여 해당 파일의 이름을 변경해보세요."
   ]
  },
  {
   "cell_type": "code",
   "execution_count": 6,
   "id": "bbbd1fd2",
   "metadata": {},
   "outputs": [],
   "source": [
    "with open('a.txt', 'w') as f:\n",
    "    f.write('s')\n",
    "os.rename(\"a.txt\", \"b.txt\")"
   ]
  },
  {
   "cell_type": "markdown",
   "id": "1a1c5420",
   "metadata": {},
   "source": [
    "### 250 numpy\n",
    "numpy 모듈의 arange 함수를 사용해서 0.0 부터 5.0까지 0.1씩 증가하는 값을 화면에 출력해보세요."
   ]
  },
  {
   "cell_type": "code",
   "execution_count": null,
   "id": "00fd9f88",
   "metadata": {},
   "outputs": [],
   "source": [
    "import numpy as np\n",
    "for i in np.arange(0, 5, 0.1):\n",
    "    print(i)"
   ]
  },
  {
   "cell_type": "markdown",
   "id": "a84490ad",
   "metadata": {},
   "source": [
    "### 251 클래스, 객체, 인스턴스\n",
    "클래스, 객체, 인스턴스에 대해 설명해봅시다.\n",
    "\n"
   ]
  },
  {
   "cell_type": "markdown",
   "id": "f7dd4827",
   "metadata": {},
   "source": [
    "클래스 : 클래스는 데이터와 기능을 함께 묶는 방법을 제공합니다.\n",
    "    새 클래스를 만드는 것은 객체의 새 형 을 만들어서, 그 형의 새 인스턴스 를 만들 수 있도록 합니다.\n",
    "\n",
    "인스턴스 : 객체가 어떤 클래스에 속할 때, 그 객체를 그 클래스의 인스턴스(instance)라고 부른다.\n",
    "\n",
    "객체(object) : 파이썬에서는 객체라는 단위로 메모리 위의 정보를 관리한다. 객체에는 값(value)·유형(type)·정체성(identity)이라는 세 특성이 있다.  \n",
    "값은 메모리에 기록된 내용이다. 가변 객체는 값이 바뀔 수 있지만 불변 객체는 값이 바뀌지 않는다.  \n",
    "유형은 데이터의 종류로, 유형에 따라 그 값을 어떻게 읽고 다루어야 할지가 결정된다.   \n",
    "정체성은 각각의 객체를 식별하기 위한 고유번호로, 객체가 메모리 속에서 위치한 주소 값이기도 하다.   \n",
    "객체의 값은 객체를 평가함으로써 구할 수 있고(객체는 값 그 자체이고, 그 자신으로 평가된다), 유형은 type() 함수로, 정체성은 id() 함수로 구할 수 있다.\n",
    "\n"
   ]
  },
  {
   "cell_type": "markdown",
   "id": "3ff1faed",
   "metadata": {},
   "source": [
    "### 252 클래스 정의\n",
    "비어있는 사람 (Human) 클래스를 \"정의\" 해보세요."
   ]
  },
  {
   "cell_type": "code",
   "execution_count": 15,
   "id": "e4d91b04",
   "metadata": {},
   "outputs": [],
   "source": [
    "class Human:\n",
    "    pass"
   ]
  },
  {
   "cell_type": "markdown",
   "id": "0496e995",
   "metadata": {},
   "source": [
    "### 253 인스턴스 생성\n",
    "사람 (Human) 클래스의 인스턴스를 \"생성\" 하고 이를 areum 변수로 바인딩해보세요."
   ]
  },
  {
   "cell_type": "code",
   "execution_count": 16,
   "id": "1e40e5c1",
   "metadata": {},
   "outputs": [],
   "source": [
    "class Human:\n",
    "    pass\n",
    "\n",
    "areum = Human()"
   ]
  },
  {
   "cell_type": "markdown",
   "id": "841259c7",
   "metadata": {},
   "source": [
    "### 254 클래스 생성자-1\n",
    "사람 (Human) 클래스에 \"응애응애\"를 출력하는 생성자를 추가하세요.\n",
    "\n",
    "areum = Human()  \n",
    "응애응애\n"
   ]
  },
  {
   "cell_type": "code",
   "execution_count": 17,
   "id": "5c0fc745",
   "metadata": {},
   "outputs": [
    {
     "name": "stdout",
     "output_type": "stream",
     "text": [
      "응애응애\n"
     ]
    }
   ],
   "source": [
    "class Human:\n",
    "    def __init__(self):\n",
    "        print(\"응애응애\")\n",
    "areum = Human()"
   ]
  },
  {
   "cell_type": "markdown",
   "id": "6d836cf2",
   "metadata": {},
   "source": [
    "### 255 클래스 생성자-2\n",
    "사람 (Human) 클래스에 (이름, 나이, 성별)을 받는 생성자를 추가하세요.\n",
    "\n",
    "areum = Human(\"아름\", 25, \"여자\")"
   ]
  },
  {
   "cell_type": "code",
   "execution_count": 19,
   "id": "fb0b2893",
   "metadata": {},
   "outputs": [],
   "source": [
    "class Human:\n",
    "    def __init__(self, name, age, sex):\n",
    "        self.name = name\n",
    "        self.age = age\n",
    "        self.sex = sex\n",
    "\n",
    "areum = Human(\"아름\", 25, \"여자\")"
   ]
  },
  {
   "cell_type": "markdown",
   "id": "8c7ed92a",
   "metadata": {},
   "source": [
    "### 256 인스턴스 속성에 접근\n",
    "255에서 생성한 인스턴스의 이름, 나이, 성별을 출력하세요. 인스턴스 변수에 접근하여 값을 출력하면 됩니다.\n",
    "\n",
    "이름: 조아름, 나이: 25, 성별: 여자    \n",
    "인스턴스 변수에 접근하여 값을 가져오는 예\n",
    "\n",
    "areum.age    \n",
    "25"
   ]
  },
  {
   "cell_type": "code",
   "execution_count": 20,
   "id": "468f738f",
   "metadata": {},
   "outputs": [
    {
     "data": {
      "text/plain": [
       "25"
      ]
     },
     "execution_count": 20,
     "metadata": {},
     "output_type": "execute_result"
    }
   ],
   "source": [
    "areum.age"
   ]
  },
  {
   "cell_type": "markdown",
   "id": "8eb838de",
   "metadata": {},
   "source": [
    "### 257 클래스 메소드 - 1\n",
    "사람 (Human) 클래스에서 이름, 나이, 성별을 출력하는 who() 메소드를 추가하세요.\n",
    "\n",
    "areum.who()   \n",
    "이름: 조아름, 나이: 25, 성별: 여자"
   ]
  },
  {
   "cell_type": "code",
   "execution_count": 29,
   "id": "279c2e54",
   "metadata": {},
   "outputs": [
    {
     "name": "stdout",
     "output_type": "stream",
     "text": [
      "아름 25 여자\n"
     ]
    }
   ],
   "source": [
    "class Human:\n",
    "    def __init__(self, name, age, sex):\n",
    "        self.name = name\n",
    "        self.age = age\n",
    "        self.sex = sex\n",
    "    def who(self):\n",
    "        print(self.name, self.age, self.sex)\n",
    "\n",
    "areum = Human(\"아름\", 25, \"여자\")\n",
    "areum.who()"
   ]
  },
  {
   "cell_type": "markdown",
   "id": "c21619e6",
   "metadata": {},
   "source": [
    "### 258 클래스 메소드 - 2\n",
    "사람 (Human) 클래스에 (이름, 나이, 성별)을 받는 setInfo 메소드를 추가하세요.\n",
    "\n",
    "areum = Human(\"모름\", 0, \"모름\")    \n",
    "areum.setInfo(\"아름\", 25, \"여자\")   "
   ]
  },
  {
   "cell_type": "code",
   "execution_count": 28,
   "id": "0e925716",
   "metadata": {},
   "outputs": [
    {
     "name": "stdout",
     "output_type": "stream",
     "text": [
      "아름 25 여자\n"
     ]
    }
   ],
   "source": [
    "class Human:\n",
    "    def __init__(self, name, age, sex):\n",
    "        self.name = name\n",
    "        self.age = age\n",
    "        self.sex = sex\n",
    "        \n",
    "    def setInfo(self, name, age, sex):\n",
    "        self.name = name\n",
    "        self.age = age\n",
    "        self.sex = sex\n",
    "\n",
    "areum = Human(\"모름\", 0, \"모름\")\n",
    "areum.setInfo(\"아름\", 25, \"여자\")\n",
    "print(areum.name, areum.age, areum.sex)"
   ]
  },
  {
   "cell_type": "markdown",
   "id": "966ea12b",
   "metadata": {},
   "source": [
    "### 259 클래스 소멸자\n",
    "사람 (human) 클래스에 \"나의 죽음을 알리지 말라\"를 출력하는 소멸자를 추가하세요.\n",
    "\n",
    "areum = Human(\"아름\", 25, \"여자\")     \n",
    "del areum    \n",
    "나의 죽음을 알리지 말라"
   ]
  },
  {
   "cell_type": "code",
   "execution_count": 30,
   "id": "4556aecf",
   "metadata": {},
   "outputs": [
    {
     "name": "stdout",
     "output_type": "stream",
     "text": [
      "나의 죽음을 알리지마라\n"
     ]
    }
   ],
   "source": [
    "class Human:\n",
    "    def __init__(self, name, age, sex):\n",
    "        self.name = name\n",
    "        self.age = age\n",
    "        self.sex = sex\n",
    "\n",
    "    def __del__(self):\n",
    "        print(\"나의 죽음을 알리지마라\")\n",
    "areum = Human(\"아름\", 25, \"여자\")\n",
    "del areum"
   ]
  },
  {
   "cell_type": "markdown",
   "id": "636cce6a",
   "metadata": {},
   "source": [
    "### 260 에러의 원인\n",
    "아래와 같은 에러가 발생한 원인에 대해 설명하세요.\n",
    "\n",
    "class OMG :     \n",
    "&nbsp;&nbsp;&nbsp;&nbsp;    def print() :   \n",
    "&nbsp;&nbsp;&nbsp;&nbsp;&nbsp;&nbsp;&nbsp;&nbsp;       print(\"Oh my god\")\n",
    "\n",
    "\\>>> >>> myStock = OMG()    \n",
    "\\>>> myStock.print()       \n",
    "TypeError Traceback (most recent call last)     \n",
    "\\<ipython-input-233-c85c04535b22> in \\<module>()     \n",
    "----> myStock.print()      \n",
    "\n",
    "TypeError: print() takes 0 positional arguments but 1 was given"
   ]
  },
  {
   "cell_type": "markdown",
   "id": "7e93f7e3",
   "metadata": {},
   "source": [
    "#### print method를 정의할 때 self인자를 넣어주지 않았다."
   ]
  },
  {
   "cell_type": "markdown",
   "id": "62f1689a",
   "metadata": {},
   "source": [
    "### 261 Stock 클래스 생성\n",
    "주식 종목에 대한 정보를 저장하는 Stock 클래스를 정의해보세요. 클래스는 속성과 메서드를 갖고 있지 않습니다."
   ]
  },
  {
   "cell_type": "code",
   "execution_count": 31,
   "id": "4fd88728",
   "metadata": {},
   "outputs": [],
   "source": [
    "class Stock:\n",
    "    pass"
   ]
  },
  {
   "cell_type": "markdown",
   "id": "9716443d",
   "metadata": {},
   "source": [
    "### 262 생성자\n",
    "Stock 클래스의 객체가 생성될 때 종목명과 종목코드를 입력 받을 수 있도록 생성자를 정의해보세요.\n",
    "\n",
    "삼성 = Stock(\"삼성전자\", \"005930\")"
   ]
  },
  {
   "cell_type": "code",
   "execution_count": 33,
   "id": "6b34e4c8",
   "metadata": {},
   "outputs": [],
   "source": [
    "class Stock:\n",
    "    def __init__(self, stock_name, stock_code):\n",
    "        self.stock_name = stock_name\n",
    "        self.stock_code = stock_code\n",
    "삼성 = Stock(\"삼성전자\", \"005930\")"
   ]
  },
  {
   "cell_type": "markdown",
   "id": "12742db4",
   "metadata": {},
   "source": [
    "### 263 메서드\n",
    "객체에 종목명을 입력할 수 있는 set_name 메서드를 추가해보세요.\n",
    "\n",
    "a = Stock(None, None)    \n",
    "a.set_name(\"삼성전자\")"
   ]
  },
  {
   "cell_type": "code",
   "execution_count": 37,
   "id": "cedba2f5",
   "metadata": {},
   "outputs": [
    {
     "name": "stdout",
     "output_type": "stream",
     "text": [
      "삼성전자\n"
     ]
    }
   ],
   "source": [
    "class Stock:\n",
    "    def __init__(self, stock_name, stock_code):\n",
    "        self.stock_name = stock_name\n",
    "        self.stock_code = stock_code\n",
    "\n",
    "    def set_name(self, stock_name):\n",
    "        self.stock_name = stock_name\n",
    "a = Stock(None, None)\n",
    "a.set_name(\"삼성전자\")\n",
    "print(a.stock_name)"
   ]
  },
  {
   "cell_type": "markdown",
   "id": "33e4fea1",
   "metadata": {},
   "source": [
    "### 264 메서드\n",
    "객체에 종목코드를 입력할 수 있는 set_code 메서드를 추가해보세요.\n",
    "\n",
    "a = Stock(None, None)    \n",
    "a.set_code(\"005930\")"
   ]
  },
  {
   "cell_type": "code",
   "execution_count": 39,
   "id": "55674615",
   "metadata": {},
   "outputs": [
    {
     "name": "stdout",
     "output_type": "stream",
     "text": [
      "005930\n"
     ]
    }
   ],
   "source": [
    "class Stock:\n",
    "    def __init__(self, stock_name, stock_code):\n",
    "        self.stock_name = stock_name\n",
    "        self.stock_code = stock_code\n",
    "\n",
    "    def set_name(self, stock_name):\n",
    "        self.stock_name = stock_name\n",
    "        \n",
    "    def set_code(self, stock_code):\n",
    "        self.stock_code = stock_code\n",
    "a = Stock(None, None)\n",
    "a.set_code(\"005930\")\n",
    "print(a.stock_code)"
   ]
  },
  {
   "cell_type": "markdown",
   "id": "d3e222ec",
   "metadata": {},
   "source": [
    "### 265 메서드\n",
    "종목명과 종목코드를 리턴하는 get_name, get_code 메서드를 추가하세요. 해당 메서드를 사용하여 종목명과 종목코드를 얻고 이를 출력해보세요.\n",
    "\n",
    "삼성 = Stock(\"삼성전자\", \"005930\")"
   ]
  },
  {
   "cell_type": "code",
   "execution_count": 41,
   "id": "9c26b236",
   "metadata": {},
   "outputs": [
    {
     "name": "stdout",
     "output_type": "stream",
     "text": [
      "삼성전자\n",
      "005930\n"
     ]
    }
   ],
   "source": [
    "class Stock:\n",
    "    def __init__(self, stock_name, stock_code):\n",
    "        self.stock_name = stock_name\n",
    "        self.stock_code = stock_code\n",
    "\n",
    "    def set_name(self, stock_name):\n",
    "        self.stock_name = stock_name\n",
    "        \n",
    "    def set_code(self, stock_code):\n",
    "        self.stock_code = stock_code\n",
    "    \n",
    "    def get_name(self):\n",
    "        return self.stock_name\n",
    "    \n",
    "    def get_code(self):\n",
    "        return self.stock_code\n",
    "\n",
    "삼성 = Stock('삼성전자', '005930')\n",
    "print(삼성.get_name())\n",
    "print(삼성.get_code())"
   ]
  },
  {
   "cell_type": "markdown",
   "id": "2ca56974",
   "metadata": {},
   "source": [
    "### 266 객체의 속성값 업데이트\n",
    "생성자에서 종목명, 종목코드, PER, PBR, 배당수익률을 입력 받을 수 있도록 생성자를 수정하세요. PER, PBR, 배당수익률은 float 타입입니다."
   ]
  },
  {
   "cell_type": "code",
   "execution_count": 43,
   "id": "e712c88d",
   "metadata": {},
   "outputs": [],
   "source": [
    "class Stock:\n",
    "    def __init__(self, stock_name, stock_code, PER, PBR, dividend_yield):\n",
    "        self.stock_name = stock_name\n",
    "        self.stock_code = stock_code\n",
    "        self.PER = PER\n",
    "        self.PBR = PBR\n",
    "        self.dividend_yield = dividend_yield\n",
    "        \n",
    "    def set_name(self, stock_name):\n",
    "        self.stock_name = stock_name\n",
    "        \n",
    "    def set_code(self, stock_code):\n",
    "        self.stock_code = stock_code\n",
    "    \n",
    "    def get_name(self):\n",
    "        return self.stock_name\n",
    "    \n",
    "    def get_code(self):\n",
    "        return self.stock_code\n"
   ]
  },
  {
   "cell_type": "markdown",
   "id": "3d1586e2",
   "metadata": {},
   "source": [
    "### 267 객체 생성\n",
    "266번에서 정의한 생성자를 통해 다음 정보를 갖는 객체를 생성해보세요.\n",
    "\n",
    "|항목\t|정보|\n",
    "|---|---|\n",
    "|종목명\t|삼성전자|\n",
    "|종목코드\t|005930|\n",
    "|PER\t|15.79|\n",
    "|PBR|\t1.33|\n",
    "|배당수익률|\t2.83|"
   ]
  },
  {
   "cell_type": "code",
   "execution_count": 44,
   "id": "a3138ec0",
   "metadata": {},
   "outputs": [],
   "source": [
    "삼성 = Stock(\"삼성전자\", \"005930\", 15.79, 1.33, 2.83)"
   ]
  },
  {
   "cell_type": "markdown",
   "id": "2cbd8bb1",
   "metadata": {},
   "source": [
    "### 268 객체의 속성 수정\n",
    "PER, PBR, 배당수익률은 변경될 수 있는 값입니다. 이 값을 변경할 때 사용하는 set_per, set_pbr, set_dividend 메서드를 추가하세요."
   ]
  },
  {
   "cell_type": "code",
   "execution_count": 45,
   "id": "9ca5dc2e",
   "metadata": {},
   "outputs": [],
   "source": [
    "class Stock:\n",
    "    def __init__(self, stock_name, stock_code, PER, PBR, dividend_yield):\n",
    "        self.stock_name = stock_name\n",
    "        self.stock_code = stock_code\n",
    "        self.PER = PER\n",
    "        self.PBR = PBR\n",
    "        self.dividend_yield = dividend_yield\n",
    "        \n",
    "    def set_name(self, stock_name):\n",
    "        self.stock_name = stock_name\n",
    "        \n",
    "    def set_code(self, stock_code):\n",
    "        self.stock_code = stock_code\n",
    "    \n",
    "    def get_name(self):\n",
    "        return self.stock_name\n",
    "    \n",
    "    def get_code(self):\n",
    "        return self.stock_code\n",
    "    \n",
    "    def set_per(self, per):\n",
    "        self.PER = per\n",
    "\n",
    "    def set_pbr(self, pbr):\n",
    "        self.PBR = pbr\n",
    "\n",
    "    def set_dividend(self, dividend):\n",
    "        self.dividend_yield = dividend"
   ]
  },
  {
   "cell_type": "markdown",
   "id": "a316bbed",
   "metadata": {},
   "source": [
    "### 269 객체의 속성 수정\n",
    "267번에서 생성한 객체에 set_per 메서드를 호출하여 per 값을 12.75로 수정해보세요."
   ]
  },
  {
   "cell_type": "code",
   "execution_count": 47,
   "id": "018e5f55",
   "metadata": {},
   "outputs": [
    {
     "name": "stdout",
     "output_type": "stream",
     "text": [
      "12.75\n"
     ]
    }
   ],
   "source": [
    "삼성 = Stock(\"삼성전자\", \"005930\", 15.79, 1.33, 2.83)\n",
    "삼성.set_per(12.75)\n",
    "print(삼성.PER)"
   ]
  },
  {
   "cell_type": "markdown",
   "id": "09341da0",
   "metadata": {},
   "source": [
    "### 270 여러 종목의 객체 생성\n",
    "아래의 표를 참조하여 3종목에 대해 객체를 생성하고 이를 파이썬 리스트에 저장하세요. 파이썬 리스트에 저장된 각 종목에 대해 for 루프를 통해 종목코드와 PER을 출력해보세요.\n",
    "\n",
    "|종목명|\t종목코드\t|PER|\tPBR\t|배당수익률|\n",
    "|---|---|---|---|---|\n",
    "|삼성전자\t|005930|\t15.79\t|1.33|\t2.83|\n",
    "|현대차|\t005380\t|8.70|\t0.35\t|4.27|\n",
    "|LG전자\t|066570|\t317.34|\t0.69|\t1.37|"
   ]
  },
  {
   "cell_type": "code",
   "execution_count": 52,
   "id": "848101ae",
   "metadata": {},
   "outputs": [
    {
     "name": "stdout",
     "output_type": "stream",
     "text": [
      "005930 15.79\n",
      "005380 8.7\n",
      "066570 317.34\n"
     ]
    }
   ],
   "source": [
    "삼성전자 = Stock(\"삼성전자\", \"005930\", 15.79, 1.33, 2.83)\n",
    "현대차 = Stock(\"현대차\", \"005380\", 8.70, 0.35, 4.27)\n",
    "LG전자 = Stock(\"LG전자\", \"066570\", 317.34, 0.69, 1.37)\n",
    "\n",
    "ls = []\n",
    "ls.append(삼성전자)\n",
    "ls.append(현대차)\n",
    "ls.append(LG전자)\n",
    "\n",
    "for i in ls:\n",
    "    print(i.stock_code, i.PER) "
   ]
  }
 ],
 "metadata": {
  "kernelspec": {
   "display_name": "Python 3 (ipykernel)",
   "language": "python",
   "name": "python3"
  },
  "language_info": {
   "codemirror_mode": {
    "name": "ipython",
    "version": 3
   },
   "file_extension": ".py",
   "mimetype": "text/x-python",
   "name": "python",
   "nbconvert_exporter": "python",
   "pygments_lexer": "ipython3",
   "version": "3.8.12"
  }
 },
 "nbformat": 4,
 "nbformat_minor": 5
}
