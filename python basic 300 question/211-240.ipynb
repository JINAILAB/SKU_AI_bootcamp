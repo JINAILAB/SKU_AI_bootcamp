{
 "cells": [
  {
   "cell_type": "markdown",
   "id": "1bca234a",
   "metadata": {},
   "source": [
    "### 211\n",
    "함수의 호출 결과를 예측하라.\n",
    "\n",
    "def 함수(문자열) :       \n",
    " &nbsp;&nbsp;&nbsp;&nbsp;   print(문자열)\n",
    "\n",
    "함수(\"안녕\")        \n",
    "함수(\"Hi\")"
   ]
  },
  {
   "cell_type": "markdown",
   "id": "5571cd57",
   "metadata": {},
   "source": [
    "#### 안녕  \n",
    "#### Hi"
   ]
  },
  {
   "cell_type": "markdown",
   "id": "5adc0410",
   "metadata": {},
   "source": [
    "### 212\n",
    "함수의 호출 결과를 예측하라.\n",
    "\n",
    "def 함수(a, b) :     \n",
    "  &nbsp;&nbsp;&nbsp;&nbsp;  print(a + b)\n",
    "\n",
    "함수(3, 4)            \n",
    "함수(7, 8)"
   ]
  },
  {
   "cell_type": "markdown",
   "id": "68838996",
   "metadata": {},
   "source": [
    "#### 7 &nbsp;    \n",
    "#### 15"
   ]
  },
  {
   "cell_type": "markdown",
   "id": "2e5444c0",
   "metadata": {},
   "source": [
    "### 213\n",
    "아래와 같은 에러가 발생하는 원인을 설명하라.\n",
    "\n",
    "def 함수(문자열) :      \n",
    " &nbsp;&nbsp;&nbsp;&nbsp;   print(문자열)     \n",
    "함수()       \n",
    "TypeError: 함수() missing 1 required positional argument: '문자열'"
   ]
  },
  {
   "cell_type": "markdown",
   "id": "583a109c",
   "metadata": {},
   "source": [
    "#### 문자열이라는 인자가 들어가야 가는데 안 들어감."
   ]
  },
  {
   "cell_type": "markdown",
   "id": "1da3cb16",
   "metadata": {},
   "source": [
    "### 214\n",
    "아래와 같은 에러가 발생하는 원인을 설명하라.\n",
    "\n",
    "def 함수(a, b) :       \n",
    "&nbsp;&nbsp;&nbsp;&nbsp;    print(a + b)\n",
    "\n",
    "함수(\"안녕\", 3)      \n",
    "TypeError: must be str, not int"
   ]
  },
  {
   "cell_type": "markdown",
   "id": "53decb4a",
   "metadata": {},
   "source": [
    "#### int형 자료형과 str형 자료형은 더할 수 없다."
   ]
  },
  {
   "cell_type": "markdown",
   "id": "acdccc4b",
   "metadata": {},
   "source": [
    "### 215\n",
    "하나의 문자를 입력받아 문자열 끝에 \":D\" 스마일 문자열을 이어 붙여 출력하는 print_with_smile 함수를 정의하라."
   ]
  },
  {
   "cell_type": "code",
   "execution_count": 2,
   "id": "b0208077",
   "metadata": {},
   "outputs": [],
   "source": [
    "def print_with_smile(string):\n",
    "    print (string + \":D\")"
   ]
  },
  {
   "cell_type": "markdown",
   "id": "4b8274d1",
   "metadata": {},
   "source": [
    "### 216\n",
    "215에서 정의한 함수를 호출하라. 파라미터는 \"안녕하세요\"로 입력하라."
   ]
  },
  {
   "cell_type": "code",
   "execution_count": 3,
   "id": "d1bff10c",
   "metadata": {},
   "outputs": [
    {
     "name": "stdout",
     "output_type": "stream",
     "text": [
      "안녕하세요:D\n"
     ]
    }
   ],
   "source": [
    "print_with_smile(\"안녕하세요\")"
   ]
  },
  {
   "cell_type": "markdown",
   "id": "ecf71dbe",
   "metadata": {},
   "source": [
    "### 217\n",
    "현재 가격을 입력 받아 상한가 (30%)를 출력하는 print_upper_price 함수를 정의하라."
   ]
  },
  {
   "cell_type": "code",
   "execution_count": 4,
   "id": "5df8a750",
   "metadata": {},
   "outputs": [],
   "source": [
    "def print_upper_price(price):\n",
    "    print(price * 1.3)"
   ]
  },
  {
   "cell_type": "markdown",
   "id": "040badce",
   "metadata": {},
   "source": [
    "### 218\n",
    "두 개의 숫자를 입력받아 두 수의 합을 출력하는 print_sum 함수를 정의하라."
   ]
  },
  {
   "cell_type": "code",
   "execution_count": 5,
   "id": "95f6f5ef",
   "metadata": {},
   "outputs": [],
   "source": [
    "def print_sum(a, b):\n",
    "    print (a + b)"
   ]
  },
  {
   "cell_type": "markdown",
   "id": "301d0f79",
   "metadata": {},
   "source": [
    "### 219\n",
    "두 개의 숫자를 입력받아 합/차/곱/나눗셈을 출력하는 print_arithmetic_operation 함수를 작성하라.\n",
    "\n",
    "print_arithmetic_operation(3, 4)       \n",
    "3 + 4 = 7       \n",
    "3 - 4 = -1   \n",
    "3 * 4 = 12    \n",
    "3 / 4 = 0.75 "
   ]
  },
  {
   "cell_type": "code",
   "execution_count": 6,
   "id": "8231887e",
   "metadata": {},
   "outputs": [
    {
     "name": "stdout",
     "output_type": "stream",
     "text": [
      "3 + 4 = 7\n",
      "3 - 4 = -1\n",
      "3 * 4 = 12\n",
      "3 / 4 = 0.75\n"
     ]
    }
   ],
   "source": [
    "def print_arithmetic_operation(a, b):\n",
    "    print(a, \"+\", b, \"=\", a + b)\n",
    "    print(a, \"-\", b, \"=\", a - b)\n",
    "    print(a, \"*\", b, \"=\", a * b)\n",
    "    print(a, \"/\", b, \"=\", a / b)\n",
    "    \n",
    "print_arithmetic_operation(3, 4)"
   ]
  },
  {
   "cell_type": "markdown",
   "id": "59f2e916",
   "metadata": {},
   "source": [
    "### 220\n",
    "세 개의 숫자를 입력받아 가장 큰수를 출력하는 print_max 함수를 정의하라. 단 if 문을 사용해서 수를 비교하라."
   ]
  },
  {
   "cell_type": "code",
   "execution_count": 8,
   "id": "4febfdcc",
   "metadata": {},
   "outputs": [
    {
     "name": "stdout",
     "output_type": "stream",
     "text": [
      "50\n"
     ]
    }
   ],
   "source": [
    "def print_max(a, b, c):\n",
    "    max_list = [a,b,c]\n",
    "    max = 0\n",
    "    for i in max_list:\n",
    "        if max < i:\n",
    "            max = i\n",
    "    return max\n",
    "print(max(10,30,50))"
   ]
  },
  {
   "cell_type": "markdown",
   "id": "e1368411",
   "metadata": {},
   "source": [
    "### 221\n",
    "입력된 문자열을 역순으로 출력하는 print_reverse 함수를 정의하라.\n",
    "\n",
    "print_reverse(\"python\")   \n",
    "nohtyp   "
   ]
  },
  {
   "cell_type": "code",
   "execution_count": 14,
   "id": "99750a35",
   "metadata": {},
   "outputs": [
    {
     "name": "stdout",
     "output_type": "stream",
     "text": [
      "nohtyp\n"
     ]
    }
   ],
   "source": [
    "def print_reverse(string):\n",
    "    print(string[::-1])\n",
    "print_reverse(\"python\")"
   ]
  },
  {
   "cell_type": "markdown",
   "id": "f4164827",
   "metadata": {},
   "source": [
    "### 222\n",
    "성적 리스트를 입력 받아 평균을 출력하는 print_score 함수를 정의하라.\n",
    "\n",
    "print_score ([1, 2, 3])     \n",
    "2.0"
   ]
  },
  {
   "cell_type": "code",
   "execution_count": 13,
   "id": "8e04c887",
   "metadata": {},
   "outputs": [
    {
     "name": "stdout",
     "output_type": "stream",
     "text": [
      "2.0\n"
     ]
    }
   ],
   "source": [
    "def print_score(score_list):\n",
    "    print(sum(score_list)/len(score_list))\n",
    "print_score([1, 2, 3])"
   ]
  },
  {
   "cell_type": "markdown",
   "id": "32175651",
   "metadata": {},
   "source": [
    "### 223\n",
    "하나의 리스트를 입력받아 짝수만 화면에 출력하는 print_even 함수를 정의하라.\n",
    " \n",
    "print_even ([1, 3, 2, 10, 12, 11, 15])    \n",
    "2     &nbsp;   \n",
    "10     \n",
    "12"
   ]
  },
  {
   "cell_type": "code",
   "execution_count": 12,
   "id": "76553c42",
   "metadata": {},
   "outputs": [
    {
     "name": "stdout",
     "output_type": "stream",
     "text": [
      "2\n",
      "10\n",
      "12\n"
     ]
    }
   ],
   "source": [
    "def print_even(my_list):\n",
    "    for i in my_list:\n",
    "        if i % 2 == 0:\n",
    "            print(i)\n",
    "print_even([1, 3, 2, 10, 12, 11, 15])"
   ]
  },
  {
   "cell_type": "markdown",
   "id": "05ed346f",
   "metadata": {},
   "source": [
    "### 224\n",
    "하나의 딕셔너리를 입력받아 딕셔너리의 key 값을 화면에 출력하는 print_keys 함수를 정의하라.\n",
    "\n",
    "print_keys ({\"이름\":\"김말똥\", \"나이\":30, \"성별\":0})    \n",
    "이름       \n",
    "나이        \n",
    "성별 \n"
   ]
  },
  {
   "cell_type": "code",
   "execution_count": 17,
   "id": "6477dde5",
   "metadata": {},
   "outputs": [
    {
     "name": "stdout",
     "output_type": "stream",
     "text": [
      "이름\n",
      "나이\n",
      "성별\n"
     ]
    }
   ],
   "source": [
    "def print_keys(dic):\n",
    "    for k in dic.keys():\n",
    "        print(k)\n",
    "print_keys ({\"이름\":\"김말똥\", \"나이\":30, \"성별\":0})"
   ]
  },
  {
   "cell_type": "markdown",
   "id": "9973b0d4",
   "metadata": {},
   "source": [
    "### 225\n",
    "my_dict에는 날짜를 키값으로 OHLC가 리스트로 저장돼 있다.\n",
    "\n",
    "my_dict = {\"10/26\" : [100, 130, 100, 100],     \n",
    "           \"10/27\" : [10, 12, 10, 11]}        \n",
    "my_dict와 날짜 키값을 입력받아 OHLC 리스트를 출력하는 print_value_by_key 함수를 정의하라.       \n",
    "\n",
    "print_value_by_key  (my_dict, \"10/26\")        \n",
    "[100, 130, 100, 100]"
   ]
  },
  {
   "cell_type": "code",
   "execution_count": 19,
   "id": "2e84a944",
   "metadata": {},
   "outputs": [
    {
     "name": "stdout",
     "output_type": "stream",
     "text": [
      "[100, 130, 100, 100]\n"
     ]
    }
   ],
   "source": [
    "def print_value_by_key(dic, key):\n",
    "    print(dic[key])\n",
    "my_dict = {\"10/26\" : [100, 130, 100, 100], \"10/27\" : [10, 12, 10, 11]}\n",
    "print_value_by_key (my_dict, \"10/26\")"
   ]
  },
  {
   "cell_type": "markdown",
   "id": "1550ba3a",
   "metadata": {},
   "source": [
    "### 226 \n",
    "입력 문자열을 한 줄에 다섯글자씩 출력하는 print_5xn(string) 함수를 작성하라.     \n",
    "\n",
    "print_5xn(\"아이엠어보이유알어걸\")     \n",
    "아이엠어보      \n",
    "이유알어걸"
   ]
  },
  {
   "cell_type": "code",
   "execution_count": 24,
   "id": "a362d05c",
   "metadata": {},
   "outputs": [
    {
     "name": "stdout",
     "output_type": "stream",
     "text": [
      "아이엠어보\n",
      "이유알어걸\n"
     ]
    }
   ],
   "source": [
    "def print_5xn(s):\n",
    "    for i in range(len(s)//5):\n",
    "        print(s[i*5:5*i+5])\n",
    "        \n",
    "print_5xn(\"아이엠어보이유알어걸\") "
   ]
  },
  {
   "cell_type": "markdown",
   "id": "6f9c0410",
   "metadata": {},
   "source": [
    "### 227\n",
    "문자열과 한줄에 출력될 글자 수를 입력을 받아 한 줄에 입력된 글자 수만큼 출력하는 print_mxn(string) 함수를 작성하라.\n",
    "\n",
    "printmxn(\"아이엠어보이유알어걸\", 3)      \n",
    "아이엠      \n",
    "어보이      \n",
    "유알어       \n",
    "걸"
   ]
  },
  {
   "cell_type": "code",
   "execution_count": 28,
   "id": "77d38fa7",
   "metadata": {},
   "outputs": [
    {
     "name": "stdout",
     "output_type": "stream",
     "text": [
      "아이엠\n",
      "어보이\n",
      "유알어\n",
      "걸\n"
     ]
    }
   ],
   "source": [
    "def printmxn(s, n):\n",
    "    for i in range(len(s)//n):\n",
    "        print(s[i*n: i*n+n])\n",
    "    print(s[::-1][len(s)%n-1])\n",
    "printmxn(\"아이엠어보이유알어걸\", 3)"
   ]
  },
  {
   "cell_type": "markdown",
   "id": "6993a131",
   "metadata": {},
   "source": [
    "### 228\n",
    "연봉을 입력받아 월급을 계산하는 calc_monthly_salary(annual_salary) 함수를 정의하라. 회사는 연봉을 12개월로 나누어 분할 지급하며, 이 때 1원 미만은 버림한다.\n",
    "       \n",
    "calc_monthly_salary(12000000)   \n",
    "1000000"
   ]
  },
  {
   "cell_type": "code",
   "execution_count": 32,
   "id": "b08c7ed9",
   "metadata": {},
   "outputs": [
    {
     "name": "stdout",
     "output_type": "stream",
     "text": [
      "1000000\n"
     ]
    }
   ],
   "source": [
    "def calc_monthly_salary(annual_salary):\n",
    "    return int(annual_salary/12)\n",
    "print(calc_monthly_salary(12000000))"
   ]
  },
  {
   "cell_type": "markdown",
   "id": "dcca14e8",
   "metadata": {},
   "source": [
    "### 229\n",
    "아래 코드의 실행 결과를 예측하라.\n",
    "\n",
    "def my_print (a, b) :      \n",
    "    &nbsp;&nbsp;&nbsp;&nbsp;  print(\"왼쪽:\", a)       \n",
    "  &nbsp;&nbsp;&nbsp;&nbsp;    print(\"오른쪽:\", b)          \n",
    " \n",
    "my_print(a=100, b=200)"
   ]
  },
  {
   "cell_type": "markdown",
   "id": "886689ed",
   "metadata": {},
   "source": [
    "#### 왼쪽: 100    \n",
    "#### 오른쪽: 200"
   ]
  },
  {
   "cell_type": "markdown",
   "id": "859bb19c",
   "metadata": {},
   "source": [
    "### 230\n",
    "아래 코드의 실행 결과를 예측하라.\n",
    "\n",
    "def my_print (a, b) :      \n",
    "    &nbsp;&nbsp;&nbsp;&nbsp;  print(\"왼쪽:\", a)         \n",
    " &nbsp;&nbsp;&nbsp;&nbsp;     print(\"오른쪽:\", b)       \n",
    "\n",
    "my_print(b=100, a=200)\n"
   ]
  },
  {
   "cell_type": "markdown",
   "id": "29a747be",
   "metadata": {},
   "source": [
    "#### 왼쪽: 200\n",
    "#### 오른쪽: 100"
   ]
  },
  {
   "cell_type": "markdown",
   "id": "45a45ddf",
   "metadata": {},
   "source": [
    "### 231\n",
    "아래 코드를 실행한 결과를 예상하라.\n",
    "\n",
    "def n_plus_1 (n) :       \n",
    "      &nbsp;&nbsp;&nbsp;&nbsp;  result = n + 1     \n",
    "  \n",
    "n_plus_1(3)      \n",
    "print (result)"
   ]
  },
  {
   "cell_type": "markdown",
   "id": "34c39d09",
   "metadata": {},
   "source": [
    "#### error 발생"
   ]
  },
  {
   "cell_type": "markdown",
   "id": "544a5c18",
   "metadata": {},
   "source": [
    "### 232\n",
    "문자열 하나를 입력받아 인터넷 주소를 반환하는 make_url 함수를 정의하라.\n",
    "\n",
    "make_url(\"naver\")      \n",
    "www.naver.com    \n"
   ]
  },
  {
   "cell_type": "code",
   "execution_count": 35,
   "id": "4152ae65",
   "metadata": {},
   "outputs": [
    {
     "data": {
      "text/plain": [
       "'www.naver.com'"
      ]
     },
     "execution_count": 35,
     "metadata": {},
     "output_type": "execute_result"
    }
   ],
   "source": [
    "def make_url(s):\n",
    "    return \"www.\"+s+\".com\"\n",
    "make_url(\"naver\")"
   ]
  },
  {
   "cell_type": "markdown",
   "id": "53e8c5ad",
   "metadata": {},
   "source": [
    "### 233\n",
    "문자열을 입력받아 각 문자들로 구성된 리스트로 반환하는 make_list 함수를 정의하라.\n",
    "\n",
    "make_list(\"abcd\")       \n",
    "['a', 'b', 'c', 'd']       "
   ]
  },
  {
   "cell_type": "code",
   "execution_count": 37,
   "id": "b7c0be5f",
   "metadata": {},
   "outputs": [
    {
     "data": {
      "text/plain": [
       "['a', 'b', 'c', 'd']"
      ]
     },
     "execution_count": 37,
     "metadata": {},
     "output_type": "execute_result"
    }
   ],
   "source": [
    "def make_list(string):\n",
    "    return [i for i in string]\n",
    "make_list(\"abcd\")"
   ]
  },
  {
   "cell_type": "markdown",
   "id": "758fd0b3",
   "metadata": {},
   "source": [
    "### 234\n",
    "숫자로 구성된 하나의 리스트를 입력받아, 짝수들을 추출하여 리스트로 반환하는 pickup_even 함수를 구현하라.\n",
    "\n",
    "pickup_even([3, 4, 5, 6, 7, 8])      \n",
    "[4, 6, 8]      "
   ]
  },
  {
   "cell_type": "code",
   "execution_count": 47,
   "id": "7eb5e612",
   "metadata": {},
   "outputs": [
    {
     "data": {
      "text/plain": [
       "[4, 6, 8]"
      ]
     },
     "execution_count": 47,
     "metadata": {},
     "output_type": "execute_result"
    }
   ],
   "source": [
    "def pickup_even(items):\n",
    "    return [i for i in items if i%2 ==0]\n",
    "pickup_even([3, 4, 5, 6, 7, 8])"
   ]
  },
  {
   "cell_type": "markdown",
   "id": "8689fdc8",
   "metadata": {},
   "source": [
    "### 235\n",
    "콤마가 포함된 문자열 숫자를 입력받아 정수로 변환하는 convert_int 함수를 정의하라.     \n",
    "\n",
    "convert_int(\"1,234,567\")    \n",
    "1234567    "
   ]
  },
  {
   "cell_type": "code",
   "execution_count": 49,
   "id": "5183fb9d",
   "metadata": {},
   "outputs": [
    {
     "data": {
      "text/plain": [
       "1234567"
      ]
     },
     "execution_count": 49,
     "metadata": {},
     "output_type": "execute_result"
    }
   ],
   "source": [
    "def convert_int(string):\n",
    "    return int(''.join(string.split(',')))\n",
    "convert_int(\"1,234,567\")"
   ]
  },
  {
   "cell_type": "markdown",
   "id": "4d2a5cde",
   "metadata": {},
   "source": [
    "### 236\n",
    "아래 코드의 실행 결과를 예측하라.\n",
    "\n",
    "def 함수(num) :     \n",
    "      &nbsp;&nbsp;&nbsp;&nbsp;  return num + 4   \n",
    "\n",
    "a = 함수(10)       \n",
    "b = 함수(a)      \n",
    "c = 함수(b)   \n",
    "print(c)"
   ]
  },
  {
   "cell_type": "code",
   "execution_count": 50,
   "id": "12449a6f",
   "metadata": {},
   "outputs": [
    {
     "data": {
      "text/plain": [
       "22"
      ]
     },
     "execution_count": 50,
     "metadata": {},
     "output_type": "execute_result"
    }
   ],
   "source": [
    "22"
   ]
  },
  {
   "cell_type": "markdown",
   "id": "43a0bf59",
   "metadata": {},
   "source": [
    "### 237\n",
    "아래 코드의 실행 결과를 예측하라.\n",
    "\n",
    "def 함수(num) :   \n",
    "       &nbsp;&nbsp;&nbsp;&nbsp; return num + 4     \n",
    "\n",
    "c = 함수(함수(함수(10)))       \n",
    "print(c)   "
   ]
  },
  {
   "cell_type": "code",
   "execution_count": 51,
   "id": "3a95526f",
   "metadata": {},
   "outputs": [
    {
     "data": {
      "text/plain": [
       "22"
      ]
     },
     "execution_count": 51,
     "metadata": {},
     "output_type": "execute_result"
    }
   ],
   "source": [
    "22"
   ]
  },
  {
   "cell_type": "markdown",
   "id": "cf7ffa63",
   "metadata": {},
   "source": [
    "### 238\n",
    "아래 코드의 실행 결과를 예측하라.\n",
    "\n",
    "def 함수1(num) :    \n",
    "      &nbsp;&nbsp;&nbsp;&nbsp;  return num + 4    \n",
    "\n",
    "def 함수2(num) :   \n",
    "       &nbsp;&nbsp;&nbsp;&nbsp; return num * 10     \n",
    "\n",
    "a = 함수1(10)     \n",
    "c = 함수2(a)     \n",
    "print(c)\n"
   ]
  },
  {
   "cell_type": "code",
   "execution_count": 52,
   "id": "0eebd5eb",
   "metadata": {},
   "outputs": [
    {
     "data": {
      "text/plain": [
       "140"
      ]
     },
     "execution_count": 52,
     "metadata": {},
     "output_type": "execute_result"
    }
   ],
   "source": [
    "140"
   ]
  },
  {
   "cell_type": "markdown",
   "id": "65578b0c",
   "metadata": {},
   "source": [
    "### 239\n",
    "아래 코드의 실행 결과를 예측하라.\n",
    "\n",
    "def 함수1(num) :    \n",
    "       &nbsp;&nbsp;&nbsp;&nbsp; return num + 4    \n",
    "\n",
    "def 함수2(num) :   \n",
    "      &nbsp;&nbsp;&nbsp;&nbsp;  num = num + 2     \n",
    "      &nbsp;&nbsp;&nbsp;&nbsp;  return 함수1(num)   \n",
    " \n",
    "c = 함수2(10)    \n",
    "print(c)"
   ]
  },
  {
   "cell_type": "code",
   "execution_count": null,
   "id": "f6bfe605",
   "metadata": {},
   "outputs": [],
   "source": [
    "16"
   ]
  },
  {
   "cell_type": "markdown",
   "id": "cf626994",
   "metadata": {},
   "source": [
    "### 240\n",
    "아래 코드의 실행 결과를 예측하라.\n",
    " \n",
    "def 함수0(num) :    \n",
    "     &nbsp;&nbsp;&nbsp;&nbsp;   return num * 2  \n",
    "\n",
    "def 함수1(num) :   \n",
    "      &nbsp;&nbsp;&nbsp;&nbsp;  return 함수0(num + 2)\n",
    "\n",
    "def 함수2(num) :   \n",
    "     &nbsp;&nbsp;&nbsp;&nbsp;   num = num + 10     \n",
    "      &nbsp;&nbsp;&nbsp;&nbsp;  return 함수1(num)\n",
    "\n",
    "c = 함수2(2)   \n",
    "print(c)"
   ]
  },
  {
   "cell_type": "code",
   "execution_count": 53,
   "id": "9de78c32",
   "metadata": {},
   "outputs": [
    {
     "data": {
      "text/plain": [
       "28"
      ]
     },
     "execution_count": 53,
     "metadata": {},
     "output_type": "execute_result"
    }
   ],
   "source": [
    "28"
   ]
  }
 ],
 "metadata": {
  "kernelspec": {
   "display_name": "Python 3 (ipykernel)",
   "language": "python",
   "name": "python3"
  },
  "language_info": {
   "codemirror_mode": {
    "name": "ipython",
    "version": 3
   },
   "file_extension": ".py",
   "mimetype": "text/x-python",
   "name": "python",
   "nbconvert_exporter": "python",
   "pygments_lexer": "ipython3",
   "version": "3.8.12"
  }
 },
 "nbformat": 4,
 "nbformat_minor": 5
}
