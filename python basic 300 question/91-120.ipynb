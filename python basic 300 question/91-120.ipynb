{
 "cells": [
  {
   "cell_type": "markdown",
   "id": "5238e72c",
   "metadata": {},
   "source": [
    "### 091 딕셔너리 생성\n",
    "아래의 표에서, 아이스크림 이름을 키값으로, (가격, 재고) 리스트를 딕셔너리의 값으로 저장하라. 딕셔너리의 이름은 inventory로 한다.  \n",
    "\n",
    "|이름  |가격   | 재고  |\n",
    "|---|---|---|\n",
    "|  메로나 |300   | 20  |\n",
    "|  비비빅 |  400 |3   |\n",
    "|   죠스바|  250 |100   |"
   ]
  },
  {
   "cell_type": "code",
   "execution_count": 27,
   "id": "961230b6",
   "metadata": {},
   "outputs": [
    {
     "name": "stdout",
     "output_type": "stream",
     "text": [
      "{'메로나': (300, 20), '비비빅': (400, 3), '죠스바': (250, 100)}\n"
     ]
    }
   ],
   "source": [
    "이름 = ['메로나', '비비빅', '죠스바']\n",
    "가격 = [300, 400, 250]\n",
    "재고 = 20, 3, 100\n",
    "inventory = dict(i for i in zip(이름, zip(가격, 재고)))\n",
    "print(inventory)"
   ]
  },
  {
   "cell_type": "markdown",
   "id": "05a01075",
   "metadata": {},
   "source": [
    "#### 오른쪽을 튜플로 return함. then how to?"
   ]
  },
  {
   "cell_type": "code",
   "execution_count": 34,
   "id": "ceec910c",
   "metadata": {},
   "outputs": [
    {
     "ename": "SyntaxError",
     "evalue": "Generator expression must be parenthesized (3486320100.py, line 4)",
     "output_type": "error",
     "traceback": [
      "\u001b[0;36m  File \u001b[0;32m\"/var/folders/__/r8r58jz17gj32tjwycl0m0hr0000gn/T/ipykernel_42706/3486320100.py\"\u001b[0;36m, line \u001b[0;32m4\u001b[0m\n\u001b[0;31m    inventory = dict(i, list(j) for i,j in zip(이름, zip(가격, 재고)))\u001b[0m\n\u001b[0m                        ^\u001b[0m\n\u001b[0;31mSyntaxError\u001b[0m\u001b[0;31m:\u001b[0m Generator expression must be parenthesized\n"
     ]
    }
   ],
   "source": [
    "이름 = ['메로나', '비비빅', '죠스바']\n",
    "가격 = [300, 400, 250]\n",
    "재고 = 20, 3, 100\n",
    "inventory = dict(i, list(j) for i,j in zip(이름, zip(가격, 재고)))\n",
    "print(inventory)"
   ]
  },
  {
   "cell_type": "code",
   "execution_count": 36,
   "id": "d7d2b02e",
   "metadata": {},
   "outputs": [
    {
     "ename": "SyntaxError",
     "evalue": "Generator expression must be parenthesized (1275598590.py, line 4)",
     "output_type": "error",
     "traceback": [
      "\u001b[0;36m  File \u001b[0;32m\"/var/folders/__/r8r58jz17gj32tjwycl0m0hr0000gn/T/ipykernel_42706/1275598590.py\"\u001b[0;36m, line \u001b[0;32m4\u001b[0m\n\u001b[0;31m    inventory = dict(i, j for i in zip(이름, zip(가격, 재고)))\u001b[0m\n\u001b[0m                        ^\u001b[0m\n\u001b[0;31mSyntaxError\u001b[0m\u001b[0;31m:\u001b[0m Generator expression must be parenthesized\n"
     ]
    }
   ],
   "source": [
    "이름 = ['메로나', '비비빅', '죠스바']\n",
    "가격 = [300, 400, 250]\n",
    "재고 = 20, 3, 100\n",
    "inventory = dict(i, j for i in zip(이름, zip(가격, 재고)))\n",
    "print(inventory)"
   ]
  },
  {
   "cell_type": "markdown",
   "id": "55bf53bb",
   "metadata": {},
   "source": [
    "#### generator expression은 반드시 괄호에 묶여야 된다고 한다. paren: 괄혼라는 뜻\n"
   ]
  },
  {
   "cell_type": "code",
   "execution_count": 53,
   "id": "fca529aa",
   "metadata": {},
   "outputs": [
    {
     "name": "stdout",
     "output_type": "stream",
     "text": [
      "[('메로나', (300, 20)), ('비비빅', (400, 3)), ('죠스바', (250, 100))]\n"
     ]
    }
   ],
   "source": [
    "이름 = ['메로나', '비비빅', '죠스바']\n",
    "가격 = [300, 400, 250]\n",
    "재고 = 20, 3, 100\n",
    "inventory = [i for i in zip(이름, list(zip(가격, 재고)))]\n",
    "print(inventory)"
   ]
  },
  {
   "cell_type": "code",
   "execution_count": 57,
   "id": "9b7c2a9d",
   "metadata": {},
   "outputs": [
    {
     "name": "stdout",
     "output_type": "stream",
     "text": [
      "메로나 (300, 20)\n",
      "비비빅 (400, 3)\n",
      "죠스바 (250, 100)\n"
     ]
    }
   ],
   "source": [
    "for i,j in zip(이름, list(zip(가격, 재고))):\n",
    "    print(i, j)"
   ]
  },
  {
   "cell_type": "code",
   "execution_count": 66,
   "id": "cfdb9c9a",
   "metadata": {},
   "outputs": [
    {
     "name": "stdout",
     "output_type": "stream",
     "text": [
      "{'메로나': [300, 20], '비비빅': [400, 3], '죠스바': [250, 100]}\n"
     ]
    }
   ],
   "source": [
    "이름 = ['메로나', '비비빅', '죠스바']\n",
    "가격 = [300, 400, 250]\n",
    "재고 = 20, 3, 100\n",
    "inventory = dict((i,list(j)) for i,j in zip(이름, list(zip(가격, 재고))))\n",
    "print(inventory)"
   ]
  },
  {
   "cell_type": "markdown",
   "id": "855a742b",
   "metadata": {},
   "source": [
    "#### python comprehension을 사용할 때 변수를 앞에 i, j를 해주면 i 쉬고 j에 대해서만 comprehenstion을 진행해준다. 그래서 j에 괄호를 쳐주라는 에러가 나온듯하다."
   ]
  },
  {
   "cell_type": "markdown",
   "id": "47141f43",
   "metadata": {},
   "source": [
    "### 092 딕셔너리 인덱싱\n",
    "inventory 딕셔너리에서 메로나의 가격을 화면에 출력하라.\n",
    "\n",
    "inventory = {\"메로나\": [300, 20],\n",
    "              \"비비빅\": [400, 3],\n",
    "              \"죠스바\": [250, 100]}  \n",
    "실행 예시:\n",
    "300 원"
   ]
  },
  {
   "cell_type": "code",
   "execution_count": 69,
   "id": "78cf99d2",
   "metadata": {},
   "outputs": [
    {
     "name": "stdout",
     "output_type": "stream",
     "text": [
      "300원\n"
     ]
    }
   ],
   "source": [
    "inventory = {\"메로나\": [300, 20], \"비비빅\": [400, 3], \"죠스바\": [250, 100]}\n",
    "print(inventory['메로나'][0], '원', sep='')"
   ]
  },
  {
   "cell_type": "markdown",
   "id": "1f82a639",
   "metadata": {},
   "source": [
    "### 093 딕셔너리 인덱싱\n",
    "inventory 딕셔너리에서 메로나의 재고를 화면에 출력하라.\n",
    "\n",
    "inventory = {\"메로나\": [300, 20],\n",
    "              \"비비빅\": [400, 3],\n",
    "              \"죠스바\": [250, 100]}  \n",
    "실행 예시:\n",
    "20 개"
   ]
  },
  {
   "cell_type": "code",
   "execution_count": 70,
   "id": "308d04c0",
   "metadata": {},
   "outputs": [
    {
     "name": "stdout",
     "output_type": "stream",
     "text": [
      "20 개\n"
     ]
    }
   ],
   "source": [
    "inventory = {\"메로나\": [300, 20], \"비비빅\": [400, 3], \"죠스바\": [250, 100]}\n",
    "print(inventory['메로나'][1], '개')"
   ]
  },
  {
   "cell_type": "markdown",
   "id": "057b095c",
   "metadata": {},
   "source": [
    "### 094 딕셔너리 추가\n",
    "inventory 딕셔너리에 아래 데이터를 추가하라.\n",
    "\n",
    "inventory = {\"메로나\": [300, 20],\n",
    "              \"비비빅\": [400, 3],\n",
    "              \"죠스바\": [250, 100]}  \n",
    "\n",
    "|이름|가격|재고|\n",
    "|---|---|---|\n",
    "|월드콘|500|7|\n",
    "              \n",
    "              \n",
    "\n",
    "실행 예시:  \n",
    "print(inventory)  \n",
    "{'메로나': [300, 20], '비비빅': [400, 3], '죠스바': [250, 100], '월드콘': [500, 7]}"
   ]
  },
  {
   "cell_type": "code",
   "execution_count": 81,
   "id": "3d460135",
   "metadata": {},
   "outputs": [
    {
     "name": "stdout",
     "output_type": "stream",
     "text": [
      "{'메로나': [300, 20], '비비빅': [400, 3], '죠스바': [250, 100], '월드콘': [500, 7]}\n"
     ]
    }
   ],
   "source": [
    "inventory = {\"메로나\": [300, 20], \"비비빅\": [400, 3], \"죠스바\": [250, 100]}\n",
    "월드콘 = {'월드콘': [500,7]}\n",
    "inventory.update(월드콘)\n",
    "print(inventory)"
   ]
  },
  {
   "cell_type": "code",
   "execution_count": 82,
   "id": "92624ef5",
   "metadata": {},
   "outputs": [
    {
     "name": "stdout",
     "output_type": "stream",
     "text": [
      "{'메로나': [300, 20], '비비빅': [400, 3], '죠스바': [250, 100], '월드콘': [500, 7]}\n"
     ]
    }
   ],
   "source": [
    "inventory = {\"메로나\": [300, 20], \"비비빅\": [400, 3], \"죠스바\": [250, 100]}\n",
    "월드콘 = {'월드콘': [500,7]}\n",
    "inventory.update(**월드콘)\n",
    "print(inventory)"
   ]
  },
  {
   "cell_type": "markdown",
   "id": "2dd84d4b",
   "metadata": {},
   "source": [
    "### 095 딕셔너리 keys() 메서드\n",
    "다음의 딕셔너리로부터 key 값으로만 구성된 리스트를 생성하라.\n",
    "\n",
    "icecream = {'탱크보이': 1200, '폴라포': 1200, '빵빠레': 1800, '월드콘': 1500, '메로나': 1000}"
   ]
  },
  {
   "cell_type": "code",
   "execution_count": 76,
   "id": "2d434a9e",
   "metadata": {},
   "outputs": [
    {
     "name": "stdout",
     "output_type": "stream",
     "text": [
      "['탱크보이', '폴라포', '빵빠레', '월드콘', '메로나']\n"
     ]
    }
   ],
   "source": [
    "icecream = {'탱크보이': 1200, '폴라포': 1200, '빵빠레': 1800, '월드콘': 1500, '메로나': 1000}\n",
    "ice_keys = list(icecream.keys())\n",
    "print(ice_keys)"
   ]
  },
  {
   "cell_type": "markdown",
   "id": "892d0356",
   "metadata": {},
   "source": [
    "### 096 딕셔너리 values() 메서드\n",
    "다음의 딕셔너리에서 values 값으로만 구성된 리스트를 생성하라.\n",
    "\n",
    "icecream = {'탱크보이': 1200, '폴라포': 1200, '빵빠레': 1800, '월드콘': 1500, '메로나': 1000}"
   ]
  },
  {
   "cell_type": "code",
   "execution_count": 77,
   "id": "934cad01",
   "metadata": {},
   "outputs": [
    {
     "name": "stdout",
     "output_type": "stream",
     "text": [
      "[1200, 1200, 1800, 1500, 1000]\n"
     ]
    }
   ],
   "source": [
    "icecream = {'탱크보이': 1200, '폴라포': 1200, '빵빠레': 1800, '월드콘': 1500, '메로나': 1000}\n",
    "print(list(icecream.values()))"
   ]
  },
  {
   "cell_type": "markdown",
   "id": "4d143a9c",
   "metadata": {},
   "source": [
    "### 097 딕셔너리 values() 메서드\n",
    "icecream 딕셔너리에서 아이스크림 판매 금액의 총합을 출력하라.\n",
    "\n",
    "icecream = {'탱크보이': 1200, '폴라포': 1200, '빵빠레': 1800, '월드콘': 1500, '메로나': 1000}  \n",
    "출력 예시:  \n",
    "6700"
   ]
  },
  {
   "cell_type": "code",
   "execution_count": 79,
   "id": "f6b86724",
   "metadata": {},
   "outputs": [
    {
     "name": "stdout",
     "output_type": "stream",
     "text": [
      "6700\n"
     ]
    }
   ],
   "source": [
    "icecream = {'탱크보이': 1200, '폴라포': 1200, '빵빠레': 1800, '월드콘': 1500, '메로나': 1000}\n",
    "print(sum(list(icecream.values())))"
   ]
  },
  {
   "cell_type": "markdown",
   "id": "6729c252",
   "metadata": {},
   "source": [
    "### 098 딕셔너리 update 메서드\n",
    "아래의 new_product 딕셔너리를 다음 icecream 딕셔너리에 추가하라.\n",
    "  \n",
    "icecream = {'탱크보이': 1200, '폴라포': 1200, '빵빠레': 1800, '월드콘': 1500, '메로나': 1000}  \n",
    "new_product = {'팥빙수':2700, '아맛나':1000}  \n",
    "실행 예시:   \n",
    "print(icecream) \n",
    "{'탱크보이': 1200,  '폴라포': 1200,  '빵빠레': 1800,  '월드콘': 1500,  '메로나': 1000,  '팥빙수':2700, '아맛나':1000}"
   ]
  },
  {
   "cell_type": "code",
   "execution_count": 84,
   "id": "3ddfcbfc",
   "metadata": {},
   "outputs": [
    {
     "name": "stdout",
     "output_type": "stream",
     "text": [
      "{'탱크보이': 1200, '폴라포': 1200, '빵빠레': 1800, '월드콘': 1500, '메로나': 1000, '팥빙수': 2700, '아맛나': 1000}\n"
     ]
    }
   ],
   "source": [
    "icecream = {'탱크보이': 1200, '폴라포': 1200, '빵빠레': 1800, '월드콘': 1500, '메로나': 1000}  \n",
    "new_product = {'팥빙수':2700, '아맛나':1000}  \n",
    "icecream.update(new_product)\n",
    "print(icecream)"
   ]
  },
  {
   "cell_type": "markdown",
   "id": "cc030668",
   "metadata": {},
   "source": [
    "### 099 zip과 dict\n",
    "아래 두 개의 튜플을 하나의 딕셔너리로 변환하라. keys를 키로, vals를 값으로 result 이름의 딕셔너리로 저장한다.\n",
    "\n",
    "keys = (\"apple\", \"pear\", \"peach\")  \n",
    "vals = (300, 250, 400) \n",
    "\n",
    "실행 예시:   \n",
    "print(result)  \n",
    "{'apple': 300, 'pear': 250, 'peach': 400} "
   ]
  },
  {
   "cell_type": "code",
   "execution_count": 86,
   "id": "a8029a2a",
   "metadata": {},
   "outputs": [
    {
     "name": "stdout",
     "output_type": "stream",
     "text": [
      "{'apple': 300, 'pear': 250, 'peach': 400}\n"
     ]
    }
   ],
   "source": [
    "keys = (\"apple\", \"pear\", \"peach\")\n",
    "vals = (300, 250, 400)\n",
    "result = {i[0]:i[1] for i in zip(keys, vals)}\n",
    "print(result)"
   ]
  },
  {
   "cell_type": "markdown",
   "id": "298c918c",
   "metadata": {},
   "source": [
    "### 100 zip과 dict\n",
    "date와 close_price 두 개의 리스트를 close_table 이름의 딕셔너리로 생성하라.\n",
    "\n",
    "date = ['09/05', '09/06', '09/07', '09/08', '09/09']  \n",
    "close_price = [10500, 10300, 10100, 10800, 11000]  \n",
    "실행 예시:  \n",
    "print(close_table)  \n",
    "{'09/05': 10500, '09/06': 10300, '09/07': 10100, '09/08': 10800, '09/09': 11000}"
   ]
  },
  {
   "cell_type": "code",
   "execution_count": 92,
   "id": "65166c59",
   "metadata": {},
   "outputs": [
    {
     "name": "stdout",
     "output_type": "stream",
     "text": [
      "{'09/05': 10500, '09/06': 10300, '09/07': 10100, '09/08': 10800, '09/09': 11000}\n"
     ]
    }
   ],
   "source": [
    "date = ['09/05', '09/06', '09/07', '09/08', '09/09']\n",
    "close_price = [10500, 10300, 10100, 10800, 11000]\n",
    "result = dict((i[0],i[1]) for i in zip(date, close_price))\n",
    "print(result)"
   ]
  },
  {
   "cell_type": "markdown",
   "id": "41a603e2",
   "metadata": {},
   "source": [
    "### 101\n",
    "파이썬에서 True 혹은 False를 갖는 데이터 타입은 무엇인가?"
   ]
  },
  {
   "cell_type": "markdown",
   "id": "5b9391ae",
   "metadata": {},
   "source": [
    "bool"
   ]
  },
  {
   "cell_type": "markdown",
   "id": "e7869fd4",
   "metadata": {},
   "source": [
    "### 102\n",
    "아래 코드의 출력 결과를 예상하라  \n",
    "print(3 == 5)"
   ]
  },
  {
   "cell_type": "markdown",
   "id": "5243797d",
   "metadata": {},
   "source": [
    "False"
   ]
  },
  {
   "cell_type": "markdown",
   "id": "cd5e6cc7",
   "metadata": {},
   "source": [
    "### 103\n",
    "아래 코드의 출력 결과를 예상하라  \n",
    "\n",
    "print(3 < 5)\n"
   ]
  },
  {
   "cell_type": "markdown",
   "id": "69ea03d3",
   "metadata": {},
   "source": [
    "True"
   ]
  },
  {
   "cell_type": "markdown",
   "id": "8b705b28",
   "metadata": {},
   "source": [
    "### 104\n",
    "아래 코드의 결과를 예상하라.\n",
    "\n",
    "x = 4  \n",
    "print(1 < x < 5)\n"
   ]
  },
  {
   "cell_type": "markdown",
   "id": "21897ac1",
   "metadata": {},
   "source": [
    "True"
   ]
  },
  {
   "cell_type": "markdown",
   "id": "f38b42e6",
   "metadata": {},
   "source": [
    "### 105\n",
    "아래 코드의 결과를 예상하라.\n",
    "\n",
    "print ((3 == 3) and (4 != 3))"
   ]
  },
  {
   "cell_type": "markdown",
   "id": "49b47afd",
   "metadata": {},
   "source": [
    "True"
   ]
  },
  {
   "cell_type": "markdown",
   "id": "f04928c7",
   "metadata": {},
   "source": [
    "### 106\n",
    "아래 코드에서 에러가 발생하는 원인에 대해 설명하라.\n",
    "\n",
    "print(3 => 4)"
   ]
  },
  {
   "cell_type": "markdown",
   "id": "29c6a9f7",
   "metadata": {},
   "source": [
    "\\>= 가 맞다."
   ]
  },
  {
   "cell_type": "markdown",
   "id": "13dc5981",
   "metadata": {},
   "source": [
    "### 107\n",
    "아래 코드의 출력 결과를 예상하라\n",
    "\n",
    "if 4 < 3:  \n",
    "&nbsp;&nbsp;&nbsp;&nbsp;print(\"Hello World\")"
   ]
  },
  {
   "cell_type": "markdown",
   "id": "cf3de1a0",
   "metadata": {},
   "source": [
    "출력 안 됨"
   ]
  },
  {
   "cell_type": "markdown",
   "id": "6dbe2eca",
   "metadata": {},
   "source": [
    "### 108\n",
    "아래 코드의 출력 결과를 예상하라\n",
    "\n",
    "if 4 < 3:  \n",
    "&nbsp;&nbsp;&nbsp;&nbsp;    print(\"Hello World.\")  \n",
    "else:  \n",
    "&nbsp;&nbsp;&nbsp;&nbsp;    print(\"Hi, there.\") "
   ]
  },
  {
   "cell_type": "markdown",
   "id": "a91e872d",
   "metadata": {},
   "source": [
    "Hi, there"
   ]
  },
  {
   "cell_type": "markdown",
   "id": "f7684c89",
   "metadata": {},
   "source": [
    "### 109\n",
    "아래 코드의 출력 결과를 예상하라\n",
    "\n",
    "if True:  \n",
    "&nbsp;&nbsp;&nbsp;&nbsp;    print (\"1\")  \n",
    "&nbsp;&nbsp;&nbsp;&nbsp;    print (\"2\")  \n",
    "else:  \n",
    "&nbsp;&nbsp;&nbsp;&nbsp;    print(\"3\")  \n",
    "print(\"4\")  "
   ]
  },
  {
   "cell_type": "markdown",
   "id": "759484f6",
   "metadata": {},
   "source": [
    "1 &nbsp;   \n",
    "2  &nbsp;  \n",
    "4"
   ]
  },
  {
   "cell_type": "markdown",
   "id": "1ce75b5c",
   "metadata": {},
   "source": [
    "### 110\n",
    "아래 코드의 출력 결과를 예상하라\n",
    "\n",
    "if True:  \n",
    "&nbsp;&nbsp;&nbsp;&nbsp;    if False:  \n",
    "&nbsp;&nbsp;&nbsp;&nbsp;&nbsp;&nbsp;&nbsp;&nbsp;        print(\"1\")  \n",
    "&nbsp;&nbsp;&nbsp;&nbsp;&nbsp;&nbsp;&nbsp;&nbsp;        print(\"2\")  \n",
    "&nbsp;&nbsp;&nbsp;&nbsp;    else:  \n",
    "&nbsp;&nbsp;&nbsp;&nbsp;&nbsp;&nbsp;&nbsp;&nbsp;        print(\"3\")  \n",
    "else:  \n",
    "&nbsp;&nbsp;&nbsp;&nbsp;&nbsp;&nbsp;&nbsp;&nbsp;    print(\"4\")  \n",
    "print(\"5\")"
   ]
  },
  {
   "cell_type": "markdown",
   "id": "f2851937",
   "metadata": {},
   "source": [
    "3  &nbsp;  \n",
    "5"
   ]
  },
  {
   "cell_type": "markdown",
   "id": "3f13bfee",
   "metadata": {},
   "source": [
    "### 111\n",
    "사용자로부터 입력받은 문자열을 두 번 출력하라. 아래는 사용자가 \"안녕하세요\"를 입력한 경우의 출력 결과이다.\n",
    "\n",
    "> 안녕하세요  \n",
    "\n",
    "안녕하세요안녕하세요"
   ]
  },
  {
   "cell_type": "code",
   "execution_count": 102,
   "id": "e265c60f",
   "metadata": {},
   "outputs": [
    {
     "name": "stdout",
     "output_type": "stream",
     "text": [
      "안녕하세요\n",
      "안녕하세요안녕하세요\n"
     ]
    }
   ],
   "source": [
    "s = input()\n",
    "print(s*2)"
   ]
  },
  {
   "cell_type": "markdown",
   "id": "3e6dc81b",
   "metadata": {},
   "source": [
    "### 112\n",
    "사용자로부터 하나의 숫자를 입력받고, 입력 받은 숫자에 10을 더해 출력하라.\n",
    "\n",
    "> 숫자를 입력하세요: 30\n",
    "\n",
    "40"
   ]
  },
  {
   "cell_type": "code",
   "execution_count": 103,
   "id": "5fc81916",
   "metadata": {},
   "outputs": [
    {
     "name": "stdout",
     "output_type": "stream",
     "text": [
      "30\n",
      "40\n"
     ]
    }
   ],
   "source": [
    "i = int(input())\n",
    "print(i + 10)"
   ]
  },
  {
   "cell_type": "markdown",
   "id": "c0c23eac",
   "metadata": {},
   "source": [
    "### 113\n",
    "사용자로부터 하나의 숫자를 입력 받고 짝수/홀수를 판별하라.\n",
    "\n",
    "> 30  \n",
    "\n",
    "짝수"
   ]
  },
  {
   "cell_type": "code",
   "execution_count": 105,
   "id": "85db5999",
   "metadata": {},
   "outputs": [
    {
     "name": "stdout",
     "output_type": "stream",
     "text": [
      "30\n",
      "짝수\n"
     ]
    }
   ],
   "source": [
    "i = int(input())\n",
    "if i % 2 == 0:\n",
    "    print('짝수')"
   ]
  },
  {
   "cell_type": "markdown",
   "id": "1f908ef1",
   "metadata": {},
   "source": [
    "### 114\n",
    "사용자로부터 값을 입력받은 후 해당 값에 20을 더한 값을 출력하라. 단 사용자가 입력한 값과 20을 더한 계산 값이 255를 초과하는 경우 255를 출력해야 한다.\n",
    "\n",
    "입력값: 200  \n",
    "출력값: 220\n",
    "\n",
    "입력값: 240  \n",
    "출력값: 255"
   ]
  },
  {
   "cell_type": "code",
   "execution_count": 107,
   "id": "1430c1bd",
   "metadata": {},
   "outputs": [
    {
     "name": "stdout",
     "output_type": "stream",
     "text": [
      "200\n",
      "220\n"
     ]
    }
   ],
   "source": [
    "i = int(input())\n",
    "if i+20 >255:\n",
    "    print(255)\n",
    "else: print(i+20)"
   ]
  },
  {
   "cell_type": "code",
   "execution_count": 108,
   "id": "3cbc5284",
   "metadata": {},
   "outputs": [
    {
     "name": "stdout",
     "output_type": "stream",
     "text": [
      "240\n",
      "255\n"
     ]
    }
   ],
   "source": [
    "i = int(input())\n",
    "if i+20 >255:\n",
    "    print(255)\n",
    "else: print(i+20)"
   ]
  },
  {
   "cell_type": "markdown",
   "id": "0cff3f6e",
   "metadata": {},
   "source": [
    "### 115\n",
    "사용자로부터 하나의 값을 입력받은 후 해당 값에 20을 뺀 값을 출력하라. 단 출력 값의 범위는 0~255이다. 예를 들어 결괏값이 0보다 작은 값이되는 경우 0을 출력하고 255보다 큰 값이 되는 경우 255를 출력해야 한다.\n",
    "\n",
    "입력값: 200  \n",
    "출력값: 180\n",
    "\n",
    "입력값: 15  \n",
    "출력값: 0"
   ]
  },
  {
   "cell_type": "code",
   "execution_count": 110,
   "id": "075d8f8a",
   "metadata": {},
   "outputs": [
    {
     "name": "stdout",
     "output_type": "stream",
     "text": [
      "200\n",
      "180\n"
     ]
    }
   ],
   "source": [
    "i = int(input())\n",
    "if i-20 >255:\n",
    "    print(255)\n",
    "elif i-20 < 0:\n",
    "    print(0)\n",
    "else: print(i-20)"
   ]
  },
  {
   "cell_type": "code",
   "execution_count": 111,
   "id": "0951272e",
   "metadata": {},
   "outputs": [
    {
     "name": "stdout",
     "output_type": "stream",
     "text": [
      "15\n",
      "0\n"
     ]
    }
   ],
   "source": [
    "i = int(input())\n",
    "if i-20 >255:\n",
    "    print(255)\n",
    "elif i-20 < 0:\n",
    "    print(0)\n",
    "else: print(i-20)"
   ]
  },
  {
   "cell_type": "markdown",
   "id": "11002095",
   "metadata": {},
   "source": [
    "### 116\n",
    "사용자로부터 입력 받은 시간이 정각인지 판별하라.\n",
    "\n",
    "현재시간:02:00  \n",
    "정각 입니다.  \n",
    "\n",
    "현재시간:03:10  \n",
    "정각이 아닙니다"
   ]
  },
  {
   "cell_type": "code",
   "execution_count": 112,
   "id": "6911cf05",
   "metadata": {},
   "outputs": [
    {
     "name": "stdout",
     "output_type": "stream",
     "text": [
      "현재시간:02:00\n",
      "정각입니다.\n"
     ]
    }
   ],
   "source": [
    "s = input()\n",
    "if s.split(':')[-1] == '00':\n",
    "    print('정각입니다.')\n",
    "else:\n",
    "    print('정각이 아닙니다.')"
   ]
  },
  {
   "cell_type": "code",
   "execution_count": 113,
   "id": "800a42bf",
   "metadata": {},
   "outputs": [
    {
     "name": "stdout",
     "output_type": "stream",
     "text": [
      "현재시간:03:10\n",
      "정각이 아닙니다.\n"
     ]
    }
   ],
   "source": [
    "s = input()\n",
    "if s.split(':')[-1] == '00':\n",
    "    print('정각입니다.')\n",
    "else:\n",
    "    print('정각이 아닙니다.')"
   ]
  },
  {
   "cell_type": "markdown",
   "id": "4ac8ba01",
   "metadata": {},
   "source": [
    "### 117\n",
    "사용자로 입력받은 단어가 아래 fruit 리스트에 포함되어 있는지를 확인하라. 포함되었다면 \"정답입니다\"를 아닐 경우 \"오답입니다\" 출력하라.\n",
    "\n",
    "fruit = [\"사과\", \"포도\", \"홍시\"]\n",
    "\n",
    "좋아하는 과일은? 사과  \n",
    "정답입니다."
   ]
  },
  {
   "cell_type": "code",
   "execution_count": 116,
   "id": "4119cee4",
   "metadata": {},
   "outputs": [
    {
     "name": "stdout",
     "output_type": "stream",
     "text": [
      "좋아하는 과일은? 사과\n",
      "정답입니다.\n"
     ]
    }
   ],
   "source": [
    "s = input('좋아하는 과일은? ')\n",
    "fruit = [\"사과\", \"포도\", \"홍시\"]\n",
    "if s in fruit:\n",
    "    print('정답입니다.')"
   ]
  },
  {
   "cell_type": "markdown",
   "id": "a6c5b690",
   "metadata": {},
   "source": [
    "### 118\n",
    "투자 경고 종목 리스트가 있을 때 사용자로부터 종목명을 입력 받은 후 해당 종목이 투자 경고 종목이라면 '투자 경고 종목입니다'를 아니면 \"투자 경고 종목이 아닙니다.\"를 출력하는 프로그램을 작성하라.\n",
    "\n",
    "warn_investment_list = [\"Microsoft\", \"Google\", \"Naver\", \"Kakao\", \"SAMSUNG\", \"LG\"]"
   ]
  },
  {
   "cell_type": "code",
   "execution_count": 119,
   "id": "3aed913e",
   "metadata": {},
   "outputs": [
    {
     "name": "stdout",
     "output_type": "stream",
     "text": [
      "ws\n",
      "투자 경고 종목이 아닙니다.\n"
     ]
    }
   ],
   "source": [
    "warn_investment_list = [\"Microsoft\", \"Google\", \"Naver\", \"Kakao\", \"SAMSUNG\", \"LG\"]\n",
    "s = input()\n",
    "if s in warn_investment_list:\n",
    "    print('투자 경고 종목입니다.')\n",
    "else: print('투자 경고 종목이 아닙니다.')"
   ]
  },
  {
   "cell_type": "markdown",
   "id": "73a33840",
   "metadata": {},
   "source": [
    "### 119\n",
    "아래와 같이 fruit 딕셔너리가 정의되어 있다. 사용자가 입력한 값이 딕셔너리 키 (key) 값에 포함되었다면 \"정답입니다\"를 아닐 경우 \"오답입니다\" 출력하라.\n",
    "\n",
    "fruit = {\"봄\" : \"딸기\", \"여름\" : \"토마토\", \"가을\" : \"사과\"}  \n",
    "제가좋아하는계절은: 봄  \n",
    "\n",
    "정답입니다."
   ]
  },
  {
   "cell_type": "code",
   "execution_count": 120,
   "id": "2fc49579",
   "metadata": {},
   "outputs": [
    {
     "name": "stdout",
     "output_type": "stream",
     "text": [
      "제가좋아하는계절은: 봄\n",
      "정답입니다.\n"
     ]
    }
   ],
   "source": [
    "fruit = {\"봄\" : \"딸기\", \"여름\" : \"토마토\", \"가을\" : \"사과\"}\n",
    "s = input('제가좋아하는계절은: ')\n",
    "if s in fruit.keys():\n",
    "    print('정답입니다.')"
   ]
  },
  {
   "cell_type": "markdown",
   "id": "783f985a",
   "metadata": {},
   "source": [
    "### 120\n",
    "아래와 같이 fruit 딕셔너리가 정의되어 있다. 사용자가 입력한 값이 딕셔너리 값 (value)에 포함되었다면 \"정답입니다\"를 아닐 경우 \"오답입니다\" 출력하라.\n",
    "\n",
    "fruit = {\"봄\" : \"딸기\", \"여름\" : \"토마토\", \"가을\" : \"사과\"}  \n",
    "\n",
    "좋아하는과일은? 한라봉  \n",
    "오답입니다.  "
   ]
  },
  {
   "cell_type": "code",
   "execution_count": 128,
   "id": "effb397e",
   "metadata": {},
   "outputs": [
    {
     "name": "stdout",
     "output_type": "stream",
     "text": [
      "제가좋아하는과일은? 한라봉\n",
      "오답입니다.\n"
     ]
    }
   ],
   "source": [
    "fruit = {\"봄\" : \"딸기\", \"여름\" : \"토마토\", \"가을\" : \"사과\"}\n",
    "s = input('제가좋아하는과일은? ')\n",
    "print('정답입니다.') if s in fruit.values() else print('오답입니다.')"
   ]
  }
 ],
 "metadata": {
  "kernelspec": {
   "display_name": "Python 3 (ipykernel)",
   "language": "python",
   "name": "python3"
  },
  "language_info": {
   "codemirror_mode": {
    "name": "ipython",
    "version": 3
   },
   "file_extension": ".py",
   "mimetype": "text/x-python",
   "name": "python",
   "nbconvert_exporter": "python",
   "pygments_lexer": "ipython3",
   "version": "3.8.12"
  }
 },
 "nbformat": 4,
 "nbformat_minor": 5
}
